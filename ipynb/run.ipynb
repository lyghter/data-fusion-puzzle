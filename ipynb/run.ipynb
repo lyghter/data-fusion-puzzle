{
 "cells": [
  {
   "cell_type": "code",
   "execution_count": null,
   "id": "1794fb2c",
   "metadata": {},
   "outputs": [],
   "source": []
  },
  {
   "cell_type": "code",
   "execution_count": null,
   "id": "5414ef90",
   "metadata": {},
   "outputs": [],
   "source": []
  },
  {
   "cell_type": "code",
   "execution_count": 1,
   "id": "bb74383f",
   "metadata": {},
   "outputs": [
    {
     "name": "stdout",
     "output_type": "stream",
     "text": [
      "/notebooks/v3\n"
     ]
    }
   ],
   "source": [
    "%cd .."
   ]
  },
  {
   "cell_type": "code",
   "execution_count": 2,
   "id": "adb82c77",
   "metadata": {},
   "outputs": [
    {
     "name": "stdout",
     "output_type": "stream",
     "text": [
      "M\tipynb/run.ipynb\n",
      "M\tlib/data/preprocessor.py\n",
      "M\tmain.py\n",
      "Already on 'dev'\n",
      "Your branch is up to date with 'origin/dev'.\n",
      "[dev b371776] .\n",
      " 3 files changed, 40 insertions(+), 41 deletions(-)\n",
      "Counting objects: 8, done.\n",
      "Delta compression using up to 8 threads.\n",
      "Compressing objects: 100% (8/8), done.\n",
      "Writing objects: 100% (8/8), 1.22 KiB | 1.22 MiB/s, done.\n",
      "Total 8 (delta 6), reused 0 (delta 0)\n",
      "remote: Resolving deltas: 100% (6/6), completed with 6 local objects.\u001b[K\n",
      "To https://github.com/lyghter/data-fusion-puzzle\n",
      "   2a8532b..b371776  dev -> dev\n"
     ]
    }
   ],
   "source": [
    "!git config --global user.email \"lyghter@ya.ru\"\n",
    "!git config --global user.name \"lyghter\"\n",
    "!git checkout dev\n",
    "!git add .\n",
    "!git commit -am .\n",
    "!git push"
   ]
  },
  {
   "cell_type": "code",
   "execution_count": 3,
   "id": "eb34a564",
   "metadata": {},
   "outputs": [
    {
     "name": "stderr",
     "output_type": "stream",
     "text": [
      "Global seed set to 0\n"
     ]
    }
   ],
   "source": [
    "import warnings\n",
    "from lib.run.args import Args\n",
    "from lib.run.estimator import Estimator"
   ]
  },
  {
   "cell_type": "code",
   "execution_count": 4,
   "id": "6b718660",
   "metadata": {},
   "outputs": [],
   "source": [
    "warnings.filterwarnings('ignore')"
   ]
  },
  {
   "cell_type": "code",
   "execution_count": 5,
   "id": "b5ceef33",
   "metadata": {},
   "outputs": [
    {
     "name": "stdout",
     "output_type": "stream",
     "text": [
      "b4cecc091a4856a030c4f3542b04bef4\n"
     ]
    }
   ],
   "source": [
    "a = Args(\n",
    "        splitter = 'Sequential',\n",
    "        splitter_pp = dict(\n",
    "            n_days_in_sample = 30,\n",
    "            bank_quantile = 0.9,\n",
    "            rtk_quantile = 0.9,\n",
    "        ),    \n",
    "        n_folds = 3, # 1000 == 'full train'\n",
    "        fold = 0,\n",
    "    \n",
    "        fit_limit = 10,\n",
    "        val_limit = 10,\n",
    "    \n",
    "        batch_size = 27,    \n",
    "        lr = 1e-3,\n",
    "        n_epochs = 10**10,\n",
    "        check_val_every_n_epoch = 1,\n",
    "    \n",
    "        bb_pp = dict(\n",
    "            block_size = 16,\n",
    "            hidden_size = 128,\n",
    "            intermediate_size = 128,\n",
    "            num_attention_heads = 1,\n",
    "            num_hidden_layers = 1,\n",
    "            num_random_blocks = 1,\n",
    "        ),\n",
    "    \n",
    "        loss = 'MarginLoss',\n",
    "        loss_pp = dict(),\n",
    "    \n",
    "        use_unmatched = bool(0),\n",
    "    \n",
    "        miner = None,\n",
    "        miner_pp = dict(),\n",
    "    \n",
    "        avg_loss = 'mean',\n",
    "        avg_pred = 'mean',\n",
    ")\n",
    "a.update()"
   ]
  },
  {
   "cell_type": "code",
   "execution_count": 6,
   "id": "8385d3ec",
   "metadata": {},
   "outputs": [
    {
     "name": "stdout",
     "output_type": "stream",
     "text": [
      "'epoch=0.ckpt'\t'epoch=2.ckpt'\t'epoch=4.ckpt'\t'epoch=6.ckpt'\t'epoch=8.ckpt'\n",
      "'epoch=1.ckpt'\t'epoch=3.ckpt'\t'epoch=5.ckpt'\t'epoch=7.ckpt'\n"
     ]
    }
   ],
   "source": [
    "!ls log/b4cecc091a4856a030c4f3542b04bef4/version_0/checkpoints"
   ]
  },
  {
   "cell_type": "code",
   "execution_count": 7,
   "id": "096bc95c",
   "metadata": {},
   "outputs": [
    {
     "ename": "NameError",
     "evalue": "name 's' is not defined",
     "output_type": "error",
     "traceback": [
      "\u001b[0;31m---------------------------------------------------------------------------\u001b[0m",
      "\u001b[0;31mNameError\u001b[0m                                 Traceback (most recent call last)",
      "Input \u001b[0;32mIn [7]\u001b[0m, in \u001b[0;36m<cell line: 3>\u001b[0;34m()\u001b[0m\n\u001b[1;32m      1\u001b[0m TASK \u001b[38;5;241m=\u001b[39m \u001b[38;5;124m'\u001b[39m\u001b[38;5;124mpredict\u001b[39m\u001b[38;5;124m'\u001b[39m \u001b[38;5;66;03m#['fit','predict']\u001b[39;00m\n\u001b[1;32m      2\u001b[0m a\u001b[38;5;241m.\u001b[39mdocker \u001b[38;5;241m=\u001b[39m \u001b[38;5;28mbool\u001b[39m(\u001b[38;5;241m1\u001b[39m)\n\u001b[0;32m----> 3\u001b[0m e \u001b[38;5;241m=\u001b[39m \u001b[43mEstimator\u001b[49m\u001b[43m(\u001b[49m\u001b[43ma\u001b[49m\u001b[43m)\u001b[49m \n\u001b[1;32m      4\u001b[0m \u001b[38;5;28mgetattr\u001b[39m(e, TASK)()\n",
      "File \u001b[0;32m/notebooks/v3/lib/run/estimator.py:32\u001b[0m, in \u001b[0;36mEstimator.__init__\u001b[0;34m(s, a)\u001b[0m\n\u001b[1;32m     30\u001b[0m s\u001b[38;5;241m.\u001b[39mdata_dir\u001b[38;5;241m.\u001b[39mmkdir(exist_ok\u001b[38;5;241m=\u001b[39m\u001b[38;5;28;01mTrue\u001b[39;00m)\n\u001b[1;32m     31\u001b[0m \u001b[38;5;28;01mif\u001b[39;00m a\u001b[38;5;241m.\u001b[39mdocker:\n\u001b[0;32m---> 32\u001b[0m     \u001b[43ms\u001b[49m\u001b[38;5;241;43m.\u001b[39;49m\u001b[43mprepare_data_for_matching\u001b[49m\u001b[43m(\u001b[49m\u001b[43m)\u001b[49m\n\u001b[1;32m     33\u001b[0m \u001b[38;5;28;01melse\u001b[39;00m:\n\u001b[1;32m     34\u001b[0m     s\u001b[38;5;241m.\u001b[39mprepare_data_for_puzzle()\n",
      "File \u001b[0;32m/notebooks/v3/lib/run/estimator.py:76\u001b[0m, in \u001b[0;36mEstimator.prepare_data_for_matching\u001b[0;34m(s)\u001b[0m\n\u001b[1;32m     75\u001b[0m \u001b[38;5;28;01mdef\u001b[39;00m \u001b[38;5;21mprepare_data_for_matching\u001b[39m(s):\n\u001b[0;32m---> 76\u001b[0m     \u001b[43mrun_or_pass\u001b[49m\u001b[43m(\u001b[49m\n\u001b[1;32m     77\u001b[0m \u001b[43m         \u001b[49m\u001b[43mPreprocessor\u001b[49m\u001b[43m(\u001b[49m\u001b[43ms\u001b[49m\u001b[38;5;241;43m.\u001b[39;49m\u001b[43ma\u001b[49m\u001b[43m)\u001b[49m\u001b[43m,\u001b[49m\u001b[43m \u001b[49m\u001b[43m{\u001b[49m\n\u001b[1;32m     78\u001b[0m \u001b[43m        \u001b[49m\u001b[38;5;124;43m'\u001b[39;49m\u001b[38;5;124;43mXCP.pt\u001b[39;49m\u001b[38;5;124;43m'\u001b[39;49m\u001b[43m,\u001b[49m\u001b[38;5;124;43m'\u001b[39;49m\u001b[38;5;124;43mYCP.pt\u001b[39;49m\u001b[38;5;124;43m'\u001b[39;49m\u001b[43m,\u001b[49m\u001b[38;5;124;43m'\u001b[39;49m\u001b[38;5;124;43mXTP.pt\u001b[39;49m\u001b[38;5;124;43m'\u001b[39;49m\u001b[43m,\u001b[49m\u001b[38;5;124;43m'\u001b[39;49m\u001b[38;5;124;43mYTP.pt\u001b[39;49m\u001b[38;5;124;43m'\u001b[39;49m\n\u001b[1;32m     79\u001b[0m \u001b[43m    \u001b[49m\u001b[43m}\u001b[49m\u001b[43m)\u001b[49m\n",
      "File \u001b[0;32m/notebooks/v3/lib/run/estimator.py:18\u001b[0m, in \u001b[0;36mrun_or_pass\u001b[0;34m(instance, files)\u001b[0m\n\u001b[1;32m     16\u001b[0m \u001b[38;5;28;01mdef\u001b[39;00m \u001b[38;5;21mrun_or_pass\u001b[39m(instance, files):\n\u001b[1;32m     17\u001b[0m     t0 \u001b[38;5;241m=\u001b[39m time\u001b[38;5;241m.\u001b[39mtime()\n\u001b[0;32m---> 18\u001b[0m     \u001b[38;5;28;01mif\u001b[39;00m \u001b[38;5;129;01mnot\u001b[39;00m files\u001b[38;5;241m.\u001b[39missubset(\u001b[43ms\u001b[49m\u001b[38;5;241m.\u001b[39mdata_files):  \n\u001b[1;32m     19\u001b[0m         instance\u001b[38;5;241m.\u001b[39mrun()\n\u001b[1;32m     20\u001b[0m     t1 \u001b[38;5;241m=\u001b[39m time\u001b[38;5;241m.\u001b[39mtime()\n",
      "\u001b[0;31mNameError\u001b[0m: name 's' is not defined"
     ]
    }
   ],
   "source": [
    "TASK = 'predict' #['fit','predict']\n",
    "a.docker = bool(1)\n",
    "e = Estimator(a) \n",
    "getattr(e, TASK)()"
   ]
  },
  {
   "cell_type": "code",
   "execution_count": null,
   "id": "b876a2b8",
   "metadata": {},
   "outputs": [],
   "source": []
  },
  {
   "cell_type": "code",
   "execution_count": null,
   "id": "87804a09",
   "metadata": {},
   "outputs": [],
   "source": []
  },
  {
   "cell_type": "code",
   "execution_count": null,
   "id": "44a3117f",
   "metadata": {},
   "outputs": [],
   "source": [
    "1"
   ]
  },
  {
   "cell_type": "code",
   "execution_count": null,
   "id": "3974068e",
   "metadata": {},
   "outputs": [],
   "source": [
    "1"
   ]
  },
  {
   "cell_type": "code",
   "execution_count": null,
   "id": "df32de80",
   "metadata": {},
   "outputs": [],
   "source": []
  },
  {
   "cell_type": "code",
   "execution_count": null,
   "id": "43997337",
   "metadata": {},
   "outputs": [],
   "source": []
  },
  {
   "cell_type": "code",
   "execution_count": null,
   "id": "f2bcf26f",
   "metadata": {},
   "outputs": [],
   "source": []
  }
 ],
 "metadata": {
  "kernelspec": {
   "display_name": "Python 3 (ipykernel)",
   "language": "python",
   "name": "python3"
  },
  "language_info": {
   "codemirror_mode": {
    "name": "ipython",
    "version": 3
   },
   "file_extension": ".py",
   "mimetype": "text/x-python",
   "name": "python",
   "nbconvert_exporter": "python",
   "pygments_lexer": "ipython3",
   "version": "3.9.7"
  }
 },
 "nbformat": 4,
 "nbformat_minor": 5
}
