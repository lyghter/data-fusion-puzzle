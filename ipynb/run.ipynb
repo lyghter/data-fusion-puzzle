{
 "cells": [
  {
   "cell_type": "code",
   "execution_count": null,
   "id": "ec65476c",
   "metadata": {},
   "outputs": [],
   "source": []
  },
  {
   "cell_type": "code",
   "execution_count": null,
   "id": "3f914108",
   "metadata": {},
   "outputs": [],
   "source": []
  },
  {
   "cell_type": "code",
   "execution_count": 1,
   "id": "ce65b320",
   "metadata": {},
   "outputs": [],
   "source": [
    "# !rm -rf /notebooks/v3/data"
   ]
  },
  {
   "cell_type": "code",
   "execution_count": 2,
   "id": "4f97ccc4",
   "metadata": {},
   "outputs": [
    {
     "name": "stdout",
     "output_type": "stream",
     "text": [
      "/notebooks/v3\n"
     ]
    }
   ],
   "source": [
    "%cd .."
   ]
  },
  {
   "cell_type": "code",
   "execution_count": 3,
   "id": "aeacdd73",
   "metadata": {},
   "outputs": [
    {
     "name": "stdout",
     "output_type": "stream",
     "text": [
      "M\tipynb/main.ipynb\n",
      "M\tipynb/run.ipynb\n",
      "M\tlib/data/preprocessor.py\n",
      "M\tlib/run/estimator.py\n",
      "Already on 'dev'\n",
      "Your branch is up to date with 'origin/dev'.\n",
      "[dev 93bffdf] .\n",
      " 4 files changed, 67 insertions(+), 65 deletions(-)\n",
      "Counting objects: 10, done.\n",
      "Delta compression using up to 8 threads.\n",
      "Compressing objects: 100% (10/10), done.\n",
      "Writing objects: 100% (10/10), 1.82 KiB | 1.82 MiB/s, done.\n",
      "Total 10 (delta 8), reused 0 (delta 0)\n",
      "remote: Resolving deltas: 100% (8/8), completed with 8 local objects.\u001b[K\n",
      "To https://github.com/lyghter/data-fusion-puzzle\n",
      "   1e3932b..93bffdf  dev -> dev\n"
     ]
    }
   ],
   "source": [
    "!git config --global user.email \"lyghter@ya.ru\"\n",
    "!git config --global user.name \"lyghter\"\n",
    "!git checkout dev\n",
    "!git add .\n",
    "!git commit -am .\n",
    "!git push"
   ]
  },
  {
   "cell_type": "code",
   "execution_count": 4,
   "id": "a2c63c88",
   "metadata": {},
   "outputs": [
    {
     "name": "stderr",
     "output_type": "stream",
     "text": [
      "Global seed set to 0\n"
     ]
    }
   ],
   "source": [
    "import warnings\n",
    "from lib.run.args import Args\n",
    "from lib.run.estimator import Estimator"
   ]
  },
  {
   "cell_type": "code",
   "execution_count": 5,
   "id": "33435452",
   "metadata": {},
   "outputs": [],
   "source": [
    "warnings.filterwarnings('ignore')"
   ]
  },
  {
   "cell_type": "code",
   "execution_count": 6,
   "id": "da4b775e",
   "metadata": {},
   "outputs": [
    {
     "name": "stdout",
     "output_type": "stream",
     "text": [
      "b4cecc091a4856a030c4f3542b04bef4\n"
     ]
    }
   ],
   "source": [
    "a = Args(\n",
    "        splitter = 'Sequential',\n",
    "        splitter_pp = dict(\n",
    "            n_days_in_sample = 30,\n",
    "            bank_quantile = 0.9,\n",
    "            rtk_quantile = 0.9,\n",
    "        ),    \n",
    "        n_folds = 3, # 1000 == 'full train'\n",
    "        fold = 0,\n",
    "    \n",
    "        fit_limit = 10,\n",
    "        val_limit = 10,\n",
    "    \n",
    "        batch_size = 27,    \n",
    "        lr = 1e-3,\n",
    "        n_epochs = 10**10,\n",
    "        check_val_every_n_epoch = 1,\n",
    "    \n",
    "        bb_pp = dict(\n",
    "            block_size = 16,\n",
    "            hidden_size = 128,\n",
    "            intermediate_size = 128,\n",
    "            num_attention_heads = 1,\n",
    "            num_hidden_layers = 1,\n",
    "            num_random_blocks = 1,\n",
    "        ),\n",
    "    \n",
    "        loss = 'MarginLoss',\n",
    "        loss_pp = dict(),\n",
    "    \n",
    "        use_unmatched = bool(0),\n",
    "    \n",
    "        miner = None,\n",
    "        miner_pp = dict(),\n",
    "    \n",
    "        avg_loss = 'mean',\n",
    "        avg_pred = 'mean',\n",
    ")\n",
    "a.update()"
   ]
  },
  {
   "cell_type": "code",
   "execution_count": 7,
   "id": "8105898e",
   "metadata": {},
   "outputs": [
    {
     "name": "stdout",
     "output_type": "stream",
     "text": [
      "'epoch=0.ckpt'\t'epoch=2.ckpt'\t'epoch=4.ckpt'\t'epoch=6.ckpt'\t'epoch=8.ckpt'\n",
      "'epoch=1.ckpt'\t'epoch=3.ckpt'\t'epoch=5.ckpt'\t'epoch=7.ckpt'\n"
     ]
    }
   ],
   "source": [
    "!ls log/b4cecc091a4856a030c4f3542b04bef4/version_0/checkpoints"
   ]
  },
  {
   "cell_type": "code",
   "execution_count": 8,
   "id": "ee7e9dc3",
   "metadata": {},
   "outputs": [
    {
     "ename": "TypeError",
     "evalue": "eval() arg 1 must be a string, bytes or code object",
     "output_type": "error",
     "traceback": [
      "\u001b[0;31m---------------------------------------------------------------------------\u001b[0m",
      "\u001b[0;31mTypeError\u001b[0m                                 Traceback (most recent call last)",
      "Input \u001b[0;32mIn [8]\u001b[0m, in \u001b[0;36m<cell line: 1>\u001b[0;34m()\u001b[0m\n\u001b[0;32m----> 1\u001b[0m e \u001b[38;5;241m=\u001b[39m \u001b[43mEstimator\u001b[49m\u001b[43m(\u001b[49m\u001b[43ma\u001b[49m\u001b[43m)\u001b[49m\n",
      "File \u001b[0;32m/notebooks/v3/lib/run/estimator.py:24\u001b[0m, in \u001b[0;36mEstimator.__init__\u001b[0;34m(s, a)\u001b[0m\n\u001b[1;32m     22\u001b[0m s\u001b[38;5;241m.\u001b[39mdata_dir\u001b[38;5;241m.\u001b[39mmkdir(exist_ok\u001b[38;5;241m=\u001b[39m\u001b[38;5;28;01mTrue\u001b[39;00m)\n\u001b[1;32m     23\u001b[0m s\u001b[38;5;241m.\u001b[39mdata_files \u001b[38;5;241m=\u001b[39m \u001b[38;5;28mset\u001b[39m(os\u001b[38;5;241m.\u001b[39mlistdir(s\u001b[38;5;241m.\u001b[39mdata_dir))\n\u001b[0;32m---> 24\u001b[0m \u001b[43ms\u001b[49m\u001b[38;5;241;43m.\u001b[39;49m\u001b[43mprepare_data_for_puzzle\u001b[49m\u001b[43m(\u001b[49m\u001b[43m)\u001b[49m\n\u001b[1;32m     25\u001b[0m s\u001b[38;5;241m.\u001b[39mprepare_data_for_matching()\n\u001b[1;32m     26\u001b[0m s\u001b[38;5;241m.\u001b[39mload_encoders()\n",
      "File \u001b[0;32m/notebooks/v3/lib/run/estimator.py:35\u001b[0m, in \u001b[0;36mEstimator.prepare_data_for_puzzle\u001b[0;34m(s)\u001b[0m\n\u001b[1;32m     33\u001b[0m     \u001b[38;5;28;01mdef\u001b[39;00m \u001b[38;5;21mprepare_data_for_puzzle\u001b[39m(s):\n\u001b[1;32m     34\u001b[0m         a \u001b[38;5;241m=\u001b[39m s\u001b[38;5;241m.\u001b[39ma\n\u001b[0;32m---> 35\u001b[0m         \u001b[43ms\u001b[49m\u001b[38;5;241;43m.\u001b[39;49m\u001b[43mrun_or_pass\u001b[49m\u001b[43m(\u001b[49m\n\u001b[1;32m     36\u001b[0m \u001b[43m            \u001b[49m\u001b[43mDownloader\u001b[49m\u001b[43m,\u001b[49m\u001b[43m \u001b[49m\u001b[43m{\u001b[49m\n\u001b[1;32m     37\u001b[0m \u001b[43m            \u001b[49m\u001b[38;5;124;43m'\u001b[39;49m\u001b[38;5;124;43mtrain_matching.csv\u001b[39;49m\u001b[38;5;124;43m'\u001b[39;49m\u001b[43m,\u001b[49m\n\u001b[1;32m     38\u001b[0m \u001b[43m            \u001b[49m\u001b[38;5;124;43m'\u001b[39;49m\u001b[38;5;124;43mmcc_codes.csv\u001b[39;49m\u001b[38;5;124;43m'\u001b[39;49m\u001b[43m,\u001b[49m\n\u001b[1;32m     39\u001b[0m \u001b[43m            \u001b[49m\u001b[38;5;124;43m'\u001b[39;49m\u001b[38;5;124;43mclick_categories.csv\u001b[39;49m\u001b[38;5;124;43m'\u001b[39;49m\u001b[43m,\u001b[49m\n\u001b[1;32m     40\u001b[0m \u001b[43m            \u001b[49m\u001b[38;5;124;43m'\u001b[39;49m\u001b[38;5;124;43mcurrency_rk.csv\u001b[39;49m\u001b[38;5;124;43m'\u001b[39;49m\u001b[43m,\u001b[49m\n\u001b[1;32m     41\u001b[0m \u001b[43m            \u001b[49m\u001b[38;5;124;43m'\u001b[39;49m\u001b[38;5;124;43mpuzzle.csv\u001b[39;49m\u001b[38;5;124;43m'\u001b[39;49m\u001b[43m,\u001b[49m\n\u001b[1;32m     42\u001b[0m \u001b[43m            \u001b[49m\u001b[38;5;124;43m'\u001b[39;49m\u001b[38;5;124;43msample_submission.csv\u001b[39;49m\u001b[38;5;124;43m'\u001b[39;49m\u001b[43m,\u001b[49m\n\u001b[1;32m     43\u001b[0m \u001b[43m            \u001b[49m\u001b[38;5;124;43m'\u001b[39;49m\u001b[38;5;124;43mtransactions.feather\u001b[39;49m\u001b[38;5;124;43m'\u001b[39;49m\u001b[43m,\u001b[49m\n\u001b[1;32m     44\u001b[0m \u001b[43m        \u001b[49m\u001b[43m}\u001b[49m\u001b[43m)\u001b[49m\n\u001b[1;32m     45\u001b[0m         s\u001b[38;5;241m.\u001b[39mrun_or_pass(\n\u001b[1;32m     46\u001b[0m             EventEncoder, {\n\u001b[1;32m     47\u001b[0m             \u001b[38;5;124m'\u001b[39m\u001b[38;5;124mbank.feather\u001b[39m\u001b[38;5;124m'\u001b[39m,\n\u001b[0;32m   (...)\u001b[0m\n\u001b[1;32m     50\u001b[0m \u001b[38;5;66;03m#             'clickstreams_events.feather',\u001b[39;00m\n\u001b[1;32m     51\u001b[0m         })\n\u001b[1;32m     52\u001b[0m         s\u001b[38;5;241m.\u001b[39mrun_or_pass(\n\u001b[1;32m     53\u001b[0m             UidEncoder, {\n\u001b[1;32m     54\u001b[0m             \u001b[38;5;124m'\u001b[39m\u001b[38;5;124mTRAIN.feather\u001b[39m\u001b[38;5;124m'\u001b[39m,\n\u001b[0;32m   (...)\u001b[0m\n\u001b[1;32m     57\u001b[0m \u001b[38;5;66;03m#             'clickstreams_events_uids.feather',\u001b[39;00m\n\u001b[1;32m     58\u001b[0m         })  \n",
      "File \u001b[0;32m/notebooks/v3/lib/run/estimator.py:73\u001b[0m, in \u001b[0;36mEstimator.run_or_pass\u001b[0;34m(s, class_name, files)\u001b[0m\n\u001b[1;32m     72\u001b[0m \u001b[38;5;28;01mdef\u001b[39;00m \u001b[38;5;21mrun_or_pass\u001b[39m(s, class_name, files):\n\u001b[0;32m---> 73\u001b[0m     Class \u001b[38;5;241m=\u001b[39m \u001b[38;5;28;43meval\u001b[39;49m\u001b[43m(\u001b[49m\u001b[43mclass_name\u001b[49m\u001b[43m)\u001b[49m\n\u001b[1;32m     74\u001b[0m     t0 \u001b[38;5;241m=\u001b[39m time\u001b[38;5;241m.\u001b[39mtime()\n\u001b[1;32m     75\u001b[0m     \u001b[38;5;28;01mif\u001b[39;00m \u001b[38;5;129;01mnot\u001b[39;00m files\u001b[38;5;241m.\u001b[39missubset(s\u001b[38;5;241m.\u001b[39mdata_files):  \n",
      "\u001b[0;31mTypeError\u001b[0m: eval() arg 1 must be a string, bytes or code object"
     ]
    }
   ],
   "source": [
    "e = Estimator(a) "
   ]
  },
  {
   "cell_type": "code",
   "execution_count": null,
   "id": "14c2f748",
   "metadata": {},
   "outputs": [],
   "source": []
  },
  {
   "cell_type": "code",
   "execution_count": null,
   "id": "341c674f",
   "metadata": {},
   "outputs": [],
   "source": []
  },
  {
   "cell_type": "code",
   "execution_count": null,
   "id": "4b7a8efb",
   "metadata": {},
   "outputs": [],
   "source": [
    "e.fit()"
   ]
  },
  {
   "cell_type": "code",
   "execution_count": null,
   "id": "1c6aac56",
   "metadata": {},
   "outputs": [],
   "source": [
    "# e.predict_puzzle()"
   ]
  },
  {
   "cell_type": "code",
   "execution_count": null,
   "id": "aa6aea9b",
   "metadata": {},
   "outputs": [],
   "source": [
    "# e.predict_matching()"
   ]
  },
  {
   "cell_type": "code",
   "execution_count": null,
   "id": "b792fdad",
   "metadata": {},
   "outputs": [],
   "source": []
  },
  {
   "cell_type": "code",
   "execution_count": null,
   "id": "ae20a61f",
   "metadata": {},
   "outputs": [],
   "source": []
  },
  {
   "cell_type": "code",
   "execution_count": null,
   "id": "2a6d4c32",
   "metadata": {},
   "outputs": [],
   "source": [
    "1/0"
   ]
  },
  {
   "cell_type": "code",
   "execution_count": null,
   "id": "15048989",
   "metadata": {},
   "outputs": [],
   "source": []
  },
  {
   "cell_type": "code",
   "execution_count": null,
   "id": "70f37046",
   "metadata": {},
   "outputs": [],
   "source": []
  },
  {
   "cell_type": "code",
   "execution_count": null,
   "id": "62e644e0",
   "metadata": {},
   "outputs": [],
   "source": []
  }
 ],
 "metadata": {
  "kernelspec": {
   "display_name": "Python 3 (ipykernel)",
   "language": "python",
   "name": "python3"
  },
  "language_info": {
   "codemirror_mode": {
    "name": "ipython",
    "version": 3
   },
   "file_extension": ".py",
   "mimetype": "text/x-python",
   "name": "python",
   "nbconvert_exporter": "python",
   "pygments_lexer": "ipython3",
   "version": "3.9.7"
  }
 },
 "nbformat": 4,
 "nbformat_minor": 5
}
