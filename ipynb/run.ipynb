{
 "cells": [
  {
   "cell_type": "code",
   "execution_count": null,
   "id": "4edcc654",
   "metadata": {},
   "outputs": [],
   "source": []
  },
  {
   "cell_type": "code",
   "execution_count": 1,
   "id": "1be1bd97",
   "metadata": {},
   "outputs": [
    {
     "name": "stdout",
     "output_type": "stream",
     "text": [
      "/notebooks/data-fusion-puzzle\n"
     ]
    }
   ],
   "source": [
    "%cd .."
   ]
  },
  {
   "cell_type": "code",
   "execution_count": 2,
   "id": "7add0a59",
   "metadata": {},
   "outputs": [
    {
     "name": "stderr",
     "output_type": "stream",
     "text": [
      "Global seed set to 0\n"
     ]
    }
   ],
   "source": [
    "import warnings\n",
    "from lib.run.args import Args\n",
    "from lib.run.estimator import Estimator"
   ]
  },
  {
   "cell_type": "code",
   "execution_count": 3,
   "id": "f5c5a051",
   "metadata": {},
   "outputs": [],
   "source": [
    "warnings.filterwarnings('ignore')"
   ]
  },
  {
   "cell_type": "code",
   "execution_count": 4,
   "id": "8203bb93",
   "metadata": {},
   "outputs": [
    {
     "name": "stdout",
     "output_type": "stream",
     "text": [
      "c4d83576a6e0e92a9a3d21370294666e\n"
     ]
    }
   ],
   "source": [
    "a = Args(\n",
    "        splitter = 'Sequential',\n",
    "        splitter_pp = dict(\n",
    "            n_days_in_sample = 30,\n",
    "            bank_quantile = 0.9,\n",
    "            rtk_quantile = 0.9,\n",
    "        ),    \n",
    "        n_folds = 3,# 1000 == 'full train'\n",
    "        fold = 0,\n",
    "    \n",
    "        fit_limit = 10,\n",
    "        val_limit = 10,\n",
    "    \n",
    "        batch_size = 32,    \n",
    "        lr = 2e-3,\n",
    "        n_epochs = 10,\n",
    "        check_val_every_n_epoch = 1,\n",
    "    \n",
    "        bb_pp = dict(\n",
    "            block_size = 16,\n",
    "            hidden_size = 128,\n",
    "            intermediate_size = 128,\n",
    "            num_attention_heads = 1,\n",
    "            num_hidden_layers = 1,\n",
    "            num_random_blocks = 1,\n",
    "        ),\n",
    "    \n",
    "        loss = 'MarginLoss',\n",
    "        loss_pp = dict(),\n",
    "    \n",
    "        use_unmatched = bool(0),\n",
    "    \n",
    "        miner = None,\n",
    "        miner_pp = dict(),\n",
    "    \n",
    "        avg_loss = 'mean',\n",
    "        avg_pred = 'mean',\n",
    ")\n",
    "a.update()"
   ]
  },
  {
   "cell_type": "code",
   "execution_count": null,
   "id": "14c716e6",
   "metadata": {},
   "outputs": [
    {
     "name": "stdout",
     "output_type": "stream",
     "text": [
      "--------------------\n",
      "3.337860107421875e-06\n",
      "--------------------\n",
      "--------------------\n",
      "1.1920928955078125e-06\n",
      "--------------------\n",
      "--------------------\n",
      "1.430511474609375e-06\n",
      "--------------------\n",
      "--------------------\n",
      "1.1920928955078125e-06\n",
      "--------------------\n",
      "load XT.pt\n",
      "load XC.pt\n"
     ]
    },
    {
     "name": "stderr",
     "output_type": "stream",
     "text": [
      "Using 16bit native Automatic Mixed Precision (AMP)\n",
      "GPU available: True, used: True\n",
      "TPU available: False, using: 0 TPU cores\n",
      "IPU available: False, using: 0 IPUs\n",
      "LOCAL_RANK: 0 - CUDA_VISIBLE_DEVICES: [0]\n"
     ]
    },
    {
     "name": "stdout",
     "output_type": "stream",
     "text": [
      "load YT.pt\n",
      "load YC.pt\n",
      "bank_len 120\n",
      "rtk_len 2256\n",
      "load TRAIN.feather\n",
      "F: 9780\n",
      "V: 4891\n"
     ]
    },
    {
     "name": "stderr",
     "output_type": "stream",
     "text": [
      "\n",
      "  | Name     | Type         | Params\n",
      "------------------------------------------\n",
      "0 | enc      | BigBirdModel | 506 K \n",
      "1 | loss     | MarginLoss   | 0     \n",
      "2 | distance | LpDistance   | 0     \n",
      "------------------------------------------\n",
      "506 K     Trainable params\n",
      "0         Non-trainable params\n",
      "506 K     Total params\n",
      "1.014     Total estimated model params size (MB)\n"
     ]
    },
    {
     "data": {
      "application/vnd.jupyter.widget-view+json": {
       "model_id": "49771fc33a9341ae8fa92b8d9894b8e4",
       "version_major": 2,
       "version_minor": 0
      },
      "text/plain": [
       "Training: 0it [00:00, ?it/s]"
      ]
     },
     "metadata": {},
     "output_type": "display_data"
    },
    {
     "data": {
      "application/vnd.jupyter.widget-view+json": {
       "model_id": "",
       "version_major": 2,
       "version_minor": 0
      },
      "text/plain": [
       "Validating: 0it [00:00, ?it/s]"
      ]
     },
     "metadata": {},
     "output_type": "display_data"
    },
    {
     "name": "stdout",
     "output_type": "stream",
     "text": [
      "     loss     R1     MRR       P\n",
      "0  0.2685  0.032  0.0167  0.3704\n"
     ]
    },
    {
     "data": {
      "application/vnd.jupyter.widget-view+json": {
       "model_id": "",
       "version_major": 2,
       "version_minor": 0
      },
      "text/plain": [
       "Validating: 0it [00:00, ?it/s]"
      ]
     },
     "metadata": {},
     "output_type": "display_data"
    },
    {
     "name": "stdout",
     "output_type": "stream",
     "text": [
      "     loss      R1     MRR       P\n",
      "0  0.2685  0.0320  0.0167  0.3704\n",
      "1  0.2375  0.0408  0.0215  0.3963\n"
     ]
    },
    {
     "data": {
      "application/vnd.jupyter.widget-view+json": {
       "model_id": "",
       "version_major": 2,
       "version_minor": 0
      },
      "text/plain": [
       "Validating: 0it [00:00, ?it/s]"
      ]
     },
     "metadata": {},
     "output_type": "display_data"
    },
    {
     "name": "stdout",
     "output_type": "stream",
     "text": [
      "     loss      R1     MRR       P\n",
      "0  0.2685  0.0320  0.0167  0.3704\n",
      "1  0.2375  0.0408  0.0215  0.3963\n",
      "2  0.2384  0.0450  0.0237  0.4370\n"
     ]
    },
    {
     "data": {
      "application/vnd.jupyter.widget-view+json": {
       "model_id": "",
       "version_major": 2,
       "version_minor": 0
      },
      "text/plain": [
       "Validating: 0it [00:00, ?it/s]"
      ]
     },
     "metadata": {},
     "output_type": "display_data"
    },
    {
     "name": "stdout",
     "output_type": "stream",
     "text": [
      "     loss      R1     MRR       P\n",
      "0  0.2685  0.0320  0.0167  0.3704\n",
      "1  0.2375  0.0408  0.0215  0.3963\n",
      "2  0.2384  0.0450  0.0237  0.4370\n",
      "3  0.2280  0.0494  0.0262  0.4333\n"
     ]
    },
    {
     "data": {
      "application/vnd.jupyter.widget-view+json": {
       "model_id": "",
       "version_major": 2,
       "version_minor": 0
      },
      "text/plain": [
       "Validating: 0it [00:00, ?it/s]"
      ]
     },
     "metadata": {},
     "output_type": "display_data"
    },
    {
     "name": "stdout",
     "output_type": "stream",
     "text": [
      "     loss      R1     MRR       P\n",
      "0  0.2685  0.0320  0.0167  0.3704\n",
      "1  0.2375  0.0408  0.0215  0.3963\n",
      "2  0.2384  0.0450  0.0237  0.4370\n",
      "3  0.2280  0.0494  0.0262  0.4333\n",
      "4  0.2228  0.0536  0.0285  0.4556\n"
     ]
    },
    {
     "data": {
      "application/vnd.jupyter.widget-view+json": {
       "model_id": "",
       "version_major": 2,
       "version_minor": 0
      },
      "text/plain": [
       "Validating: 0it [00:00, ?it/s]"
      ]
     },
     "metadata": {},
     "output_type": "display_data"
    },
    {
     "name": "stdout",
     "output_type": "stream",
     "text": [
      "     loss      R1     MRR       P\n",
      "0  0.2685  0.0320  0.0167  0.3704\n",
      "1  0.2375  0.0408  0.0215  0.3963\n",
      "2  0.2384  0.0450  0.0237  0.4370\n",
      "3  0.2280  0.0494  0.0262  0.4333\n",
      "4  0.2228  0.0536  0.0285  0.4556\n",
      "5  0.2253  0.0538  0.0285  0.4741\n"
     ]
    },
    {
     "data": {
      "application/vnd.jupyter.widget-view+json": {
       "model_id": "",
       "version_major": 2,
       "version_minor": 0
      },
      "text/plain": [
       "Validating: 0it [00:00, ?it/s]"
      ]
     },
     "metadata": {},
     "output_type": "display_data"
    },
    {
     "name": "stdout",
     "output_type": "stream",
     "text": [
      "     loss      R1     MRR       P\n",
      "0  0.2685  0.0320  0.0167  0.3704\n",
      "1  0.2375  0.0408  0.0215  0.3963\n",
      "2  0.2384  0.0450  0.0237  0.4370\n",
      "3  0.2280  0.0494  0.0262  0.4333\n",
      "4  0.2228  0.0536  0.0285  0.4556\n",
      "5  0.2253  0.0538  0.0285  0.4741\n",
      "6  0.2211  0.0527  0.0279  0.4889\n"
     ]
    },
    {
     "data": {
      "application/vnd.jupyter.widget-view+json": {
       "model_id": "",
       "version_major": 2,
       "version_minor": 0
      },
      "text/plain": [
       "Validating: 0it [00:00, ?it/s]"
      ]
     },
     "metadata": {},
     "output_type": "display_data"
    },
    {
     "name": "stdout",
     "output_type": "stream",
     "text": [
      "     loss      R1     MRR       P\n",
      "0  0.2685  0.0320  0.0167  0.3704\n",
      "1  0.2375  0.0408  0.0215  0.3963\n",
      "2  0.2384  0.0450  0.0237  0.4370\n",
      "3  0.2280  0.0494  0.0262  0.4333\n",
      "4  0.2228  0.0536  0.0285  0.4556\n",
      "5  0.2253  0.0538  0.0285  0.4741\n",
      "6  0.2211  0.0527  0.0279  0.4889\n",
      "7  0.2221  0.0541  0.0286  0.4926\n"
     ]
    }
   ],
   "source": [
    "TASK = 'fit' #['fit','predict']\n",
    "e = Estimator(a) \n",
    "getattr(e, TASK)()"
   ]
  },
  {
   "cell_type": "code",
   "execution_count": null,
   "id": "1da6d581",
   "metadata": {},
   "outputs": [],
   "source": []
  },
  {
   "cell_type": "code",
   "execution_count": null,
   "id": "6e7c21e2",
   "metadata": {},
   "outputs": [],
   "source": []
  },
  {
   "cell_type": "code",
   "execution_count": null,
   "id": "2310711e",
   "metadata": {},
   "outputs": [],
   "source": []
  }
 ],
 "metadata": {
  "kernelspec": {
   "display_name": "Python 3 (ipykernel)",
   "language": "python",
   "name": "python3"
  },
  "language_info": {
   "codemirror_mode": {
    "name": "ipython",
    "version": 3
   },
   "file_extension": ".py",
   "mimetype": "text/x-python",
   "name": "python",
   "nbconvert_exporter": "python",
   "pygments_lexer": "ipython3",
   "version": "3.9.7"
  }
 },
 "nbformat": 4,
 "nbformat_minor": 5
}
