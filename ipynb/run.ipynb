{
 "cells": [
  {
   "cell_type": "code",
   "execution_count": null,
   "id": "f6a44a40",
   "metadata": {},
   "outputs": [],
   "source": []
  },
  {
   "cell_type": "code",
   "execution_count": null,
   "id": "994081a7",
   "metadata": {},
   "outputs": [],
   "source": []
  },
  {
   "cell_type": "code",
   "execution_count": 1,
   "id": "39896cea",
   "metadata": {},
   "outputs": [],
   "source": [
    "# !rm -rf /notebooks/v3/data"
   ]
  },
  {
   "cell_type": "code",
   "execution_count": 2,
   "id": "67b69834",
   "metadata": {},
   "outputs": [
    {
     "name": "stdout",
     "output_type": "stream",
     "text": [
      "/notebooks/v3\n"
     ]
    }
   ],
   "source": [
    "%cd .."
   ]
  },
  {
   "cell_type": "code",
   "execution_count": 3,
   "id": "eed0107c",
   "metadata": {},
   "outputs": [
    {
     "name": "stdout",
     "output_type": "stream",
     "text": [
      "M\tipynb/main.ipynb\n",
      "M\tipynb/run.ipynb\n",
      "M\tlib/base/__init__.py\n",
      "D\tlib/base/dataframe.py\n",
      "M\tlib/data/downloader.py\n",
      "M\tlib/data/encoder/event.py\n",
      "M\tlib/data/encoder/uid.py\n",
      "M\tlib/data/io.py\n",
      "M\tlib/run/estimator.py\n",
      "Already on 'dev'\n",
      "Your branch is up to date with 'origin/dev'.\n",
      "[dev f477b70] .\n",
      " 10 files changed, 609 insertions(+), 111 deletions(-)\n",
      " delete mode 100644 lib/base/dataframe.py\n",
      " create mode 100644 lib/base/reducer.py\n",
      "Counting objects: 17, done.\n",
      "Delta compression using up to 8 threads.\n",
      "Compressing objects: 100% (17/17), done.\n",
      "Writing objects: 100% (17/17), 5.98 KiB | 2.99 MiB/s, done.\n",
      "Total 17 (delta 12), reused 0 (delta 0)\n",
      "remote: Resolving deltas: 100% (12/12), completed with 11 local objects.\u001b[K\n",
      "To https://github.com/lyghter/data-fusion-puzzle\n",
      "   c6ca557..f477b70  dev -> dev\n"
     ]
    }
   ],
   "source": [
    "!git config --global user.email \"lyghter@ya.ru\"\n",
    "!git config --global user.name \"lyghter\"\n",
    "!git checkout dev\n",
    "!git add .\n",
    "!git commit -am .\n",
    "!git push"
   ]
  },
  {
   "cell_type": "code",
   "execution_count": 4,
   "id": "6fe77b72",
   "metadata": {},
   "outputs": [
    {
     "name": "stderr",
     "output_type": "stream",
     "text": [
      "Global seed set to 0\n"
     ]
    },
    {
     "ename": "SyntaxError",
     "evalue": "invalid syntax (reducer.py, line 10)",
     "output_type": "error",
     "traceback": [
      "Traceback \u001b[0;36m(most recent call last)\u001b[0m:\n",
      "  File \u001b[1;32m/opt/conda/lib/python3.9/site-packages/IPython/core/interactiveshell.py:3361\u001b[0m in \u001b[1;35mrun_code\u001b[0m\n    exec(code_obj, self.user_global_ns, self.user_ns)\n",
      "  Input \u001b[1;32mIn [4]\u001b[0m in \u001b[1;35m<cell line: 2>\u001b[0m\n    from lib.run.args import Args\n",
      "  File \u001b[1;32m/notebooks/v3/lib/run/args.py:5\u001b[0m in \u001b[1;35m<module>\u001b[0m\n    from ..base import *\n",
      "\u001b[0;36m  File \u001b[0;32m/notebooks/v3/lib/base/__init__.py:7\u001b[0;36m in \u001b[0;35m<module>\u001b[0;36m\u001b[0m\n\u001b[0;31m    from .reducer import Reducer\u001b[0m\n",
      "\u001b[0;36m  File \u001b[0;32m/notebooks/v3/lib/base/reducer.py:10\u001b[0;36m\u001b[0m\n\u001b[0;31m    if x_type_name=='DataFrame'\u001b[0m\n\u001b[0m                               ^\u001b[0m\n\u001b[0;31mSyntaxError\u001b[0m\u001b[0;31m:\u001b[0m invalid syntax\n"
     ]
    }
   ],
   "source": [
    "import warnings\n",
    "from lib.run.args import Args\n",
    "from lib.run.estimator import Estimator"
   ]
  },
  {
   "cell_type": "code",
   "execution_count": null,
   "id": "8ac0bd3a",
   "metadata": {},
   "outputs": [],
   "source": [
    "warnings.filterwarnings('ignore')"
   ]
  },
  {
   "cell_type": "code",
   "execution_count": null,
   "id": "08e15b34",
   "metadata": {},
   "outputs": [],
   "source": [
    "x = torch.tensor([1])\n",
    "x.to(torch.uint8)       \n",
    "  "
   ]
  },
  {
   "cell_type": "code",
   "execution_count": null,
   "id": "510bff45",
   "metadata": {},
   "outputs": [],
   "source": [
    "Reducer('Tensor')(x)"
   ]
  },
  {
   "cell_type": "code",
   "execution_count": null,
   "id": "560c4597",
   "metadata": {},
   "outputs": [],
   "source": [
    "1/0"
   ]
  },
  {
   "cell_type": "code",
   "execution_count": null,
   "id": "a0a5e60e",
   "metadata": {},
   "outputs": [],
   "source": [
    "a = Args(\n",
    "        splitter = 'Sequential',\n",
    "        splitter_pp = dict(\n",
    "            n_days_in_sample = 30,\n",
    "            bank_quantile = 0.9,\n",
    "            rtk_quantile = 0.9,\n",
    "        ),    \n",
    "        n_folds = 3, # 1000 == 'full train'\n",
    "        fold = 0,\n",
    "    \n",
    "        fit_limit = 10,\n",
    "        val_limit = 10,\n",
    "    \n",
    "        batch_size = 27,    \n",
    "        lr = 1e-3,\n",
    "        n_epochs = 10**10,\n",
    "        check_val_every_n_epoch = 1,\n",
    "    \n",
    "        bb_pp = dict(\n",
    "            block_size = 16,\n",
    "            hidden_size = 128,\n",
    "            intermediate_size = 128,\n",
    "            num_attention_heads = 1,\n",
    "            num_hidden_layers = 1,\n",
    "            num_random_blocks = 1,\n",
    "        ),\n",
    "    \n",
    "        loss = 'MarginLoss',\n",
    "        loss_pp = dict(),\n",
    "    \n",
    "        use_unmatched = bool(0),\n",
    "    \n",
    "        miner = None,\n",
    "        miner_pp = dict(),\n",
    "    \n",
    "        avg_loss = 'mean',\n",
    "        avg_pred = 'mean',\n",
    ")\n",
    "a.update()"
   ]
  },
  {
   "cell_type": "code",
   "execution_count": null,
   "id": "641429b2",
   "metadata": {},
   "outputs": [],
   "source": [
    "!ls log/b4cecc091a4856a030c4f3542b04bef4/version_0/checkpoints"
   ]
  },
  {
   "cell_type": "code",
   "execution_count": null,
   "id": "ba37ba4a",
   "metadata": {},
   "outputs": [],
   "source": [
    "e = Estimator(a) "
   ]
  },
  {
   "cell_type": "code",
   "execution_count": null,
   "id": "b27ea26f",
   "metadata": {},
   "outputs": [],
   "source": []
  },
  {
   "cell_type": "code",
   "execution_count": null,
   "id": "94a48320",
   "metadata": {},
   "outputs": [],
   "source": []
  },
  {
   "cell_type": "code",
   "execution_count": null,
   "id": "e02d3d00",
   "metadata": {},
   "outputs": [],
   "source": [
    "e.fit()"
   ]
  },
  {
   "cell_type": "code",
   "execution_count": null,
   "id": "b50aa164",
   "metadata": {},
   "outputs": [],
   "source": [
    "# e.predict_puzzle()"
   ]
  },
  {
   "cell_type": "code",
   "execution_count": null,
   "id": "d8deb403",
   "metadata": {},
   "outputs": [],
   "source": [
    "# e.predict_matching()"
   ]
  },
  {
   "cell_type": "code",
   "execution_count": null,
   "id": "a45b88d5",
   "metadata": {},
   "outputs": [],
   "source": []
  },
  {
   "cell_type": "code",
   "execution_count": null,
   "id": "f5daf769",
   "metadata": {},
   "outputs": [],
   "source": []
  },
  {
   "cell_type": "code",
   "execution_count": null,
   "id": "67cada55",
   "metadata": {},
   "outputs": [],
   "source": [
    "1/0"
   ]
  },
  {
   "cell_type": "code",
   "execution_count": null,
   "id": "b7a7fd7d",
   "metadata": {},
   "outputs": [],
   "source": []
  },
  {
   "cell_type": "code",
   "execution_count": null,
   "id": "2b0d6166",
   "metadata": {},
   "outputs": [],
   "source": []
  },
  {
   "cell_type": "code",
   "execution_count": null,
   "id": "0ddc8bd8",
   "metadata": {},
   "outputs": [],
   "source": []
  }
 ],
 "metadata": {
  "kernelspec": {
   "display_name": "Python 3 (ipykernel)",
   "language": "python",
   "name": "python3"
  },
  "language_info": {
   "codemirror_mode": {
    "name": "ipython",
    "version": 3
   },
   "file_extension": ".py",
   "mimetype": "text/x-python",
   "name": "python",
   "nbconvert_exporter": "python",
   "pygments_lexer": "ipython3",
   "version": "3.9.7"
  }
 },
 "nbformat": 4,
 "nbformat_minor": 5
}
