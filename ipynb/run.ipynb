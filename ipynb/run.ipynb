{
 "cells": [
  {
   "cell_type": "code",
   "execution_count": null,
   "id": "c2dbe8d7",
   "metadata": {},
   "outputs": [],
   "source": []
  },
  {
   "cell_type": "code",
   "execution_count": null,
   "id": "9b6ea8fe",
   "metadata": {},
   "outputs": [],
   "source": []
  },
  {
   "cell_type": "code",
   "execution_count": 1,
   "id": "afd3e379",
   "metadata": {},
   "outputs": [],
   "source": [
    "# !rm -rf /notebooks/v3/data"
   ]
  },
  {
   "cell_type": "code",
   "execution_count": 2,
   "id": "c3e47136",
   "metadata": {},
   "outputs": [
    {
     "name": "stdout",
     "output_type": "stream",
     "text": [
      "/notebooks/v3\n"
     ]
    }
   ],
   "source": [
    "%cd .."
   ]
  },
  {
   "cell_type": "code",
   "execution_count": null,
   "id": "0b9f4e50",
   "metadata": {},
   "outputs": [],
   "source": [
    "!git config --global user.email \"lyghter@ya.ru\"\n",
    "!git config --global user.name \"lyghter\"\n",
    "!git checkout dev\n",
    "!git add .\n",
    "!git commit -am .\n",
    "!git push"
   ]
  },
  {
   "cell_type": "code",
   "execution_count": null,
   "id": "f3a95d1e",
   "metadata": {},
   "outputs": [],
   "source": [
    "from lib.base import *\n",
    "import warnings\n",
    "from lib.run.args import Args\n",
    "from lib.run.estimator import Estimator"
   ]
  },
  {
   "cell_type": "code",
   "execution_count": null,
   "id": "61687507",
   "metadata": {},
   "outputs": [],
   "source": [
    "warnings.filterwarnings('ignore')"
   ]
  },
  {
   "cell_type": "code",
   "execution_count": null,
   "id": "c04737b7",
   "metadata": {},
   "outputs": [],
   "source": [
    "a = Args(\n",
    "        splitter = 'Sequential',\n",
    "        splitter_pp = dict(\n",
    "            n_days_in_sample = 30,\n",
    "            bank_quantile = 0.9,\n",
    "            rtk_quantile = 0.9,\n",
    "        ),    \n",
    "        n_folds = 3, # 1000 == 'full train'\n",
    "        fold = 0,\n",
    "    \n",
    "        fit_limit = 5,\n",
    "        val_limit = 5,\n",
    "    \n",
    "        batch_size = 32,#27,    \n",
    "        lr = 1e-3,\n",
    "        n_epochs = 10**10,\n",
    "        check_val_every_n_epoch = 1,\n",
    "    \n",
    "        bb_pp = dict(\n",
    "            block_size = 16,\n",
    "            hidden_size = 128,\n",
    "            intermediate_size = 128,\n",
    "            num_attention_heads = 1,\n",
    "            num_hidden_layers = 1,\n",
    "            num_random_blocks = 1,\n",
    "        ),\n",
    "    \n",
    "        loss = 'MarginLoss',\n",
    "        loss_pp = dict(),\n",
    "    \n",
    "        use_unmatched = bool(0),\n",
    "    \n",
    "        miner = None,\n",
    "        miner_pp = dict(),\n",
    "    \n",
    "        avg_loss = 'mean',\n",
    "        avg_pred = 'mean',\n",
    ")\n",
    "a.update()"
   ]
  },
  {
   "cell_type": "code",
   "execution_count": null,
   "id": "106acadb",
   "metadata": {},
   "outputs": [],
   "source": [
    "e = Estimator(a) "
   ]
  },
  {
   "cell_type": "code",
   "execution_count": null,
   "id": "1493ecf1",
   "metadata": {},
   "outputs": [],
   "source": [
    "e.fit()"
   ]
  },
  {
   "cell_type": "code",
   "execution_count": null,
   "id": "594b11ee",
   "metadata": {},
   "outputs": [],
   "source": [
    "!ls log/{a.exp_name}/version_0/checkpoints"
   ]
  },
  {
   "cell_type": "code",
   "execution_count": null,
   "id": "244d4788",
   "metadata": {},
   "outputs": [],
   "source": [
    "e.predict_puzzle('last.ckpt')"
   ]
  },
  {
   "cell_type": "code",
   "execution_count": null,
   "id": "6b9060cd",
   "metadata": {},
   "outputs": [],
   "source": []
  },
  {
   "cell_type": "code",
   "execution_count": null,
   "id": "ad2bae77",
   "metadata": {},
   "outputs": [],
   "source": [
    "1/0"
   ]
  },
  {
   "cell_type": "code",
   "execution_count": null,
   "id": "550716a7",
   "metadata": {},
   "outputs": [],
   "source": [
    "e.predict_puzzle('epoch=0.ckpt')"
   ]
  },
  {
   "cell_type": "code",
   "execution_count": null,
   "id": "646290d2",
   "metadata": {},
   "outputs": [],
   "source": []
  },
  {
   "cell_type": "code",
   "execution_count": null,
   "id": "6254ca99",
   "metadata": {},
   "outputs": [],
   "source": [
    "x=io.load('csv/epoch=0.csv')\n",
    "x.rtk_list[0]"
   ]
  },
  {
   "cell_type": "code",
   "execution_count": null,
   "id": "4fceb51b",
   "metadata": {},
   "outputs": [],
   "source": [
    "e.predict_matching('epoch=0.ckpt')"
   ]
  },
  {
   "cell_type": "code",
   "execution_count": null,
   "id": "18a2cf29",
   "metadata": {},
   "outputs": [],
   "source": []
  },
  {
   "cell_type": "code",
   "execution_count": null,
   "id": "9c7929c0",
   "metadata": {},
   "outputs": [],
   "source": []
  },
  {
   "cell_type": "code",
   "execution_count": null,
   "id": "b9507a32",
   "metadata": {},
   "outputs": [],
   "source": [
    "1/0"
   ]
  },
  {
   "cell_type": "code",
   "execution_count": null,
   "id": "382ce181",
   "metadata": {},
   "outputs": [],
   "source": []
  },
  {
   "cell_type": "code",
   "execution_count": null,
   "id": "7e341dbf",
   "metadata": {},
   "outputs": [],
   "source": [
    "R = e.model.R"
   ]
  },
  {
   "cell_type": "code",
   "execution_count": null,
   "id": "719ba70a",
   "metadata": {},
   "outputs": [],
   "source": [
    "R.keys()"
   ]
  },
  {
   "cell_type": "code",
   "execution_count": null,
   "id": "9fb8c61c",
   "metadata": {},
   "outputs": [],
   "source": [
    "R['XT'].shape"
   ]
  },
  {
   "cell_type": "code",
   "execution_count": null,
   "id": "755f3d67",
   "metadata": {},
   "outputs": [],
   "source": [
    "R['bank'].shape"
   ]
  },
  {
   "cell_type": "code",
   "execution_count": null,
   "id": "fea35edf",
   "metadata": {},
   "outputs": [],
   "source": [
    "test=pd.DataFrame()\n",
    "test['bank']=R['bank']\n",
    "test['rtk']=R['rtk']"
   ]
  },
  {
   "cell_type": "code",
   "execution_count": null,
   "id": "795448e6",
   "metadata": {},
   "outputs": [],
   "source": [
    "pred = pd.DataFrame()\n",
    "pred['bank'] = test['bank']"
   ]
  },
  {
   "cell_type": "code",
   "execution_count": null,
   "id": "9cd556a7",
   "metadata": {},
   "outputs": [],
   "source": [
    "pred['rtk_list'] = e.model.get_lists(\n",
    "    R, test, k=100)"
   ]
  },
  {
   "cell_type": "code",
   "execution_count": null,
   "id": "349a2b44",
   "metadata": {},
   "outputs": [],
   "source": [
    "\n",
    "func = s.e.uid_encoder.inverse_transform\n",
    "c = 'rtk_list'\n",
    "pred[c] = pred[c].apply(func)\n",
    "#         if s.a.docker:\n",
    "#             pred[c] = pred[c].apply(\n",
    "#                 lambda l: ['0']+l[:-1])\n",
    "c = 'bank'\n",
    "pred[c] = func(pred[c])\n",
    "return pred"
   ]
  },
  {
   "cell_type": "code",
   "execution_count": null,
   "id": "c2844157",
   "metadata": {},
   "outputs": [],
   "source": []
  },
  {
   "cell_type": "code",
   "execution_count": null,
   "id": "9672dc2e",
   "metadata": {},
   "outputs": [],
   "source": [
    "1/0"
   ]
  },
  {
   "cell_type": "code",
   "execution_count": null,
   "id": "9e8f628d",
   "metadata": {},
   "outputs": [],
   "source": [
    "R['']"
   ]
  },
  {
   "cell_type": "code",
   "execution_count": null,
   "id": "700ebfab",
   "metadata": {},
   "outputs": [],
   "source": []
  },
  {
   "cell_type": "code",
   "execution_count": null,
   "id": "ab94a858",
   "metadata": {},
   "outputs": [],
   "source": []
  },
  {
   "cell_type": "code",
   "execution_count": null,
   "id": "1c7480cc",
   "metadata": {},
   "outputs": [],
   "source": [
    "e.model.R['uid']"
   ]
  },
  {
   "cell_type": "code",
   "execution_count": null,
   "id": "4bb5ddcb",
   "metadata": {},
   "outputs": [],
   "source": [
    "e.model.R.keys()"
   ]
  },
  {
   "cell_type": "code",
   "execution_count": null,
   "id": "e7d937f3",
   "metadata": {},
   "outputs": [],
   "source": [
    "e.model.R['XC'].shape"
   ]
  },
  {
   "cell_type": "code",
   "execution_count": null,
   "id": "408551e9",
   "metadata": {},
   "outputs": [],
   "source": [
    "e.model.R['label'].shape"
   ]
  },
  {
   "cell_type": "code",
   "execution_count": null,
   "id": "11cb0d1c",
   "metadata": {},
   "outputs": [],
   "source": [
    "e.model.R['label'].shape"
   ]
  },
  {
   "cell_type": "code",
   "execution_count": null,
   "id": "b3cfdc17",
   "metadata": {},
   "outputs": [],
   "source": [
    "e.model.R['XT'].shape"
   ]
  },
  {
   "cell_type": "code",
   "execution_count": null,
   "id": "ad0e4c2a",
   "metadata": {},
   "outputs": [],
   "source": [
    "test = e.test.P"
   ]
  },
  {
   "cell_type": "code",
   "execution_count": null,
   "id": "d3a31453",
   "metadata": {},
   "outputs": [],
   "source": [
    "x.tolist() for x in e.model.R['XT']:\n",
    "    pass"
   ]
  },
  {
   "cell_type": "code",
   "execution_count": null,
   "id": "acedf91a",
   "metadata": {},
   "outputs": [],
   "source": [
    "test = pd.DataFrame()\n",
    "test['bank'] = e.model.R['XT'].cpu().numpy()"
   ]
  },
  {
   "cell_type": "code",
   "execution_count": null,
   "id": "0744dfb5",
   "metadata": {},
   "outputs": [],
   "source": []
  },
  {
   "cell_type": "code",
   "execution_count": null,
   "id": "008f3c3f",
   "metadata": {},
   "outputs": [],
   "source": [
    "test = s.e.test.P\n",
    "pred = pd.DataFrame()\n",
    "pred['bank'] = test['bank']\n"
   ]
  },
  {
   "cell_type": "code",
   "execution_count": null,
   "id": "74748bd2",
   "metadata": {},
   "outputs": [],
   "source": []
  },
  {
   "cell_type": "code",
   "execution_count": null,
   "id": "73ec104d",
   "metadata": {},
   "outputs": [],
   "source": []
  },
  {
   "cell_type": "code",
   "execution_count": null,
   "id": "05463867",
   "metadata": {},
   "outputs": [],
   "source": []
  },
  {
   "cell_type": "code",
   "execution_count": null,
   "id": "e16205b8",
   "metadata": {},
   "outputs": [],
   "source": [
    "1/0"
   ]
  },
  {
   "cell_type": "code",
   "execution_count": null,
   "id": "9d096c29",
   "metadata": {},
   "outputs": [],
   "source": []
  },
  {
   "cell_type": "code",
   "execution_count": null,
   "id": "5f7dbc9d",
   "metadata": {},
   "outputs": [],
   "source": []
  },
  {
   "cell_type": "code",
   "execution_count": null,
   "id": "44279a61",
   "metadata": {},
   "outputs": [],
   "source": []
  },
  {
   "cell_type": "code",
   "execution_count": null,
   "id": "a9dc4d3d",
   "metadata": {},
   "outputs": [],
   "source": [
    "e.model.B2"
   ]
  },
  {
   "cell_type": "code",
   "execution_count": null,
   "id": "cd5ac7f8",
   "metadata": {},
   "outputs": [],
   "source": [
    "e.model.B1"
   ]
  },
  {
   "cell_type": "code",
   "execution_count": null,
   "id": "3a4f067a",
   "metadata": {},
   "outputs": [],
   "source": [
    "1/0"
   ]
  },
  {
   "cell_type": "code",
   "execution_count": null,
   "id": "ab8039f6",
   "metadata": {},
   "outputs": [],
   "source": []
  },
  {
   "cell_type": "code",
   "execution_count": null,
   "id": "b1fcbe93",
   "metadata": {},
   "outputs": [],
   "source": []
  },
  {
   "cell_type": "code",
   "execution_count": null,
   "id": "973bdfbb",
   "metadata": {},
   "outputs": [],
   "source": []
  }
 ],
 "metadata": {
  "kernelspec": {
   "display_name": "Python 3 (ipykernel)",
   "language": "python",
   "name": "python3"
  },
  "language_info": {
   "codemirror_mode": {
    "name": "ipython",
    "version": 3
   },
   "file_extension": ".py",
   "mimetype": "text/x-python",
   "name": "python",
   "nbconvert_exporter": "python",
   "pygments_lexer": "ipython3",
   "version": "3.9.7"
  }
 },
 "nbformat": 4,
 "nbformat_minor": 5
}
