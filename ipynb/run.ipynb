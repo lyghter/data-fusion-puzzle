{
 "cells": [
  {
   "cell_type": "code",
   "execution_count": null,
   "id": "3d8170a5",
   "metadata": {},
   "outputs": [],
   "source": []
  },
  {
   "cell_type": "code",
   "execution_count": null,
   "id": "caeb0d14",
   "metadata": {},
   "outputs": [],
   "source": []
  },
  {
   "cell_type": "code",
   "execution_count": 1,
   "id": "2c3da7f3",
   "metadata": {},
   "outputs": [
    {
     "name": "stdout",
     "output_type": "stream",
     "text": [
      "/notebooks/v3\n"
     ]
    }
   ],
   "source": [
    "%cd .."
   ]
  },
  {
   "cell_type": "code",
   "execution_count": 2,
   "id": "10665de0",
   "metadata": {},
   "outputs": [
    {
     "name": "stdout",
     "output_type": "stream",
     "text": [
      "Already on 'dev'\n",
      "Your branch is up to date with 'origin/dev'.\n",
      "On branch dev\n",
      "Your branch is up to date with 'origin/dev'.\n",
      "\n",
      "nothing to commit, working tree clean\n",
      "Everything up-to-date\n"
     ]
    }
   ],
   "source": [
    "!git config --global user.email \"lyghter@ya.ru\"\n",
    "!git config --global user.name \"lyghter\"\n",
    "!git checkout dev\n",
    "!git add .\n",
    "!git commit -am .\n",
    "!git push"
   ]
  },
  {
   "cell_type": "code",
   "execution_count": 3,
   "id": "9f141583",
   "metadata": {},
   "outputs": [
    {
     "name": "stderr",
     "output_type": "stream",
     "text": [
      "Global seed set to 0\n"
     ]
    }
   ],
   "source": [
    "import warnings\n",
    "from lib.run.args import Args\n",
    "from lib.run.estimator import Estimator"
   ]
  },
  {
   "cell_type": "code",
   "execution_count": 4,
   "id": "3faffd29",
   "metadata": {},
   "outputs": [],
   "source": [
    "warnings.filterwarnings('ignore')"
   ]
  },
  {
   "cell_type": "code",
   "execution_count": 5,
   "id": "0b0b19eb",
   "metadata": {},
   "outputs": [
    {
     "name": "stdout",
     "output_type": "stream",
     "text": [
      "b4cecc091a4856a030c4f3542b04bef4\n"
     ]
    }
   ],
   "source": [
    "a = Args(\n",
    "        splitter = 'Sequential',\n",
    "        splitter_pp = dict(\n",
    "            n_days_in_sample = 30,\n",
    "            bank_quantile = 0.9,\n",
    "            rtk_quantile = 0.9,\n",
    "        ),    \n",
    "        n_folds = 3, # 1000 == 'full train'\n",
    "        fold = 0,\n",
    "    \n",
    "        fit_limit = 10,\n",
    "        val_limit = 10,\n",
    "    \n",
    "        batch_size = 27,    \n",
    "        lr = 1e-3,\n",
    "        n_epochs = 10**10,\n",
    "        check_val_every_n_epoch = 1,\n",
    "    \n",
    "        bb_pp = dict(\n",
    "            block_size = 16,\n",
    "            hidden_size = 128,\n",
    "            intermediate_size = 128,\n",
    "            num_attention_heads = 1,\n",
    "            num_hidden_layers = 1,\n",
    "            num_random_blocks = 1,\n",
    "        ),\n",
    "    \n",
    "        loss = 'MarginLoss',\n",
    "        loss_pp = dict(),\n",
    "    \n",
    "        use_unmatched = bool(0),\n",
    "    \n",
    "        miner = None,\n",
    "        miner_pp = dict(),\n",
    "    \n",
    "        avg_loss = 'mean',\n",
    "        avg_pred = 'mean',\n",
    ")\n",
    "a.update()"
   ]
  },
  {
   "cell_type": "code",
   "execution_count": 6,
   "id": "b57f81f9",
   "metadata": {},
   "outputs": [
    {
     "name": "stdout",
     "output_type": "stream",
     "text": [
      "Downloader __init__...\n",
      "Downloader run...\n",
      "Downloader make_dirs...\n",
      "Downloader download_transactions...\n",
      "Downloader download_and_extract_zip...\n"
     ]
    },
    {
     "name": "stderr",
     "output_type": "stream",
     "text": [
      "100%|██████████| 19821910/19821910 [01:41<00:00, 195041.53it/s]\n"
     ]
    },
    {
     "name": "stdout",
     "output_type": "stream",
     "text": [
      "save transactions.feather\n",
      "Downloader download_clickstreams...\n",
      "Downloader download_and_extract_zip...\n"
     ]
    },
    {
     "name": "stderr",
     "output_type": "stream",
     "text": [
      " 25%|██▌       | 4993/19623 [02:21<05:35, 43.63it/s]"
     ]
    },
    {
     "name": "stdout",
     "output_type": "stream",
     "text": [
      "save 5000.feather\n"
     ]
    },
    {
     "name": "stderr",
     "output_type": "stream",
     "text": [
      " 51%|█████     | 9997/19623 [05:00<04:17, 37.38it/s]  "
     ]
    },
    {
     "name": "stdout",
     "output_type": "stream",
     "text": [
      "save 10000.feather\n"
     ]
    },
    {
     "name": "stderr",
     "output_type": "stream",
     "text": [
      " 76%|███████▋  | 14995/19623 [07:31<01:45, 43.90it/s]  "
     ]
    },
    {
     "name": "stdout",
     "output_type": "stream",
     "text": [
      "save 15000.feather\n"
     ]
    },
    {
     "name": "stderr",
     "output_type": "stream",
     "text": [
      "100%|█████████▉| 19618/19623 [09:53<00:00, 27.66it/s]"
     ]
    },
    {
     "name": "stdout",
     "output_type": "stream",
     "text": [
      "save 19623.feather\n"
     ]
    },
    {
     "name": "stderr",
     "output_type": "stream",
     "text": [
      "100%|██████████| 19623/19623 [10:02<00:00, 32.57it/s]\n"
     ]
    },
    {
     "name": "stdout",
     "output_type": "stream",
     "text": [
      "Downloader download_other_files...\n"
     ]
    },
    {
     "name": "stderr",
     "output_type": "stream",
     "text": [
      "100%|██████████| 6/6 [00:06<00:00,  1.06s/it]\n"
     ]
    },
    {
     "name": "stdout",
     "output_type": "stream",
     "text": [
      "--------------------\n",
      "986.2579717636108\n",
      "--------------------\n",
      "EventEncoder __init__...\n",
      "EventEncoder run...\n",
      "EventEncoder prepare...\n",
      "EventEncoder get_vocab...\n",
      "load click_categories.csv\n",
      "EventEncoder get_vocab...\n",
      "load mcc_codes.csv\n",
      "save bank.feather\n",
      "save rtk.feather\n",
      "EventEncoder transform...\n",
      "EventEncoder load_transactions...\n",
      "load transactions.feather\n",
      "save transactions_events.feather\n",
      "EventEncoder transform...\n",
      "EventEncoder load_clickstreams...\n"
     ]
    },
    {
     "name": "stderr",
     "output_type": "stream",
     "text": [
      "100%|██████████| 4/4 [00:25<00:00,  6.43s/it]\n"
     ]
    },
    {
     "name": "stdout",
     "output_type": "stream",
     "text": [
      "save clickstreams_events.feather\n",
      "--------------------\n",
      "248.7273461818695\n",
      "--------------------\n",
      "UidEncoder __init__...\n",
      "UidEncoder run...\n",
      "UidEncoder prepare...\n",
      "load transactions_events.feather\n",
      "load clickstreams_events.feather\n",
      "save transactions_events_uids.feather\n",
      "save clickstreams_events_uids.feather\n",
      "UidEncoder transform_train...\n",
      "load train_matching.csv\n",
      "save TRAIN.feather\n",
      "UidEncoder transform_test...\n",
      "load puzzle.csv\n",
      "save TEST.feather\n",
      "--------------------\n",
      "105.50158023834229\n",
      "--------------------\n",
      "SequentialSplitter __init__...\n",
      "SequentialSplitter run...\n",
      "SequentialSplitter get_tensors...\n",
      "load clickstreams_events_uids.feather\n"
     ]
    },
    {
     "name": "stderr",
     "output_type": "stream",
     "text": [
      "100%|██████████| 19623/19623 [02:24<00:00, 135.66it/s]\n"
     ]
    },
    {
     "name": "stdout",
     "output_type": "stream",
     "text": [
      "SequentialSplitter get_max_len...\n",
      "SequentialSplitter pad...\n"
     ]
    },
    {
     "name": "stderr",
     "output_type": "stream",
     "text": [
      "100%|██████████| 133076/133076 [00:05<00:00, 26604.16it/s]\n",
      "100%|██████████| 133076/133076 [00:10<00:00, 12262.65it/s]\n"
     ]
    },
    {
     "name": "stdout",
     "output_type": "stream",
     "text": [
      "torch.Size([133076, 2256])\n",
      "torch.Size([133076])\n",
      "rtk_uids 19623\n",
      "save XC.pt\n",
      "save YC.pt\n",
      "SequentialSplitter get_tensors...\n",
      "load transactions_events_uids.feather\n"
     ]
    },
    {
     "name": "stderr",
     "output_type": "stream",
     "text": [
      "100%|██████████| 22533/22533 [04:35<00:00, 81.80it/s]\n"
     ]
    },
    {
     "name": "stdout",
     "output_type": "stream",
     "text": [
      "SequentialSplitter get_max_len...\n",
      "SequentialSplitter pad...\n"
     ]
    },
    {
     "name": "stderr",
     "output_type": "stream",
     "text": [
      "100%|██████████| 286046/286046 [00:01<00:00, 207174.39it/s]\n",
      "100%|██████████| 286046/286046 [00:01<00:00, 145473.13it/s]\n"
     ]
    },
    {
     "name": "stdout",
     "output_type": "stream",
     "text": [
      "torch.Size([286046, 120])\n",
      "torch.Size([286046])\n",
      "bank_uids 22533\n",
      "save XT.pt\n",
      "save YT.pt\n",
      "--------------------\n",
      "488.42641043663025\n",
      "--------------------\n",
      "load XT.pt\n",
      "load XC.pt\n"
     ]
    },
    {
     "name": "stderr",
     "output_type": "stream",
     "text": [
      "Using 16bit native Automatic Mixed Precision (AMP)\n",
      "GPU available: True, used: True\n",
      "TPU available: False, using: 0 TPU cores\n",
      "IPU available: False, using: 0 IPUs\n"
     ]
    },
    {
     "name": "stdout",
     "output_type": "stream",
     "text": [
      "load YT.pt\n",
      "load YC.pt\n",
      "bank_len 120\n",
      "rtk_len 2256\n",
      "epoch=11\n"
     ]
    },
    {
     "ename": "TypeError",
     "evalue": "__init__() missing 2 required positional arguments: 'collate' and 'a'",
     "output_type": "error",
     "traceback": [
      "\u001b[0;31m---------------------------------------------------------------------------\u001b[0m",
      "\u001b[0;31mTypeError\u001b[0m                                 Traceback (most recent call last)",
      "Input \u001b[0;32mIn [6]\u001b[0m, in \u001b[0;36m<cell line: 3>\u001b[0;34m()\u001b[0m\n\u001b[1;32m      1\u001b[0m TASK \u001b[38;5;241m=\u001b[39m \u001b[38;5;124m'\u001b[39m\u001b[38;5;124mpredict\u001b[39m\u001b[38;5;124m'\u001b[39m \u001b[38;5;66;03m#['fit','predict']\u001b[39;00m\n\u001b[1;32m      2\u001b[0m e \u001b[38;5;241m=\u001b[39m Estimator(a) \n\u001b[0;32m----> 3\u001b[0m \u001b[38;5;28;43mgetattr\u001b[39;49m\u001b[43m(\u001b[49m\u001b[43me\u001b[49m\u001b[43m,\u001b[49m\u001b[43m \u001b[49m\u001b[43mTASK\u001b[49m\u001b[43m)\u001b[49m\u001b[43m(\u001b[49m\u001b[43m)\u001b[49m\n",
      "File \u001b[0;32m/notebooks/v3/lib/run/estimator.py:125\u001b[0m, in \u001b[0;36mEstimator.predict\u001b[0;34m(s)\u001b[0m\n\u001b[1;32m    123\u001b[0m s\u001b[38;5;241m.\u001b[39ma\u001b[38;5;241m.\u001b[39mckpt \u001b[38;5;241m=\u001b[39m p\u001b[38;5;241m/\u001b[39m\u001b[38;5;124m'\u001b[39m\u001b[38;5;124mepoch=11.ckpt\u001b[39m\u001b[38;5;124m'\u001b[39m\n\u001b[1;32m    124\u001b[0m \u001b[38;5;28mprint\u001b[39m(s\u001b[38;5;241m.\u001b[39ma\u001b[38;5;241m.\u001b[39mckpt\u001b[38;5;241m.\u001b[39mstem)\n\u001b[0;32m--> 125\u001b[0m s\u001b[38;5;241m.\u001b[39mtest \u001b[38;5;241m=\u001b[39m \u001b[43mTest\u001b[49m\u001b[43m(\u001b[49m\u001b[43ms\u001b[49m\u001b[43m)\u001b[49m\n\u001b[1;32m    126\u001b[0m BB \u001b[38;5;241m=\u001b[39m s\u001b[38;5;241m.\u001b[39mtrainer\u001b[38;5;241m.\u001b[39mpredict(\n\u001b[1;32m    127\u001b[0m     s\u001b[38;5;241m.\u001b[39mmodel, s\u001b[38;5;241m.\u001b[39mtest, ckpt_path\u001b[38;5;241m=\u001b[39ms\u001b[38;5;241m.\u001b[39ma\u001b[38;5;241m.\u001b[39mckpt)  \n\u001b[1;32m    128\u001b[0m pred \u001b[38;5;241m=\u001b[39m s\u001b[38;5;241m.\u001b[39mmodel\u001b[38;5;241m.\u001b[39mpredict_epoch_end(BB)\n",
      "\u001b[0;31mTypeError\u001b[0m: __init__() missing 2 required positional arguments: 'collate' and 'a'"
     ]
    }
   ],
   "source": [
    "TASK = 'fit' #['fit','predict']\n",
    "e = Estimator(a) \n",
    "getattr(e, TASK)()"
   ]
  },
  {
   "cell_type": "code",
   "execution_count": null,
   "id": "bf54e03f",
   "metadata": {},
   "outputs": [],
   "source": []
  },
  {
   "cell_type": "code",
   "execution_count": null,
   "id": "a2f4fe7f",
   "metadata": {},
   "outputs": [],
   "source": []
  },
  {
   "cell_type": "code",
   "execution_count": null,
   "id": "b327e080",
   "metadata": {},
   "outputs": [],
   "source": [
    "1"
   ]
  },
  {
   "cell_type": "code",
   "execution_count": null,
   "id": "bf85fc83",
   "metadata": {},
   "outputs": [],
   "source": [
    "1"
   ]
  },
  {
   "cell_type": "code",
   "execution_count": null,
   "id": "65df418d",
   "metadata": {},
   "outputs": [],
   "source": []
  },
  {
   "cell_type": "code",
   "execution_count": null,
   "id": "7f64beae",
   "metadata": {},
   "outputs": [],
   "source": []
  },
  {
   "cell_type": "code",
   "execution_count": null,
   "id": "3624db48",
   "metadata": {},
   "outputs": [],
   "source": []
  }
 ],
 "metadata": {
  "kernelspec": {
   "display_name": "Python 3 (ipykernel)",
   "language": "python",
   "name": "python3"
  },
  "language_info": {
   "codemirror_mode": {
    "name": "ipython",
    "version": 3
   },
   "file_extension": ".py",
   "mimetype": "text/x-python",
   "name": "python",
   "nbconvert_exporter": "python",
   "pygments_lexer": "ipython3",
   "version": "3.9.7"
  }
 },
 "nbformat": 4,
 "nbformat_minor": 5
}
