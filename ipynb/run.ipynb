{
 "cells": [
  {
   "cell_type": "code",
   "execution_count": null,
   "id": "ef65e46a",
   "metadata": {},
   "outputs": [],
   "source": []
  },
  {
   "cell_type": "code",
   "execution_count": null,
   "id": "3dbd6aab",
   "metadata": {},
   "outputs": [],
   "source": []
  },
  {
   "cell_type": "code",
   "execution_count": 1,
   "id": "088e28bc",
   "metadata": {},
   "outputs": [
    {
     "name": "stdout",
     "output_type": "stream",
     "text": [
      "/notebooks/data-fusion-puzzle\n"
     ]
    }
   ],
   "source": [
    "%cd .."
   ]
  },
  {
   "cell_type": "code",
   "execution_count": 2,
   "id": "3893b07b",
   "metadata": {},
   "outputs": [
    {
     "name": "stderr",
     "output_type": "stream",
     "text": [
      "Global seed set to 0\n"
     ]
    }
   ],
   "source": [
    "import warnings\n",
    "from lib.run.args import Args\n",
    "from lib.run.estimator import Estimator"
   ]
  },
  {
   "cell_type": "code",
   "execution_count": 3,
   "id": "cf934f86",
   "metadata": {},
   "outputs": [],
   "source": [
    "warnings.filterwarnings('ignore')"
   ]
  },
  {
   "cell_type": "code",
   "execution_count": 4,
   "id": "4b3e6800",
   "metadata": {},
   "outputs": [
    {
     "name": "stdout",
     "output_type": "stream",
     "text": [
      "f8dc2a144b2ebdfd78e0626fdb789a3b\n"
     ]
    }
   ],
   "source": [
    "a = Args(\n",
    "        splitter = 'Sequential',\n",
    "        splitter_pp = dict(\n",
    "            n_days_in_sample = 30,\n",
    "            bank_quantile = 0.9,\n",
    "            rtk_quantile = 0.9,\n",
    "        ),    \n",
    "        n_folds = 3,# 1000 == 'full train'\n",
    "        fold = 0,\n",
    "    \n",
    "        fit_limit = 1.,\n",
    "        val_limit = 1.,\n",
    "    \n",
    "        batch_size = 32,    \n",
    "        lr = 2e-3,\n",
    "        n_epochs = 10,\n",
    "        check_val_every_n_epoch = 1,\n",
    "    \n",
    "        bb_pp = dict(\n",
    "            block_size = 16,\n",
    "            hidden_size = 128,\n",
    "            intermediate_size = 128,\n",
    "            num_attention_heads = 1,\n",
    "            num_hidden_layers = 1,\n",
    "            num_random_blocks = 1,\n",
    "        ),\n",
    "    \n",
    "        loss = 'MarginLoss',\n",
    "        loss_pp = dict(),\n",
    "    \n",
    "        use_unmatched = bool(0),\n",
    "    \n",
    "        miner = None,\n",
    "        miner_pp = dict(),\n",
    "    \n",
    "        avg_loss = 'mean',\n",
    "        avg_pred = 'mean',\n",
    ")\n",
    "a.update()"
   ]
  },
  {
   "cell_type": "code",
   "execution_count": 5,
   "id": "226acd6e",
   "metadata": {},
   "outputs": [
    {
     "name": "stdout",
     "output_type": "stream",
     "text": [
      "--------------------\n",
      "3.814697265625e-06\n",
      "--------------------\n",
      "--------------------\n",
      "1.9073486328125e-06\n",
      "--------------------\n",
      "--------------------\n",
      "1.430511474609375e-06\n",
      "--------------------\n",
      "--------------------\n",
      "1.430511474609375e-06\n",
      "--------------------\n",
      "load XT.pt\n",
      "load XC.pt\n"
     ]
    },
    {
     "name": "stderr",
     "output_type": "stream",
     "text": [
      "Using 16bit native Automatic Mixed Precision (AMP)\n",
      "GPU available: True, used: True\n",
      "TPU available: False, using: 0 TPU cores\n",
      "IPU available: False, using: 0 IPUs\n",
      "LOCAL_RANK: 0 - CUDA_VISIBLE_DEVICES: [0]\n"
     ]
    },
    {
     "name": "stdout",
     "output_type": "stream",
     "text": [
      "load YT.pt\n",
      "load YC.pt\n",
      "bank_len 120\n",
      "rtk_len 2256\n",
      "load TRAIN.feather\n",
      "F: 9780\n",
      "V: 4891\n"
     ]
    },
    {
     "name": "stderr",
     "output_type": "stream",
     "text": [
      "\n",
      "  | Name     | Type         | Params\n",
      "------------------------------------------\n",
      "0 | enc      | BigBirdModel | 506 K \n",
      "1 | loss     | MarginLoss   | 0     \n",
      "2 | distance | LpDistance   | 0     \n",
      "------------------------------------------\n",
      "506 K     Trainable params\n",
      "0         Non-trainable params\n",
      "506 K     Total params\n",
      "1.014     Total estimated model params size (MB)\n"
     ]
    },
    {
     "data": {
      "application/vnd.jupyter.widget-view+json": {
       "model_id": "96cb7b9c633e4c6cbe2e1d562a4554fe",
       "version_major": 2,
       "version_minor": 0
      },
      "text/plain": [
       "Training: 0it [00:00, ?it/s]"
      ]
     },
     "metadata": {},
     "output_type": "display_data"
    },
    {
     "data": {
      "application/vnd.jupyter.widget-view+json": {
       "model_id": "",
       "version_major": 2,
       "version_minor": 0
      },
      "text/plain": [
       "Validating: 0it [00:00, ?it/s]"
      ]
     },
     "metadata": {},
     "output_type": "display_data"
    },
    {
     "name": "stdout",
     "output_type": "stream",
     "text": [
      "     loss     R1     MRR       P\n",
      "0  0.2134  0.008  0.0043  0.0568\n"
     ]
    },
    {
     "data": {
      "application/vnd.jupyter.widget-view+json": {
       "model_id": "",
       "version_major": 2,
       "version_minor": 0
      },
      "text/plain": [
       "Validating: 0it [00:00, ?it/s]"
      ]
     },
     "metadata": {},
     "output_type": "display_data"
    },
    {
     "name": "stdout",
     "output_type": "stream",
     "text": [
      "     loss      R1     MRR       P\n",
      "0  0.2134  0.0080  0.0043  0.0568\n",
      "1  0.2077  0.0086  0.0046  0.0622\n"
     ]
    },
    {
     "data": {
      "application/vnd.jupyter.widget-view+json": {
       "model_id": "",
       "version_major": 2,
       "version_minor": 0
      },
      "text/plain": [
       "Validating: 0it [00:00, ?it/s]"
      ]
     },
     "metadata": {},
     "output_type": "display_data"
    },
    {
     "name": "stdout",
     "output_type": "stream",
     "text": [
      "     loss      R1     MRR       P\n",
      "0  0.2134  0.0080  0.0043  0.0568\n",
      "1  0.2077  0.0086  0.0046  0.0622\n",
      "2  0.2098  0.0084  0.0045  0.0730\n"
     ]
    },
    {
     "data": {
      "application/vnd.jupyter.widget-view+json": {
       "model_id": "",
       "version_major": 2,
       "version_minor": 0
      },
      "text/plain": [
       "Validating: 0it [00:00, ?it/s]"
      ]
     },
     "metadata": {},
     "output_type": "display_data"
    },
    {
     "name": "stdout",
     "output_type": "stream",
     "text": [
      "     loss      R1     MRR       P\n",
      "0  0.2134  0.0080  0.0043  0.0568\n",
      "1  0.2077  0.0086  0.0046  0.0622\n",
      "2  0.2098  0.0084  0.0045  0.0730\n",
      "3  0.2100  0.0104  0.0056  0.0748\n"
     ]
    },
    {
     "data": {
      "application/vnd.jupyter.widget-view+json": {
       "model_id": "",
       "version_major": 2,
       "version_minor": 0
      },
      "text/plain": [
       "Validating: 0it [00:00, ?it/s]"
      ]
     },
     "metadata": {},
     "output_type": "display_data"
    },
    {
     "name": "stdout",
     "output_type": "stream",
     "text": [
      "     loss      R1     MRR       P\n",
      "0  0.2134  0.0080  0.0043  0.0568\n",
      "1  0.2077  0.0086  0.0046  0.0622\n",
      "2  0.2098  0.0084  0.0045  0.0730\n",
      "3  0.2100  0.0104  0.0056  0.0748\n",
      "4  0.2081  0.0102  0.0054  0.0846\n"
     ]
    },
    {
     "data": {
      "application/vnd.jupyter.widget-view+json": {
       "model_id": "",
       "version_major": 2,
       "version_minor": 0
      },
      "text/plain": [
       "Validating: 0it [00:00, ?it/s]"
      ]
     },
     "metadata": {},
     "output_type": "display_data"
    },
    {
     "name": "stdout",
     "output_type": "stream",
     "text": [
      "     loss      R1     MRR       P\n",
      "0  0.2134  0.0080  0.0043  0.0568\n",
      "1  0.2077  0.0086  0.0046  0.0622\n",
      "2  0.2098  0.0084  0.0045  0.0730\n",
      "3  0.2100  0.0104  0.0056  0.0748\n",
      "4  0.2081  0.0102  0.0054  0.0846\n",
      "5  0.2080  0.0115  0.0062  0.0791\n"
     ]
    },
    {
     "data": {
      "application/vnd.jupyter.widget-view+json": {
       "model_id": "",
       "version_major": 2,
       "version_minor": 0
      },
      "text/plain": [
       "Validating: 0it [00:00, ?it/s]"
      ]
     },
     "metadata": {},
     "output_type": "display_data"
    },
    {
     "name": "stdout",
     "output_type": "stream",
     "text": [
      "     loss      R1     MRR       P\n",
      "0  0.2134  0.0080  0.0043  0.0568\n",
      "1  0.2077  0.0086  0.0046  0.0622\n",
      "2  0.2098  0.0084  0.0045  0.0730\n",
      "3  0.2100  0.0104  0.0056  0.0748\n",
      "4  0.2081  0.0102  0.0054  0.0846\n",
      "5  0.2080  0.0115  0.0062  0.0791\n",
      "6  0.2073  0.0120  0.0065  0.0822\n"
     ]
    },
    {
     "data": {
      "application/vnd.jupyter.widget-view+json": {
       "model_id": "",
       "version_major": 2,
       "version_minor": 0
      },
      "text/plain": [
       "Validating: 0it [00:00, ?it/s]"
      ]
     },
     "metadata": {},
     "output_type": "display_data"
    },
    {
     "name": "stdout",
     "output_type": "stream",
     "text": [
      "     loss      R1     MRR       P\n",
      "0  0.2134  0.0080  0.0043  0.0568\n",
      "1  0.2077  0.0086  0.0046  0.0622\n",
      "2  0.2098  0.0084  0.0045  0.0730\n",
      "3  0.2100  0.0104  0.0056  0.0748\n",
      "4  0.2081  0.0102  0.0054  0.0846\n",
      "5  0.2080  0.0115  0.0062  0.0791\n",
      "6  0.2073  0.0120  0.0065  0.0822\n",
      "7  0.2083  0.0119  0.0064  0.0801\n"
     ]
    },
    {
     "data": {
      "application/vnd.jupyter.widget-view+json": {
       "model_id": "",
       "version_major": 2,
       "version_minor": 0
      },
      "text/plain": [
       "Validating: 0it [00:00, ?it/s]"
      ]
     },
     "metadata": {},
     "output_type": "display_data"
    },
    {
     "name": "stdout",
     "output_type": "stream",
     "text": [
      "     loss      R1     MRR       P\n",
      "0  0.2134  0.0080  0.0043  0.0568\n",
      "1  0.2077  0.0086  0.0046  0.0622\n",
      "2  0.2098  0.0084  0.0045  0.0730\n",
      "3  0.2100  0.0104  0.0056  0.0748\n",
      "4  0.2081  0.0102  0.0054  0.0846\n",
      "5  0.2080  0.0115  0.0062  0.0791\n",
      "6  0.2073  0.0120  0.0065  0.0822\n",
      "7  0.2083  0.0119  0.0064  0.0801\n",
      "8  0.2060  0.0118  0.0064  0.0830\n"
     ]
    },
    {
     "data": {
      "application/vnd.jupyter.widget-view+json": {
       "model_id": "",
       "version_major": 2,
       "version_minor": 0
      },
      "text/plain": [
       "Validating: 0it [00:00, ?it/s]"
      ]
     },
     "metadata": {},
     "output_type": "display_data"
    },
    {
     "name": "stdout",
     "output_type": "stream",
     "text": [
      "     loss      R1     MRR       P\n",
      "0  0.2134  0.0080  0.0043  0.0568\n",
      "1  0.2077  0.0086  0.0046  0.0622\n",
      "2  0.2098  0.0084  0.0045  0.0730\n",
      "3  0.2100  0.0104  0.0056  0.0748\n",
      "4  0.2081  0.0102  0.0054  0.0846\n",
      "5  0.2080  0.0115  0.0062  0.0791\n",
      "6  0.2073  0.0120  0.0065  0.0822\n",
      "7  0.2083  0.0119  0.0064  0.0801\n",
      "8  0.2060  0.0118  0.0064  0.0830\n",
      "9  0.2078  0.0133  0.0072  0.0830\n"
     ]
    }
   ],
   "source": [
    "TASK = 'predict' #['fit','predict']\n",
    "e = Estimator(a) \n",
    "getattr(e, TASK)()"
   ]
  },
  {
   "cell_type": "code",
   "execution_count": null,
   "id": "e3fd1d4f",
   "metadata": {},
   "outputs": [],
   "source": []
  },
  {
   "cell_type": "code",
   "execution_count": null,
   "id": "11b88bd7",
   "metadata": {},
   "outputs": [],
   "source": []
  },
  {
   "cell_type": "code",
   "execution_count": null,
   "id": "a04697d7",
   "metadata": {},
   "outputs": [],
   "source": []
  }
 ],
 "metadata": {
  "kernelspec": {
   "display_name": "Python 3 (ipykernel)",
   "language": "python",
   "name": "python3"
  },
  "language_info": {
   "codemirror_mode": {
    "name": "ipython",
    "version": 3
   },
   "file_extension": ".py",
   "mimetype": "text/x-python",
   "name": "python",
   "nbconvert_exporter": "python",
   "pygments_lexer": "ipython3",
   "version": "3.9.7"
  }
 },
 "nbformat": 4,
 "nbformat_minor": 5
}
