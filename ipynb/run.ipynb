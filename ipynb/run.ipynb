{
 "cells": [
  {
   "cell_type": "code",
   "execution_count": null,
   "id": "4b04bcd2",
   "metadata": {},
   "outputs": [],
   "source": []
  },
  {
   "cell_type": "code",
   "execution_count": null,
   "id": "af892577",
   "metadata": {},
   "outputs": [],
   "source": []
  },
  {
   "cell_type": "code",
   "execution_count": 1,
   "id": "9e48ab72",
   "metadata": {},
   "outputs": [
    {
     "name": "stdout",
     "output_type": "stream",
     "text": [
      "/notebooks/v3\n"
     ]
    }
   ],
   "source": [
    "%cd .."
   ]
  },
  {
   "cell_type": "code",
   "execution_count": 2,
   "id": "9347ca48",
   "metadata": {},
   "outputs": [
    {
     "name": "stdout",
     "output_type": "stream",
     "text": [
      "M\tipynb/run.ipynb\n",
      "M\tlib/run/estimator.py\n",
      "Already on 'dev'\n",
      "Your branch is up to date with 'origin/dev'.\n",
      "[dev 2a8532b] .\n",
      " 2 files changed, 41 insertions(+), 85 deletions(-)\n",
      "Counting objects: 7, done.\n",
      "Delta compression using up to 8 threads.\n",
      "Compressing objects: 100% (7/7), done.\n",
      "Writing objects: 100% (7/7), 1.49 KiB | 1.49 MiB/s, done.\n",
      "Total 7 (delta 6), reused 0 (delta 0)\n",
      "remote: Resolving deltas: 100% (6/6), completed with 6 local objects.\u001b[K\n",
      "To https://github.com/lyghter/data-fusion-puzzle\n",
      "   15d81cc..2a8532b  dev -> dev\n"
     ]
    }
   ],
   "source": [
    "!git config --global user.email \"lyghter@ya.ru\"\n",
    "!git config --global user.name \"lyghter\"\n",
    "!git checkout dev\n",
    "!git add .\n",
    "!git commit -am .\n",
    "!git push"
   ]
  },
  {
   "cell_type": "code",
   "execution_count": 3,
   "id": "fe2207c7",
   "metadata": {},
   "outputs": [
    {
     "name": "stderr",
     "output_type": "stream",
     "text": [
      "Global seed set to 0\n"
     ]
    }
   ],
   "source": [
    "import warnings\n",
    "from lib.run.args import Args\n",
    "from lib.run.estimator import Estimator"
   ]
  },
  {
   "cell_type": "code",
   "execution_count": 4,
   "id": "c92e9ede",
   "metadata": {},
   "outputs": [],
   "source": [
    "warnings.filterwarnings('ignore')"
   ]
  },
  {
   "cell_type": "code",
   "execution_count": 5,
   "id": "a6fdc03b",
   "metadata": {},
   "outputs": [
    {
     "name": "stdout",
     "output_type": "stream",
     "text": [
      "b4cecc091a4856a030c4f3542b04bef4\n"
     ]
    }
   ],
   "source": [
    "a = Args(\n",
    "        splitter = 'Sequential',\n",
    "        splitter_pp = dict(\n",
    "            n_days_in_sample = 30,\n",
    "            bank_quantile = 0.9,\n",
    "            rtk_quantile = 0.9,\n",
    "        ),    \n",
    "        n_folds = 3, # 1000 == 'full train'\n",
    "        fold = 0,\n",
    "    \n",
    "        fit_limit = 10,\n",
    "        val_limit = 10,\n",
    "    \n",
    "        batch_size = 27,    \n",
    "        lr = 1e-3,\n",
    "        n_epochs = 10**10,\n",
    "        check_val_every_n_epoch = 1,\n",
    "    \n",
    "        bb_pp = dict(\n",
    "            block_size = 16,\n",
    "            hidden_size = 128,\n",
    "            intermediate_size = 128,\n",
    "            num_attention_heads = 1,\n",
    "            num_hidden_layers = 1,\n",
    "            num_random_blocks = 1,\n",
    "        ),\n",
    "    \n",
    "        loss = 'MarginLoss',\n",
    "        loss_pp = dict(),\n",
    "    \n",
    "        use_unmatched = bool(0),\n",
    "    \n",
    "        miner = None,\n",
    "        miner_pp = dict(),\n",
    "    \n",
    "        avg_loss = 'mean',\n",
    "        avg_pred = 'mean',\n",
    ")\n",
    "a.update()"
   ]
  },
  {
   "cell_type": "code",
   "execution_count": 6,
   "id": "6b7b1be9",
   "metadata": {},
   "outputs": [
    {
     "name": "stdout",
     "output_type": "stream",
     "text": [
      "'epoch=0.ckpt'\t'epoch=2.ckpt'\t'epoch=4.ckpt'\t'epoch=6.ckpt'\t'epoch=8.ckpt'\n",
      "'epoch=1.ckpt'\t'epoch=3.ckpt'\t'epoch=5.ckpt'\t'epoch=7.ckpt'\n"
     ]
    }
   ],
   "source": [
    "!ls log/b4cecc091a4856a030c4f3542b04bef4/version_0/checkpoints"
   ]
  },
  {
   "cell_type": "code",
   "execution_count": 7,
   "id": "dc9a0fc7",
   "metadata": {},
   "outputs": [
    {
     "ename": "TypeError",
     "evalue": "Preprocessor() takes no arguments",
     "output_type": "error",
     "traceback": [
      "\u001b[0;31m---------------------------------------------------------------------------\u001b[0m",
      "\u001b[0;31mTypeError\u001b[0m                                 Traceback (most recent call last)",
      "Input \u001b[0;32mIn [7]\u001b[0m, in \u001b[0;36m<cell line: 3>\u001b[0;34m()\u001b[0m\n\u001b[1;32m      1\u001b[0m TASK \u001b[38;5;241m=\u001b[39m \u001b[38;5;124m'\u001b[39m\u001b[38;5;124mpredict\u001b[39m\u001b[38;5;124m'\u001b[39m \u001b[38;5;66;03m#['fit','predict']\u001b[39;00m\n\u001b[1;32m      2\u001b[0m a\u001b[38;5;241m.\u001b[39mdocker \u001b[38;5;241m=\u001b[39m \u001b[38;5;28mbool\u001b[39m(\u001b[38;5;241m1\u001b[39m)\n\u001b[0;32m----> 3\u001b[0m e \u001b[38;5;241m=\u001b[39m \u001b[43mEstimator\u001b[49m\u001b[43m(\u001b[49m\u001b[43ma\u001b[49m\u001b[43m)\u001b[49m \n\u001b[1;32m      4\u001b[0m \u001b[38;5;28mgetattr\u001b[39m(e, TASK)()\n",
      "File \u001b[0;32m/notebooks/v3/lib/run/estimator.py:32\u001b[0m, in \u001b[0;36mEstimator.__init__\u001b[0;34m(s, a)\u001b[0m\n\u001b[1;32m     30\u001b[0m s\u001b[38;5;241m.\u001b[39mdata_dir\u001b[38;5;241m.\u001b[39mmkdir(exist_ok\u001b[38;5;241m=\u001b[39m\u001b[38;5;28;01mTrue\u001b[39;00m)\n\u001b[1;32m     31\u001b[0m \u001b[38;5;28;01mif\u001b[39;00m a\u001b[38;5;241m.\u001b[39mdocker:\n\u001b[0;32m---> 32\u001b[0m     \u001b[43ms\u001b[49m\u001b[38;5;241;43m.\u001b[39;49m\u001b[43mprepare_data_for_matching\u001b[49m\u001b[43m(\u001b[49m\u001b[43m)\u001b[49m\n\u001b[1;32m     33\u001b[0m \u001b[38;5;28;01melse\u001b[39;00m:\n\u001b[1;32m     34\u001b[0m     s\u001b[38;5;241m.\u001b[39mprepare_data_for_puzzle()\n",
      "File \u001b[0;32m/notebooks/v3/lib/run/estimator.py:77\u001b[0m, in \u001b[0;36mEstimator.prepare_data_for_matching\u001b[0;34m(s)\u001b[0m\n\u001b[1;32m     75\u001b[0m \u001b[38;5;28;01mdef\u001b[39;00m \u001b[38;5;21mprepare_data_for_matching\u001b[39m(s):\n\u001b[1;32m     76\u001b[0m     run_or_pass(\n\u001b[0;32m---> 77\u001b[0m          \u001b[43mPreprocessor\u001b[49m\u001b[43m(\u001b[49m\u001b[43ms\u001b[49m\u001b[38;5;241;43m.\u001b[39;49m\u001b[43ma\u001b[49m\u001b[43m)\u001b[49m, {\n\u001b[1;32m     78\u001b[0m         \u001b[38;5;124m'\u001b[39m\u001b[38;5;124mXCP.pt\u001b[39m\u001b[38;5;124m'\u001b[39m,\u001b[38;5;124m'\u001b[39m\u001b[38;5;124mYCP.pt\u001b[39m\u001b[38;5;124m'\u001b[39m,\u001b[38;5;124m'\u001b[39m\u001b[38;5;124mXTP.pt\u001b[39m\u001b[38;5;124m'\u001b[39m,\u001b[38;5;124m'\u001b[39m\u001b[38;5;124mYTP.pt\u001b[39m\u001b[38;5;124m'\u001b[39m\n\u001b[1;32m     79\u001b[0m     })\n",
      "\u001b[0;31mTypeError\u001b[0m: Preprocessor() takes no arguments"
     ]
    }
   ],
   "source": [
    "TASK = 'predict' #['fit','predict']\n",
    "a.docker = bool(1)\n",
    "e = Estimator(a) \n",
    "getattr(e, TASK)()"
   ]
  },
  {
   "cell_type": "code",
   "execution_count": null,
   "id": "25f9fe8d",
   "metadata": {},
   "outputs": [],
   "source": []
  },
  {
   "cell_type": "code",
   "execution_count": null,
   "id": "bc4d98c9",
   "metadata": {},
   "outputs": [],
   "source": []
  },
  {
   "cell_type": "code",
   "execution_count": null,
   "id": "a1a65d17",
   "metadata": {},
   "outputs": [],
   "source": [
    "1"
   ]
  },
  {
   "cell_type": "code",
   "execution_count": null,
   "id": "443f2530",
   "metadata": {},
   "outputs": [],
   "source": [
    "1"
   ]
  },
  {
   "cell_type": "code",
   "execution_count": null,
   "id": "f0bec380",
   "metadata": {},
   "outputs": [],
   "source": []
  },
  {
   "cell_type": "code",
   "execution_count": null,
   "id": "9bd133ce",
   "metadata": {},
   "outputs": [],
   "source": []
  },
  {
   "cell_type": "code",
   "execution_count": null,
   "id": "4ba69845",
   "metadata": {},
   "outputs": [],
   "source": []
  }
 ],
 "metadata": {
  "kernelspec": {
   "display_name": "Python 3 (ipykernel)",
   "language": "python",
   "name": "python3"
  },
  "language_info": {
   "codemirror_mode": {
    "name": "ipython",
    "version": 3
   },
   "file_extension": ".py",
   "mimetype": "text/x-python",
   "name": "python",
   "nbconvert_exporter": "python",
   "pygments_lexer": "ipython3",
   "version": "3.9.7"
  }
 },
 "nbformat": 4,
 "nbformat_minor": 5
}
