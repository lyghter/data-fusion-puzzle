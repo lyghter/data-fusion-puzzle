{
 "cells": [
  {
   "cell_type": "code",
   "execution_count": null,
   "id": "cf4eda18",
   "metadata": {},
   "outputs": [],
   "source": []
  },
  {
   "cell_type": "code",
   "execution_count": null,
   "id": "3724bf92",
   "metadata": {},
   "outputs": [],
   "source": []
  },
  {
   "cell_type": "code",
   "execution_count": 1,
   "id": "ec6b5e09",
   "metadata": {},
   "outputs": [],
   "source": [
    "# !rm -rf /notebooks/v3/data"
   ]
  },
  {
   "cell_type": "code",
   "execution_count": 2,
   "id": "453363db",
   "metadata": {},
   "outputs": [
    {
     "name": "stdout",
     "output_type": "stream",
     "text": [
      "/notebooks/v3\n"
     ]
    }
   ],
   "source": [
    "%cd .."
   ]
  },
  {
   "cell_type": "code",
   "execution_count": 3,
   "id": "e21cb3ec",
   "metadata": {},
   "outputs": [
    {
     "name": "stdout",
     "output_type": "stream",
     "text": [
      "M\tipynb/main.ipynb\n",
      "M\tipynb/run.ipynb\n",
      "M\tlib/data/preprocessor.py\n",
      "M\tlib/run/estimator.py\n",
      "Already on 'dev'\n",
      "Your branch is up to date with 'origin/dev'.\n",
      "[dev 1e3932b] .\n",
      " 4 files changed, 159 insertions(+), 55 deletions(-)\n",
      "Counting objects: 10, done.\n",
      "Delta compression using up to 8 threads.\n",
      "Compressing objects: 100% (10/10), done.\n",
      "Writing objects: 100% (10/10), 2.28 KiB | 2.28 MiB/s, done.\n",
      "Total 10 (delta 8), reused 0 (delta 0)\n",
      "remote: Resolving deltas: 100% (8/8), completed with 8 local objects.\u001b[K\n",
      "To https://github.com/lyghter/data-fusion-puzzle\n",
      "   aafb9de..1e3932b  dev -> dev\n"
     ]
    }
   ],
   "source": [
    "!git config --global user.email \"lyghter@ya.ru\"\n",
    "!git config --global user.name \"lyghter\"\n",
    "!git checkout dev\n",
    "!git add .\n",
    "!git commit -am .\n",
    "!git push"
   ]
  },
  {
   "cell_type": "code",
   "execution_count": 4,
   "id": "a6d56577",
   "metadata": {},
   "outputs": [
    {
     "name": "stderr",
     "output_type": "stream",
     "text": [
      "Global seed set to 0\n"
     ]
    }
   ],
   "source": [
    "import warnings\n",
    "from lib.run.args import Args\n",
    "from lib.run.estimator import Estimator"
   ]
  },
  {
   "cell_type": "code",
   "execution_count": 5,
   "id": "8a93c920",
   "metadata": {},
   "outputs": [],
   "source": [
    "warnings.filterwarnings('ignore')"
   ]
  },
  {
   "cell_type": "code",
   "execution_count": 6,
   "id": "611a4957",
   "metadata": {},
   "outputs": [
    {
     "name": "stdout",
     "output_type": "stream",
     "text": [
      "b4cecc091a4856a030c4f3542b04bef4\n"
     ]
    }
   ],
   "source": [
    "a = Args(\n",
    "        splitter = 'Sequential',\n",
    "        splitter_pp = dict(\n",
    "            n_days_in_sample = 30,\n",
    "            bank_quantile = 0.9,\n",
    "            rtk_quantile = 0.9,\n",
    "        ),    \n",
    "        n_folds = 3, # 1000 == 'full train'\n",
    "        fold = 0,\n",
    "    \n",
    "        fit_limit = 10,\n",
    "        val_limit = 10,\n",
    "    \n",
    "        batch_size = 27,    \n",
    "        lr = 1e-3,\n",
    "        n_epochs = 10**10,\n",
    "        check_val_every_n_epoch = 1,\n",
    "    \n",
    "        bb_pp = dict(\n",
    "            block_size = 16,\n",
    "            hidden_size = 128,\n",
    "            intermediate_size = 128,\n",
    "            num_attention_heads = 1,\n",
    "            num_hidden_layers = 1,\n",
    "            num_random_blocks = 1,\n",
    "        ),\n",
    "    \n",
    "        loss = 'MarginLoss',\n",
    "        loss_pp = dict(),\n",
    "    \n",
    "        use_unmatched = bool(0),\n",
    "    \n",
    "        miner = None,\n",
    "        miner_pp = dict(),\n",
    "    \n",
    "        avg_loss = 'mean',\n",
    "        avg_pred = 'mean',\n",
    ")\n",
    "a.update()"
   ]
  },
  {
   "cell_type": "code",
   "execution_count": 7,
   "id": "1066bf47",
   "metadata": {},
   "outputs": [
    {
     "name": "stdout",
     "output_type": "stream",
     "text": [
      "'epoch=0.ckpt'\t'epoch=2.ckpt'\t'epoch=4.ckpt'\t'epoch=6.ckpt'\t'epoch=8.ckpt'\n",
      "'epoch=1.ckpt'\t'epoch=3.ckpt'\t'epoch=5.ckpt'\t'epoch=7.ckpt'\n"
     ]
    }
   ],
   "source": [
    "!ls log/b4cecc091a4856a030c4f3542b04bef4/version_0/checkpoints"
   ]
  },
  {
   "cell_type": "code",
   "execution_count": 8,
   "id": "426db825",
   "metadata": {},
   "outputs": [
    {
     "name": "stdout",
     "output_type": "stream",
     "text": [
      "--------------------\n",
      "0\n",
      "--------------------\n",
      "--------------------\n",
      "0\n",
      "--------------------\n",
      "--------------------\n",
      "0\n",
      "--------------------\n",
      "--------------------\n",
      "0\n",
      "--------------------\n",
      "len(cl) 14797017\n"
     ]
    },
    {
     "name": "stderr",
     "output_type": "stream",
     "text": [
      "100%|██████████| 14797017/14797017 [01:15<00:00, 196600.66it/s]\n",
      "100%|██████████| 2611403/2611403 [00:12<00:00, 213286.03it/s]\n"
     ]
    },
    {
     "name": "stdout",
     "output_type": "stream",
     "text": [
      "Sequential2Splitter __init__...\n",
      "Sequential2Splitter run...\n",
      "Sequential2Splitter get_tensors...\n"
     ]
    },
    {
     "name": "stderr",
     "output_type": "stream",
     "text": [
      "100%|██████████| 2463/2463 [00:16<00:00, 151.43it/s]\n"
     ]
    },
    {
     "name": "stdout",
     "output_type": "stream",
     "text": [
      "Sequential2Splitter pad...\n"
     ]
    },
    {
     "name": "stderr",
     "output_type": "stream",
     "text": [
      "100%|██████████| 16636/16636 [00:00<00:00, 47614.15it/s]\n",
      "100%|██████████| 16636/16636 [00:00<00:00, 20306.56it/s]\n"
     ]
    },
    {
     "name": "stdout",
     "output_type": "stream",
     "text": [
      "torch.Size([16636, 2256])\n",
      "torch.Size([16636])\n",
      "rtk_uids 2463\n",
      "Sequential2Splitter get_tensors...\n"
     ]
    },
    {
     "name": "stderr",
     "output_type": "stream",
     "text": [
      "100%|██████████| 2930/2930 [00:30<00:00, 97.63it/s] \n"
     ]
    },
    {
     "name": "stdout",
     "output_type": "stream",
     "text": [
      "Sequential2Splitter pad...\n"
     ]
    },
    {
     "name": "stderr",
     "output_type": "stream",
     "text": [
      "100%|██████████| 37225/37225 [00:00<00:00, 343208.21it/s]\n",
      "100%|██████████| 37225/37225 [00:00<00:00, 243817.95it/s]\n"
     ]
    },
    {
     "name": "stdout",
     "output_type": "stream",
     "text": [
      "torch.Size([37225, 120])\n",
      "torch.Size([37225])\n",
      "bank_uids 2930\n",
      "save XCP.pt\n"
     ]
    },
    {
     "ename": "AttributeError",
     "evalue": "'Preprocessor' object has no attribute 'XC'",
     "output_type": "error",
     "traceback": [
      "\u001b[0;31m---------------------------------------------------------------------------\u001b[0m",
      "\u001b[0;31mAttributeError\u001b[0m                            Traceback (most recent call last)",
      "Input \u001b[0;32mIn [8]\u001b[0m, in \u001b[0;36m<cell line: 1>\u001b[0;34m()\u001b[0m\n\u001b[0;32m----> 1\u001b[0m e \u001b[38;5;241m=\u001b[39m \u001b[43mEstimator\u001b[49m\u001b[43m(\u001b[49m\u001b[43ma\u001b[49m\u001b[43m)\u001b[49m\n",
      "File \u001b[0;32m/notebooks/v3/lib/run/estimator.py:25\u001b[0m, in \u001b[0;36mEstimator.__init__\u001b[0;34m(s, a)\u001b[0m\n\u001b[1;32m     23\u001b[0m s\u001b[38;5;241m.\u001b[39mdata_files \u001b[38;5;241m=\u001b[39m \u001b[38;5;28mset\u001b[39m(os\u001b[38;5;241m.\u001b[39mlistdir(s\u001b[38;5;241m.\u001b[39mdata_dir))\n\u001b[1;32m     24\u001b[0m s\u001b[38;5;241m.\u001b[39mprepare_data_for_puzzle()\n\u001b[0;32m---> 25\u001b[0m \u001b[43ms\u001b[49m\u001b[38;5;241;43m.\u001b[39;49m\u001b[43mprepare_data_for_matching\u001b[49m\u001b[43m(\u001b[49m\u001b[43m)\u001b[49m\n\u001b[1;32m     26\u001b[0m s\u001b[38;5;241m.\u001b[39mload_encoders()\n\u001b[1;32m     27\u001b[0m s\u001b[38;5;241m.\u001b[39mload_tensors()\n",
      "File \u001b[0;32m/notebooks/v3/lib/run/estimator.py:66\u001b[0m, in \u001b[0;36mEstimator.prepare_data_for_matching\u001b[0;34m(s)\u001b[0m\n\u001b[1;32m     65\u001b[0m \u001b[38;5;28;01mdef\u001b[39;00m \u001b[38;5;21mprepare_data_for_matching\u001b[39m(s):\n\u001b[0;32m---> 66\u001b[0m     \u001b[43ms\u001b[49m\u001b[38;5;241;43m.\u001b[39;49m\u001b[43mrun_or_pass\u001b[49m\u001b[43m(\u001b[49m\n\u001b[1;32m     67\u001b[0m \u001b[43m         \u001b[49m\u001b[43mPreprocessor\u001b[49m\u001b[43m,\u001b[49m\u001b[43m \u001b[49m\u001b[43m{\u001b[49m\n\u001b[1;32m     68\u001b[0m \u001b[43m        \u001b[49m\u001b[38;5;124;43m'\u001b[39;49m\u001b[38;5;124;43mXCP.pt\u001b[39;49m\u001b[38;5;124;43m'\u001b[39;49m\u001b[43m,\u001b[49m\u001b[38;5;124;43m'\u001b[39;49m\u001b[38;5;124;43mYCP.pt\u001b[39;49m\u001b[38;5;124;43m'\u001b[39;49m\u001b[43m,\u001b[49m\u001b[38;5;124;43m'\u001b[39;49m\u001b[38;5;124;43mXTP.pt\u001b[39;49m\u001b[38;5;124;43m'\u001b[39;49m\u001b[43m,\u001b[49m\u001b[38;5;124;43m'\u001b[39;49m\u001b[38;5;124;43mYTP.pt\u001b[39;49m\u001b[38;5;124;43m'\u001b[39;49m\n\u001b[1;32m     69\u001b[0m \u001b[43m    \u001b[49m\u001b[43m}\u001b[49m\u001b[43m)\u001b[49m\n",
      "File \u001b[0;32m/notebooks/v3/lib/run/estimator.py:75\u001b[0m, in \u001b[0;36mEstimator.run_or_pass\u001b[0;34m(s, Class, files)\u001b[0m\n\u001b[1;32m     73\u001b[0m Class \u001b[38;5;241m=\u001b[39m \u001b[38;5;28meval\u001b[39m(class_name)\n\u001b[1;32m     74\u001b[0m t0 \u001b[38;5;241m=\u001b[39m time\u001b[38;5;241m.\u001b[39mtime()\n\u001b[0;32m---> 75\u001b[0m \u001b[38;5;28;01mif\u001b[39;00m \u001b[38;5;129;01mnot\u001b[39;00m files\u001b[38;5;241m.\u001b[39missubset(s\u001b[38;5;241m.\u001b[39mdata_files):  \n\u001b[1;32m     76\u001b[0m     Class(s\u001b[38;5;241m.\u001b[39ma)\u001b[38;5;241m.\u001b[39mrun()\n\u001b[1;32m     77\u001b[0m t1 \u001b[38;5;241m=\u001b[39m time\u001b[38;5;241m.\u001b[39mtime()\n",
      "File \u001b[0;32m/notebooks/v3/lib/data/preprocessor.py:67\u001b[0m, in \u001b[0;36mPreprocessor.run\u001b[0;34m(s)\u001b[0m\n\u001b[1;32m     65\u001b[0m XC,YC,XT,YT \u001b[38;5;241m=\u001b[39m splitter\u001b[38;5;241m.\u001b[39mrun(cl,tr)\n\u001b[1;32m     66\u001b[0m \u001b[38;5;28;01mfor\u001b[39;00m name \u001b[38;5;129;01min\u001b[39;00m [\u001b[38;5;124m'\u001b[39m\u001b[38;5;124mXC\u001b[39m\u001b[38;5;124m'\u001b[39m,\u001b[38;5;124m'\u001b[39m\u001b[38;5;124mYC\u001b[39m\u001b[38;5;124m'\u001b[39m,\u001b[38;5;124m'\u001b[39m\u001b[38;5;124mXT\u001b[39m\u001b[38;5;124m'\u001b[39m,\u001b[38;5;124m'\u001b[39m\u001b[38;5;124mYT\u001b[39m\u001b[38;5;124m'\u001b[39m]:\n\u001b[0;32m---> 67\u001b[0m     \u001b[43ms\u001b[49m\u001b[38;5;241;43m.\u001b[39;49m\u001b[43msave\u001b[49m\u001b[43m(\u001b[49m\u001b[43mname\u001b[49m\u001b[43m,\u001b[49m\u001b[43m \u001b[49m\u001b[38;5;124;43mf\u001b[39;49m\u001b[38;5;124;43m'\u001b[39;49m\u001b[38;5;132;43;01m{\u001b[39;49;00m\u001b[43mname\u001b[49m\u001b[38;5;132;43;01m}\u001b[39;49;00m\u001b[38;5;124;43mP.pt\u001b[39;49m\u001b[38;5;124;43m'\u001b[39;49m\u001b[43m)\u001b[49m\n\u001b[1;32m     69\u001b[0m P \u001b[38;5;241m=\u001b[39m pd\u001b[38;5;241m.\u001b[39mDataFrame()\n\u001b[1;32m     70\u001b[0m P[\u001b[38;5;124m'\u001b[39m\u001b[38;5;124mbank\u001b[39m\u001b[38;5;124m'\u001b[39m] \u001b[38;5;241m=\u001b[39m (bank\u001b[38;5;241m+\u001b[39mbank)[:max_len]\n",
      "File \u001b[0;32m/notebooks/v3/lib/data/io.py:14\u001b[0m, in \u001b[0;36mIO.save\u001b[0;34m(s, x_name, file_name)\u001b[0m\n\u001b[1;32m     12\u001b[0m name, ext \u001b[38;5;241m=\u001b[39m file_name\u001b[38;5;241m.\u001b[39msplit(\u001b[38;5;124m'\u001b[39m\u001b[38;5;124m.\u001b[39m\u001b[38;5;124m'\u001b[39m)\n\u001b[1;32m     13\u001b[0m path \u001b[38;5;241m=\u001b[39m s\u001b[38;5;241m.\u001b[39mdata_dir\u001b[38;5;241m/\u001b[39mfile_name\n\u001b[0;32m---> 14\u001b[0m x \u001b[38;5;241m=\u001b[39m \u001b[38;5;28;43mgetattr\u001b[39;49m\u001b[43m(\u001b[49m\u001b[43ms\u001b[49m\u001b[43m,\u001b[49m\u001b[43m \u001b[49m\u001b[43mx_name\u001b[49m\u001b[43m)\u001b[49m\n\u001b[1;32m     15\u001b[0m \u001b[38;5;28;01mif\u001b[39;00m \u001b[38;5;28misinstance\u001b[39m(x, pd\u001b[38;5;241m.\u001b[39mDataFrame):\n\u001b[1;32m     16\u001b[0m     x \u001b[38;5;241m=\u001b[39m x\u001b[38;5;241m.\u001b[39mreset_index()\n",
      "\u001b[0;31mAttributeError\u001b[0m: 'Preprocessor' object has no attribute 'XC'"
     ]
    }
   ],
   "source": [
    "e = Estimator(a) "
   ]
  },
  {
   "cell_type": "code",
   "execution_count": null,
   "id": "596b44e9",
   "metadata": {},
   "outputs": [],
   "source": []
  },
  {
   "cell_type": "code",
   "execution_count": null,
   "id": "eeb832af",
   "metadata": {},
   "outputs": [],
   "source": []
  },
  {
   "cell_type": "code",
   "execution_count": null,
   "id": "accd62f4",
   "metadata": {},
   "outputs": [],
   "source": [
    "e.fit()"
   ]
  },
  {
   "cell_type": "code",
   "execution_count": null,
   "id": "a9de18a7",
   "metadata": {},
   "outputs": [],
   "source": [
    "# e.predict_puzzle()"
   ]
  },
  {
   "cell_type": "code",
   "execution_count": null,
   "id": "f721def2",
   "metadata": {},
   "outputs": [],
   "source": [
    "# e.predict_matching()"
   ]
  },
  {
   "cell_type": "code",
   "execution_count": null,
   "id": "ed8516a4",
   "metadata": {},
   "outputs": [],
   "source": []
  },
  {
   "cell_type": "code",
   "execution_count": null,
   "id": "07145a30",
   "metadata": {},
   "outputs": [],
   "source": []
  },
  {
   "cell_type": "code",
   "execution_count": null,
   "id": "4e1b9e82",
   "metadata": {},
   "outputs": [],
   "source": [
    "1/0"
   ]
  },
  {
   "cell_type": "code",
   "execution_count": null,
   "id": "21a2e5bd",
   "metadata": {},
   "outputs": [],
   "source": []
  },
  {
   "cell_type": "code",
   "execution_count": null,
   "id": "9a22896b",
   "metadata": {},
   "outputs": [],
   "source": []
  },
  {
   "cell_type": "code",
   "execution_count": null,
   "id": "2f73e754",
   "metadata": {},
   "outputs": [],
   "source": []
  }
 ],
 "metadata": {
  "kernelspec": {
   "display_name": "Python 3 (ipykernel)",
   "language": "python",
   "name": "python3"
  },
  "language_info": {
   "codemirror_mode": {
    "name": "ipython",
    "version": 3
   },
   "file_extension": ".py",
   "mimetype": "text/x-python",
   "name": "python",
   "nbconvert_exporter": "python",
   "pygments_lexer": "ipython3",
   "version": "3.9.7"
  }
 },
 "nbformat": 4,
 "nbformat_minor": 5
}
