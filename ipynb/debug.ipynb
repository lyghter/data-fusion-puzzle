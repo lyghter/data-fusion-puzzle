{
 "cells": [
  {
   "cell_type": "code",
   "execution_count": null,
   "id": "c2295be4",
   "metadata": {},
   "outputs": [],
   "source": []
  },
  {
   "cell_type": "code",
   "execution_count": null,
   "id": "afdd5edf",
   "metadata": {},
   "outputs": [],
   "source": []
  },
  {
   "cell_type": "code",
   "execution_count": 1,
   "id": "c3ef903c",
   "metadata": {},
   "outputs": [
    {
     "name": "stdout",
     "output_type": "stream",
     "text": [
      "/notebooks/v2\n"
     ]
    }
   ],
   "source": [
    "%cd .."
   ]
  },
  {
   "cell_type": "code",
   "execution_count": 2,
   "id": "b7c7aca6",
   "metadata": {},
   "outputs": [],
   "source": [
    "import warnings\n",
    "warnings.filterwarnings('ignore')"
   ]
  },
  {
   "cell_type": "code",
   "execution_count": 3,
   "id": "6a196272",
   "metadata": {},
   "outputs": [
    {
     "name": "stderr",
     "output_type": "stream",
     "text": [
      "Global seed set to 0\n"
     ]
    }
   ],
   "source": [
    "from lib.base import *\n",
    "from lib.data.splitter.sequential2 import Sequential2Splitter\n",
    "from lib.run.args import Args\n",
    "from lib.data.datamodule.test2 import Test2\n",
    "from lib.run.model import Model"
   ]
  },
  {
   "cell_type": "code",
   "execution_count": 4,
   "id": "4e147e55",
   "metadata": {
    "collapsed": true,
    "jupyter": {
     "outputs_hidden": true
    }
   },
   "outputs": [
    {
     "name": "stderr",
     "output_type": "stream",
     "text": [
      "100%|██████████| 15/15 [04:03<00:00, 16.25s/it]"
     ]
    },
    {
     "name": "stdout",
     "output_type": "stream",
     "text": [
      "(2930, 2)\n",
      "[['000932580e404dafbecd5916d4640938'\n",
      "  list([0.0, 0, '0ec32896a78c469983aba2fe4fb66b97', '02981ce603e140fa9840fddcafe530b1', '0c52e5318c6c4725a5e070630d45b09c', '00b9ef5ab6c04fcd969bab43a898f14e', '107542f0bfcb476f899907b17ffdcd99', '1f2100d56e9c4eddb049cf126841b7dc', '151845e35a554fd39fc5fbe4477aee88', '19b1fb5be667430585ec03d052a7cd84', '0cbc645a2f25461a9b52d520d36a3981', '029f234dfb78484a9e8918f97b08b218', '0ac4431a741746d8873ef46e214e355f', '15621f1f7d854966b10cc32438a7f804', '08b940b588284877828b052f121eaf53', '18f83b3b7f694c0395a047bc693bafa8', '1dd9bc0185b544ee87e585047f235b12', '1345f78619ca44e0a9e264968cd729eb', '026bf40a4c0d4f0bb564d40098e087c7', '010fa6cf11f24bb49c86464c5c413f31', '06fb680c5b3d42df9bb55e60d48d03b9', '1a6a5b4fd85f49b9a2fe676d825b2b91', '1d9278bdb853412ea61f2de3b0670e1c', '1e8e3e1a150b4ea09856c82dc97b6961', '0150bb90129545e889f32003335d27a3', '0078f349d197481c9e2fb43b0a6d1b84', '1d1838a3cc6b4812990f0eff4858247a', '04c17584d2994f7ea64ba76963c01ac9', '037c0e12fadd4064b474e5ea6b7eb3d0', '001e896589af4b82b1fbc5711515b470', '01ca68f3198840f1b4db4cfa63bdcc2e', '1f3a7a8e58354311a9b6ad9cff9c5db1', '1df0503f7a1044b983d150745bf84408', '1ca5f3b149ec4d228b25474f0d5a2177', '0c2f873f664b4991a372dbb778d1c99e', '1d7a133382b44511bfb50132c55c84d6', '1b9db776bddf44f7980529f847292ede', '12220f353ec142088006c2d883aefe86', '136dc3e8b50f4f098fb62e95f3093e68', '110310ffb1aa4df291238804ab01597c', '0da8ac53430e4307b1951dc266496620', '182ad88293bb4ffa9a5f42c8beb3af0d', '10f85f3f95254ce1abaf31f5a59d9d62', '11cf7e2f9a4b4bc6ab9c82372d634597', '0708c82a49ff40a9870cc3e657c29c4a', '1269ef63cd4c478387724fdf6a9b00ea', '0ebe040e079e4658bbb95520f1d13395', '0c4f8cc2d6234e7b85485155951213cc', '0581f565578d45fab8f8179b4fd120f2', '13f1fa5e46754feeaa40e9f3fbd74cba', '2081e7c3407e4755856ceae586abea99', '11491da23d734be3a72083d522f85739', '1831b2efd68d4b078f73d0a9d8ea52e5', '02586a94998d452aa31099549bc22de4', '1b0849ce5f7748b4a8cb51c62dfff75b', '138aac12b4d842b3b26dffa3d2c920c0', '09e0a8ee447943678d2358f2e6b55c1e', '1c8cf5814f434a23a5712919fcecd820', '1f9e54480b1f427ca89e04ad2d739eb9', '196bec16447c463ebefce46ba4520f17', '2154cf9609e2486eb6169e3064fc5fd6', '0995abdf39b24c2f9868a41fe21a785e', '14fa9bcd8a3446cd9c14b47a8bd8e43e', '1fb8593becc941fcb4e80d811383b1ca', '0850781d19ef400483b11b8f0ef2cece', '17def54b9e39427fa1bf0ceb618b9025', '14100dcbadd5446cabce3e0c8fca9adc', '011df1275bdf4040b9f501618ac7f8fd', '081808ac10b14b3fb4e31d7331c41fb6', '12b3b0aa9b054302b156e58fd772402d', '011d9f5a929f4e0ba548e378d02a2000', '1a067a488b50465e80eed28afe30626c', '10775133aacc448fb5e054d793434909', '1455a86699bb49db931426a7cba4f473', '1b989a6c80474dcc9341dd81164b3812', '0cc21df5196249aea231c74ee88a1850', '0119028e776f4429a2faf6e43a93336d', '06e40a7c7bbb42d4b8663d20c469289a', '2040926806b84d20ae1a39e3a8c79726', '04feaf7c90e14f8e932fc2e84e43f5a8', '147539bd55f0402aafe34d436067be67', '214812d6fbfd4374868bcc48a0d98324', '07b68937290845c491912589e0ef9caa', '003c5614416a4c81ab4ee74b72035842', '0763e884be0142f0a82f30c95c019c5c', '19af8ffba3824ef4878fcb69b1186ecf', '0749a983d00c4a2788ec31b70bacfdfe', '0cc08f74acaa485fbbecb6c59f5f6849', '0c03a213dfee4967adfcd2db411bbf78', '0d8e2ccb643c4306bb0385be1dc45d03', '07bd1c50e37a4a27bad2bfaaf9ef3503', '2013a4c39bb143318665af3a7c19d639', '0bfb76cf0767430abdd2772b5c494abd', '026ebaebde804f74bf34fb3ef80f1b50', '0ec09f88f36645e1b40d38ccd7617262', '04eb6a3119944980bc7c01512ff6da10', '1f30740b019b4ce7992eb3fa93b0aaea', '1591ce1219144d088c8faadfa76fc353', '04548acddc584bf39b797fcf0f0d8057', '1cacb9de7a564374b9f1af255cd81911'])]\n",
      " ['0009e36b42cb4caeb928a1e596819495'\n",
      "  list([0.0, 0, '0ec32896a78c469983aba2fe4fb66b97', '02981ce603e140fa9840fddcafe530b1', '0c52e5318c6c4725a5e070630d45b09c', '00b9ef5ab6c04fcd969bab43a898f14e', '1f2100d56e9c4eddb049cf126841b7dc', '19b1fb5be667430585ec03d052a7cd84', '151845e35a554fd39fc5fbe4477aee88', '107542f0bfcb476f899907b17ffdcd99', '029f234dfb78484a9e8918f97b08b218', '0ac4431a741746d8873ef46e214e355f', '15621f1f7d854966b10cc32438a7f804', '08b940b588284877828b052f121eaf53', '18f83b3b7f694c0395a047bc693bafa8', '1345f78619ca44e0a9e264968cd729eb', '0cbc645a2f25461a9b52d520d36a3981', '1dd9bc0185b544ee87e585047f235b12', '010fa6cf11f24bb49c86464c5c413f31', '1f3a7a8e58354311a9b6ad9cff9c5db1', '026bf40a4c0d4f0bb564d40098e087c7', '06fb680c5b3d42df9bb55e60d48d03b9', '1a6a5b4fd85f49b9a2fe676d825b2b91', '005c28ac58194146bc38fbbce30cdb47', '08237f72109241f69e89a85a9f40a6f2', '1d9278bdb853412ea61f2de3b0670e1c', '0556e7bde5654047b9f3e8b6b6412f7c', '2096ab6ec196476fa0607ba468b3570b', '15f504d583b74aeb8b041fcdd1e0f9ab', '10a053d11fff4352bd2afa30f0eb668d', '008856379d0f481480f4a79f01a75f59', '06633f1a8d43482b87a05398fd4f0175', '1d0e0cd5e2ca4d599fba1f466f5f692a', '1df976c0d8df4df7ad4e0337618a1ea3', '06c2a8b7969642d5a1a5ebf4bd7ab0b9', '0bd7e694fb584c7bbb5bf2acb7c87443', '1bfb2e4fa1f64fa88c7d27f028fab708', '12258e48e2044d0f99f113816f6c585d', '0acc11bfcf94413d815a80803efaa6a2', '12344f611755427780ecc3c4c57c1861', '0cf7a8c520a6441ab676b120fb711c00', '0e797e16c8474e4e86d119e4dd94a787', '0a3c2ff021b34031ba83be44aa0d5d09', '1879d8658272476c92b670e2762b270c', '06f42065c23044e8b9fe1cdc9d0da596', '153a5df1904547b09d1f2a5d38f85774', '0c9af10786d44c549adf9786d51db796', '0fbb562ac0eb404fb3b33ea8a9cc5f04', '02248ac022944cc4b04203ec4d8d83bf', '0b40ddfac2cc4fefba48207af4bda420', '0611e5d890dd4fb0b1c51af20e7fdaa3', '0f917ac6c7f84b8ea1fcdcebad96ecdd', '184d19ea39174dc8b2ee2d8cb56a36db', '1c572ca40ba1402fbdab20f1dbaa45ad', '137a3dc92364412493e4fdf060b04ba7', '07f708792154421f90f4195ec220d3b1', '0d1c0d010f324d13a95d0575e1fb3e9d', '19ea16c4ff104cfdb1d370eacdd7dfe6', '090539e8939842a285e6765bacc1d783', '1aea50a1a3154fa6ad5f56a33b534a28', '1aa4e5bc3d554820a1da2c9a9d8f5156', '001e896589af4b82b1fbc5711515b470', '1b6b8b345c5e447fa13a70f504b6e323', '054ffe4a2f2c4bee944bf36bd3ce7e8f', '1d1f8c3340d74fe9b1f55ff02e418b21', '1b2e4446f9d9455990abc9b689c1f8de', '05fa9535a5ef42cb9f80f1787e62cb37', '100f5b01f8204f0d841e9c2dbc8e29ae', '05c5fbf0ea674b9e92173294a13159db', '1b9f8cd995bf412883da0a09a19fc432', '1e6aac89e7ed4e9b8b9332e736bfca32', '1415a2527a4d4a69a21e47728f3b9c55', '15937c97f1ed4e3ab65eec6bd3dff9af', '0842aa029ffc4239be6f1bf15049f474', '09ba0a69120a4fe49c81714d2bd9886c', '189fe14297c247fd9658b14999f31b63', '101696dca4104a2fba015295a773ba24', '031ca138415b4339b1478b7fa151e214', '1e3b17df11714f92bbf3869e041f638e', '1c096d1e1b694be7b25f78b5aaaa9f7c', '1d278d2d802f4b819c8ab0400cc872a0', '1544d58444134d0881ded516f140aeb5', '12a9624fcfa541dbac279b2161a0473e', '1d9521fb74a64f1a8191c000cdc30627', '1e8e3e1a150b4ea09856c82dc97b6961', '10edb2a595894e43bc9640714edf9122', '1de4c0435e7a426293cc68c1cb70e4a2', '10581d61bcf54b4f90de4cff4baba3c5', '157f9001c71f4431865fb57e5a15acfb', '1a779bc7476d4073ad91d70b304511e8', '06be506226f744e38333f3f907d2a2c1', '0055299ccc4b49de8f0079b28f4a1fd3', '184f2c96ba6d4dd28ec77b2c4e23b5c3', '11abddcd22e24c7d910fc0967dfad040', '13bf30576f1e40f7b67e5d1a461d7b44', '0ce556dfbff343449e8fcbff6f740305', '20ffea50cd5e4ee1bfc20505f49c7f9b', '00e83f6eace64b3a8844313e0147e17d', '0dd5865a9dd04444af0b5462ac6a9cca', '141e6d50cd5943158193f1fc1c9ea3e4'])]\n",
      " ['000b29acb6bd44f99473c1be5ca28f3c'\n",
      "  list([0.0, 0, '02981ce603e140fa9840fddcafe530b1', '0ec32896a78c469983aba2fe4fb66b97', '0c52e5318c6c4725a5e070630d45b09c', '00b9ef5ab6c04fcd969bab43a898f14e', '107542f0bfcb476f899907b17ffdcd99', '1f2100d56e9c4eddb049cf126841b7dc', '19b1fb5be667430585ec03d052a7cd84', '151845e35a554fd39fc5fbe4477aee88', '0cbc645a2f25461a9b52d520d36a3981', '029f234dfb78484a9e8918f97b08b218', '08b940b588284877828b052f121eaf53', '0ac4431a741746d8873ef46e214e355f', '15621f1f7d854966b10cc32438a7f804', '18f83b3b7f694c0395a047bc693bafa8', '1dd9bc0185b544ee87e585047f235b12', '026bf40a4c0d4f0bb564d40098e087c7', '1345f78619ca44e0a9e264968cd729eb', '010fa6cf11f24bb49c86464c5c413f31', '1a6a5b4fd85f49b9a2fe676d825b2b91', '06fb680c5b3d42df9bb55e60d48d03b9', '00bde94f0e9b480e8b921d523e10f242', '1bab3958bb3a4b9bb6b409e4fe40a5f1', '0ef7d6913fe24eb5ba724379c28b70e7', '0e591979741f438a8d5121963816fac1', '014c4e3606eb4c71a67c595c289310d3', '1448d6bed35143c79ad647ad73a83a00', '1d9278bdb853412ea61f2de3b0670e1c', '05d79299cb5f479798cc58836f075d24', '0ead0aaf7ab84080a366239e89c8ad5a', '07bdcb28f1134546b7f115b4f8ebaa9f', '11da51297eb1431a8bafdf3094af9877', '0282385703564c6b9158f7074b417e9c', '011fae99571643e29f288b3ea9f6d076', '12fa179f8c46403eac057a9a758d723e', '1e77dc8f6bdb47bb9180278c96618475', '196bec16447c463ebefce46ba4520f17', '1a2f228aa32243318bc373c56fabd946', '167b2f1b48ad4f83b12f37872b92b0d7', '0570ab4b2d754dd3a3877c3b57269d41', '1991e43b9e5f435990f9ec7b79f9cb85', '0b36cbc216f44b91ba19398cdb2a9aaa', '0306c2b305914165a699213f99d398ce', '00851c6c0a7e42d8b7ded44586519c50', '0274c66c685841fc9f747b2fa57833a0', '02300f59f81e4fa89e6e4eba9ee58515', '070b4300d97743a5b9430b7135f922b9', '099b33a110774d99894531033a97a6c9', '16896d23f7e046218070cecbdf6e5200', '0b754c8574654cf19e94131c3b40b7d1', '20a48a5ac0ee4e7c8d816b9d1a04ca76', '013f0577d92d43bf8afabbc4113ee201', '0f66f5d3ae9244738e880ae18fb8255f', '071b31cc019942f68f354bcd71b63144', '01ca68f3198840f1b4db4cfa63bdcc2e', '1874d7dd9acf4acba19770fb36ce5d6a', '18f2c4a25cc14e689a649cb3ccbde1b8', '01fd3b92e80c4ba0863e143a552d0cdc', '0d1182cace0848158cec65719415d7d3', '15d5373e8f834ac19efb5bca3be2181e', '1cd6cdfad30a42cea4922a5ad3d8fb04', '203759d5c8044856a7b6a265d92e5f80', '08b8d260a23d496bb0ae6460c5d3b48f', '1b6facc9ff8e4882a30e76df8053680a', '206001d5d1a64107a6643e5fa17f9597', '03ef9780bfa14b40a91ee1a492a67aed', '005c28ac58194146bc38fbbce30cdb47', '081cd3b6a2bc499489256ebf4b0bee3e', '0fb87791191641d495fea090a01fab5c', '0b9632a310754bd08fc3a706f7c26235', '1c2b6db88019402a836afde39687c36d', '07ed9e1bde11483da2d77168559292e2', '14f8380d1c5047d5bf185e7d15bcbde0', '1ef254170e53455aaa8fc4f80057b1ae', '168ad8b267d846f7a7cbd53545d74e5f', '02159aed531547f68230f6bdc14d063f', '10307f42a13a4ab39f04559f5e413154', '0a07d58532bc4821bef2d29311b19a8b', '1831b2efd68d4b078f73d0a9d8ea52e5', '088ddaf9f0fe452181a2a2fc7b89611a', '1de784b5632344f2bf7a9079fac645e6', '09282485d0264a669524746c25f28190', '0f6f3212b1504621b380025a9480abd5', '0b8eb279e774435eabe7083c567fad2c', '1d7563a02d5d464284a51be887c0d634', '14171d05ab4b4a8397d7a44270e63e42', '0119028e776f4429a2faf6e43a93336d', '02586a94998d452aa31099549bc22de4', '072766991a1b436f83d469887963e13c', '0bcfc87b045a4718a6a66e7862d3a3ac', '0a7c62baea314495a033f173c7e9f073', '0b4bbab571f8499cab7ea87534083028', '09c412611b64422eb24cffc56fa547d9', '117c8ebe50f240949a1f24004786bb02', '0c2d1e911b2f47e8a09e83e86f3cfe49', '1dcab742a0fe47178c409840472db7e6', '1b85faa84cb54d90b53138a0a06a9e1b', '0dc2517dc8754812a693fe8e3ee48c04', '112a87753dd948d98e69604bbc0ce37c'])]\n",
      " ...\n",
      " ['213ab4e280614c258314a62024728bfb'\n",
      "  list([0.0, 0, '0ec32896a78c469983aba2fe4fb66b97', '02981ce603e140fa9840fddcafe530b1', '0c52e5318c6c4725a5e070630d45b09c', '00b9ef5ab6c04fcd969bab43a898f14e', '107542f0bfcb476f899907b17ffdcd99', '1f2100d56e9c4eddb049cf126841b7dc', '151845e35a554fd39fc5fbe4477aee88', '19b1fb5be667430585ec03d052a7cd84', '026bf40a4c0d4f0bb564d40098e087c7', '0cbc645a2f25461a9b52d520d36a3981', '029f234dfb78484a9e8918f97b08b218', '0ac4431a741746d8873ef46e214e355f', '15621f1f7d854966b10cc32438a7f804', '08b940b588284877828b052f121eaf53', '18f83b3b7f694c0395a047bc693bafa8', '1dd9bc0185b544ee87e585047f235b12', '1345f78619ca44e0a9e264968cd729eb', '1fd010fffd554d658cfa02bb3b2523b1', '1e0de2f6741b4b59a8b8e6a5e026f38a', '1b64706ebe9e464fb0b8c96908e3ddff', '1066fcf54a1f4d0b9f2d6970acd8bf5d', '010fa6cf11f24bb49c86464c5c413f31', '1222bf1bab25414888136e6081a8d381', '070b4300d97743a5b9430b7135f922b9', '00851c6c0a7e42d8b7ded44586519c50', '1511a850ee8546939d44359c2b5ea140', '0119028e776f4429a2faf6e43a93336d', '01ca68f3198840f1b4db4cfa63bdcc2e', '14e44bcf8f0045869d75d52183ed995d', '06898494f156404698d585c4dc01b78a', '1b521fcab44b4da99ac22718a83ecf08', '152e2c653649479aad2bfbde34fe520d', '0eae70d145114728901900bb7bf4d338', '196bec16447c463ebefce46ba4520f17', '09282485d0264a669524746c25f28190', '214c04a973364a45a1ece2cfcdce3317', '1dcab742a0fe47178c409840472db7e6', '1017e68f8aca44ff9383255bde4fa757', '07649714566a4d8a80d787fc9b70f825', '17cee53e7fde4336826ed461d073b222', '0cb189dfb948467e938418c122159519', '097fe3bd9bb4438da05c27d8a76d1bd8', '1de75bda992842d9915ee8168240a565', '09c412611b64422eb24cffc56fa547d9', '11f4e754f51a4fbe943dcb6d9aead7eb', '04b2ac53b98b4f37966ee41a48f1a138', '00d8a9e0ebac4b7894c5dd3e2ad5c17a', '08608c8f22f24320830df0f47c1d0ad8', '1327d47e0b9f43c6bcfc7bbd6c51c697', '0f2cf0a26118466bb723b97b7131067d', '034e874bf0064e128599044ca9b5b69a', '11747d4aa3ea4c2ba7790fc4adb28455', '1ca3279e725041d097e1e0b7eee7ed02', '1ef854bcf2d243968625813c76a9d1d4', '0f0e59c21a9a4b8da0cb6960fc0c2c7a', '1bc8be7fe71243c199db2bfb1fb4a678', '096c454b16d74f01a6bd8dccfd5973d9', '1a3ed71dfe2f43aa8ef7e903876fa3c5', '0f137a5b74a2477d8a2df74144bd8dfb', '0fb330a396344219ba78a00e55d81904', '0fadb381a43b4c8ca6df31ed5271627d', '0b9632a310754bd08fc3a706f7c26235', '081051dd68344f7ba0a44bfd3fbc44c4', '05c5224cd20c4042883b64badcd1cfdc', '04dd672eec4342b8a4f02132f9acbd9e', '02300f59f81e4fa89e6e4eba9ee58515', '068cbb6767244a78833aaba4214bebd7', '081da45b9525432885de61580864ff17', '158ccb81a7bd4dc19c43044999733198', '0b14da2849784e22bf6dd767e409e613', '0c2d1e911b2f47e8a09e83e86f3cfe49', '17e868772c5b40448817fb07ec103d6b', '1336808535804e3ea7075412e89c4295', '1b68891e51e141beac35b4aef9fc33ac', '13882d7b02c042ed9b5c1019edf7bb30', '0fb87791191641d495fea090a01fab5c', '1c2397a6ccdf47cbaec9845d437e2743', '11ff382d1fb54d71bc9e3ea2c4140d3f', '072963982fe74ad7a6c61cc28c019e17', '17c98d7db0d74b6db7310a0d9d4967cb', '061dabb68574413685e0f22259fc5f54', '00bde94f0e9b480e8b921d523e10f242', '06a4a9a71fa343109541ae3f84796882', '1258147d4680429d873572085b6b8527', '115d64e0720a4b4db5de8ee6a64b9ffa', '05a68e1645554bb88bcca2c52f13a3cb', '0a6dcc4435a4427cb5d068f53491656f', '089c261f9a2b472fbead1594e348dd11', '0d8c037f8cd840068fa128d6e27f1882', '194fe13746f24e66b23ef895f43b21ec', '03d7cb73007243109601ef9a97a9bc8a', '011fae99571643e29f288b3ea9f6d076', '04362595c59b4fc3ac607a036b033a81', '0b4bbab571f8499cab7ea87534083028', '1d7eff5c02b1414dab89aecfc3808f64', '0eb4be6915e94a40a9d8cc16be4e78ec', '113dfb68972a4b059ede5de0632035d9', '1a2f228aa32243318bc373c56fabd946'])]\n",
      " ['213c69ff1a2542b9943c1ccfecdf7648'\n",
      "  list([0.0, 0, '0ec32896a78c469983aba2fe4fb66b97', '02981ce603e140fa9840fddcafe530b1', '0c52e5318c6c4725a5e070630d45b09c', '00b9ef5ab6c04fcd969bab43a898f14e', '1f2100d56e9c4eddb049cf126841b7dc', '107542f0bfcb476f899907b17ffdcd99', '151845e35a554fd39fc5fbe4477aee88', '19b1fb5be667430585ec03d052a7cd84', '029f234dfb78484a9e8918f97b08b218', '08b940b588284877828b052f121eaf53', '0ac4431a741746d8873ef46e214e355f', '15621f1f7d854966b10cc32438a7f804', '18f83b3b7f694c0395a047bc693bafa8', '0cbc645a2f25461a9b52d520d36a3981', '1dd9bc0185b544ee87e585047f235b12', '1345f78619ca44e0a9e264968cd729eb', '026bf40a4c0d4f0bb564d40098e087c7', '010fa6cf11f24bb49c86464c5c413f31', '06fb680c5b3d42df9bb55e60d48d03b9', '1a6a5b4fd85f49b9a2fe676d825b2b91', '1d9278bdb853412ea61f2de3b0670e1c', '1e8e3e1a150b4ea09856c82dc97b6961', '0150bb90129545e889f32003335d27a3', '0078f349d197481c9e2fb43b0a6d1b84', '037c0e12fadd4064b474e5ea6b7eb3d0', '04c17584d2994f7ea64ba76963c01ac9', '001e896589af4b82b1fbc5711515b470', '01ca68f3198840f1b4db4cfa63bdcc2e', '1d1838a3cc6b4812990f0eff4858247a', '02586a94998d452aa31099549bc22de4', '0da8ac53430e4307b1951dc266496620', '0c2f873f664b4991a372dbb778d1c99e', '1f3a7a8e58354311a9b6ad9cff9c5db1', '1269ef63cd4c478387724fdf6a9b00ea', '1d7a133382b44511bfb50132c55c84d6', '1df0503f7a1044b983d150745bf84408', '1b9db776bddf44f7980529f847292ede', '12220f353ec142088006c2d883aefe86', '11cf7e2f9a4b4bc6ab9c82372d634597', '136dc3e8b50f4f098fb62e95f3093e68', '1b0849ce5f7748b4a8cb51c62dfff75b', '13f1fa5e46754feeaa40e9f3fbd74cba', '1ca5f3b149ec4d228b25474f0d5a2177', '1f9e54480b1f427ca89e04ad2d739eb9', '0708c82a49ff40a9870cc3e657c29c4a', '182ad88293bb4ffa9a5f42c8beb3af0d', '1455a86699bb49db931426a7cba4f473', '12200f424f54438398140d06d38ccf71', '10f85f3f95254ce1abaf31f5a59d9d62', '155c7cb4012b458fb6a455e67d1dad1f', '2154cf9609e2486eb6169e3064fc5fd6', '0581f565578d45fab8f8179b4fd120f2', '0995abdf39b24c2f9868a41fe21a785e', '2081e7c3407e4755856ceae586abea99', '17def54b9e39427fa1bf0ceb618b9025', '181db367d7414fc2ae899fa06cd6c366', '0ebe040e079e4658bbb95520f1d13395', '0dfabca7a62b4d73bca25640bb918944', '1289d1749a224b518750d86dfa62edaf', '119da0e6206b4cacaf9c2b2e48635920', '1f3792765dbc4a9e9cce77f799062800', '1b989a6c80474dcc9341dd81164b3812', '1b353bfa40a74da888bcd00da3eb1334', '1c4106979f4543849b6242a822854823', '0119028e776f4429a2faf6e43a93336d', '1704a6a3c8cc4bcb8452962fb95b14dd', '0749a983d00c4a2788ec31b70bacfdfe', '0c4f8cc2d6234e7b85485155951213cc', '1a3c1cf2bb10464d91dd07b645b0031b', '0d8e2ccb643c4306bb0385be1dc45d03', '20d51f67c89648f7a5b7fc14f8f2c237', '12b3b0aa9b054302b156e58fd772402d', '17b6008c321c4e78811c0574715486b9', '10775133aacc448fb5e054d793434909', '0e058f9c135b4b9f8dd8b10bc90c9ff4', '215b1b72e8cb46a5b5301b6f737f2927', '0d8a1251cda74c70a5f77a065a5d58a0', '0b661263191b4d41858b08ae6660e784', '08edb2766d14448ab6eec483d9ae85ab', '0a89179ad8a14dd9af067e52525c3217', '0cc21df5196249aea231c74ee88a1850', '1a067a488b50465e80eed28afe30626c', '08954b4f1e3c444dae216cbca62a2346', '19bc115fc00641cca241a6cc0154799b', '0a5735792d8649b1a79ea3189c52eb27', '0b85a5ef2d0149a8979383e99cde99f2', '073927d1bade4b9490340c6d51c5c3e4', '0d6245418f454ee9b7aa69688a4d249a', '11ebedc5e7084e10834355dd19dbe8ae', '178002ae3855459b957630bb27a84574', '1c24e7f938564a2aaa5e757314262da1', '2040926806b84d20ae1a39e3a8c79726', '016644a0e8db4081841a2db6c9809f41', '09e0a8ee447943678d2358f2e6b55c1e', '10e5ab85cdd143fbaaa1e2b866e5df38', '1e37b89e07764c4d9a8e58448687179e', '0555f4220f2e4fa1b5bf734023380bab', '0763e884be0142f0a82f30c95c019c5c'])]\n",
      " ['213c82e59a6e4fb0a8c6cc3cf9741380'\n",
      "  list([0.0, 0, '0ec32896a78c469983aba2fe4fb66b97', '02981ce603e140fa9840fddcafe530b1', '0c52e5318c6c4725a5e070630d45b09c', '00b9ef5ab6c04fcd969bab43a898f14e', '12fa179f8c46403eac057a9a758d723e', '071b31cc019942f68f354bcd71b63144', '20a48a5ac0ee4e7c8d816b9d1a04ca76', '017cbb84df5a42219f17a85ba7d94ada', '0b9632a310754bd08fc3a706f7c26235', '0e591979741f438a8d5121963816fac1', '203759d5c8044856a7b6a265d92e5f80', '00bde94f0e9b480e8b921d523e10f242', '1f2100d56e9c4eddb049cf126841b7dc', '03ef9780bfa14b40a91ee1a492a67aed', '02300f59f81e4fa89e6e4eba9ee58515', '19b1fb5be667430585ec03d052a7cd84', '151845e35a554fd39fc5fbe4477aee88', '0ead0aaf7ab84080a366239e89c8ad5a', '05d79299cb5f479798cc58836f075d24', '0a07d58532bc4821bef2d29311b19a8b', '11da51297eb1431a8bafdf3094af9877', '02831d884f5445c0a6acd600752e8630', '03b4e7e02b3a419c93e1edf4dfaded12', '18f69ef985914bdfaa033b9759a4a836', '0ef7d6913fe24eb5ba724379c28b70e7', '1cd6cdfad30a42cea4922a5ad3d8fb04', '117c8ebe50f240949a1f24004786bb02', '07ed9e1bde11483da2d77168559292e2', '1222bf1bab25414888136e6081a8d381', '0ed72d48b9f244459b372f7e3a71e462', '107542f0bfcb476f899907b17ffdcd99', '005c28ac58194146bc38fbbce30cdb47', '00851c6c0a7e42d8b7ded44586519c50', '10f589b6039c4dcdb1d04666238b122e', '1ef254170e53455aaa8fc4f80057b1ae', '081cd3b6a2bc499489256ebf4b0bee3e', '1d7bcdd69bb84b5287864e8350b586f0', '0f619cf56cfd4dc0a4d67c52098d131b', '02ad47e423774f7f9396df446064d4e9', '02ea216bac2e411fb5294c657a0490d4', '2026586f1c44482aafb1802ac9bca6a9', '1fed7939349a41989887291446ac78f8', '02159aed531547f68230f6bdc14d063f', '194fe13746f24e66b23ef895f43b21ec', '011fae99571643e29f288b3ea9f6d076', '053aeaab0df6412f8677a5d9ab8a3ed0', '1c2b6db88019402a836afde39687c36d', '14171d05ab4b4a8397d7a44270e63e42', '112d070226b54f20b579cf107443b6ee', '0b4bbab571f8499cab7ea87534083028', '1448d6bed35143c79ad647ad73a83a00', '08ef70e6a761496db2c36bdcb41ab028', '040c2d6142b44d08952adc8ec1a1dd61', '1ca3279e725041d097e1e0b7eee7ed02', '0dae65d45019435487041133883674e9', '0f6f3212b1504621b380025a9480abd5', '139d32fced4049f996643334ad375a03', '1bab3958bb3a4b9bb6b409e4fe40a5f1', '088ddaf9f0fe452181a2a2fc7b89611a', '1f4c651d93204a02824bbc3bfc3b9624', '03584f98f3364e48b2ef310b6545af98', '152e2c653649479aad2bfbde34fe520d', '0f66f5d3ae9244738e880ae18fb8255f', '070b4300d97743a5b9430b7135f922b9', '1d7563a02d5d464284a51be887c0d634', '1de784b5632344f2bf7a9079fac645e6', '09282485d0264a669524746c25f28190', '06b8a6f41cf545c68bc01930c4a9a4b3', '1c169f408b1448c4a130a2899a2e2392', '15d5373e8f834ac19efb5bca3be2181e', '20902bdfa34046369b1f11f5c013df7a', '11c313cb94b54151839cb295fe03782f', '083e46d9a76e43b1810cfb7466af7f5b', '08b8d260a23d496bb0ae6460c5d3b48f', '1327029477d542bbb03b40807a12115a', '16762cac9b264c4c9ff64cb8847d8e09', '068cbb6767244a78833aaba4214bebd7', '03743786e54a431285f1337b3570570a', '0c971e443af34495af0755087beab793', '0bf370451aaa4028b145468ef8f7e647', '1a1f1aa04568436c8488aba6d5219865', '12a6a63b208d410cb3362c8d942e988e', '0fb330a396344219ba78a00e55d81904', '137d56c57d794ee1b77d469b44fa3734', '151a553318844552ab8d7602b3848ddb', '03d8b2a78eda40e18ae26ffdb2e61d39', '1683ab701d4c44bca5029f46eae69cd8', '1a45796e13e34a39a22d1710f41e1778', '174017f7dc7c4268a5a6dd4e7e6e8ff5', '0f8d4439f9cf44908c5a50b6096eb954', '0d52dd83763a4323a9a46ec2a9f8fb53', '1207a7c827844871952f74c5fce37e6c', '0b3fcdcb2bb240f4b97727876153c2cd', '06898494f156404698d585c4dc01b78a', '18956a7946764512b5ad1f8791a3fc8f', '17fb50e51c674ab0a25c816b387090fc', '1e08e58adf4749e280c241ae744f6103', '05c4e5518fc14d9680efe699ad1da574'])]]\n"
     ]
    },
    {
     "name": "stderr",
     "output_type": "stream",
     "text": [
      "\n"
     ]
    }
   ],
   "source": [
    "import sys\n",
    "import pickle\n",
    "import pandas as pd\n",
    "import numpy as np\n",
    "from catboost import CatBoostClassifier\n",
    "import gc\n",
    "\n",
    "\n",
    "# data, output_path = sys.argv[1:]\n",
    "data = 'data'\n",
    "output_path = 'predictions.npz'\n",
    "\n",
    "\n",
    "transactions = pd.read_csv(\n",
    "    f'{data}/tr.csv')\n",
    "bankclient_embed = transactions.pivot_table(index = 'user_id', \n",
    "                        values=['transaction_amt'],\n",
    "                        columns=['mcc_code'],\n",
    "                        aggfunc=['sum','mean', 'count']).fillna(0)\n",
    "bankclient_embed.columns = [f'{str(i[0])}-{str(i[2])}' for i in bankclient_embed.columns]\n",
    "\n",
    "del transactions\n",
    "gc.collect()\n",
    "\n",
    "clickstream = pd.read_csv(\n",
    "    f'{data}/cl.csv')\n",
    "clickstream_embed = clickstream.pivot_table(index = 'user_id', \n",
    "                        values=['timestamp'],\n",
    "                        columns=['cat_id'],\n",
    "                        aggfunc=['count']).fillna(0)\n",
    "clickstream_embed.columns = [f'{str(i[0])}-{str(i[2])}' for i in clickstream_embed.columns]\n",
    "clickstream_embed.loc[0] = np.empty(len(clickstream_embed.columns))\n",
    "\n",
    "del clickstream\n",
    "gc.collect()\n",
    "\n",
    "dtype_clickstream = list()\n",
    "for x in clickstream_embed.dtypes.tolist():\n",
    "    if x=='int64':\n",
    "        dtype_clickstream.append('int16')\n",
    "    elif(x=='float64'):\n",
    "        dtype_clickstream.append('float32')\n",
    "    else:\n",
    "        dtype_clickstream.append('object')\n",
    "\n",
    "dtype_clickstream = dict(zip(clickstream_embed.columns.tolist(),dtype_clickstream))\n",
    "clickstream_embed = clickstream_embed.astype(dtype_clickstream)\n",
    "\n",
    "dtype_bankclient = list()\n",
    "for x in bankclient_embed.dtypes.tolist():\n",
    "    if x=='int64':\n",
    "        dtype_bankclient.append('int16')\n",
    "    elif(x=='float64'):\n",
    "        dtype_bankclient.append('float32')\n",
    "    else:\n",
    "        dtype_bankclient.append('object')\n",
    "\n",
    "dtype_bankclient = dict(zip(bankclient_embed.columns.tolist(),dtype_bankclient))\n",
    "bankclient_embed = bankclient_embed.astype(dtype_bankclient)\n",
    "\n",
    "list_of_rtk = list(clickstream_embed.index.unique())\n",
    "list_of_bank= list(bankclient_embed.index.unique())\n",
    "\n",
    "submission = pd.DataFrame(list_of_bank, columns=['bank'])\n",
    "submission['rtk'] = submission['bank'].apply(lambda x: list_of_rtk)\n",
    "\n",
    "with open(\"full_list_of_features\", \"rb\") as fp:   # Unpickling\n",
    "    full_list_of_features = pickle.load(fp)\n",
    "\n",
    "model = CatBoostClassifier()\n",
    "model.load_model('model.cbm',  format='cbm')\n",
    "\n",
    "submission_ready = []\n",
    "\n",
    "batch_size = 200\n",
    "# batch_size = 20*2\n",
    "num_of_batches = int((len(list_of_bank))/batch_size)+1\n",
    "\n",
    "for i in tqdm(range(num_of_batches)):\n",
    "    bank_ids = list_of_bank[(i*batch_size):((i+1)*batch_size)]\n",
    "    if len(bank_ids) != 0:\n",
    "        part_of_submit = submission[submission['bank'].isin(bank_ids)].explode('rtk')\n",
    "        part_of_submit = part_of_submit.merge(bankclient_embed, how='left', left_on='bank', right_index=True\n",
    "                                    ).merge(clickstream_embed, how='left', left_on='rtk', right_index=True).fillna(0)\n",
    "\n",
    "        for i in full_list_of_features:\n",
    "            if i not in part_of_submit.columns:\n",
    "                part_of_submit[i] = 0\n",
    "\n",
    "\n",
    "        part_of_submit['predicts'] = model.predict_proba(\n",
    "            part_of_submit[full_list_of_features],\n",
    "#             task_type='GPU'\n",
    "        )[:,1]\n",
    "        part_of_submit = part_of_submit[['bank', 'rtk', 'predicts']]\n",
    "\n",
    "        zeros_part = pd.DataFrame(bank_ids, columns=['bank'])\n",
    "        zeros_part['rtk'] = 0.\n",
    "        zeros_part['predicts'] = 3.8\n",
    "\n",
    "        part_of_submit = pd.concat((part_of_submit, zeros_part))\n",
    "\n",
    "        part_of_submit = part_of_submit.sort_values(by=['bank', 'predicts'], ascending=False).reset_index(drop=True)\n",
    "        part_of_submit = part_of_submit.pivot_table(index='bank', values='rtk', aggfunc=list)\n",
    "        part_of_submit['rtk'] = part_of_submit['rtk'].apply(lambda x: x[:100])\n",
    "        part_of_submit['bank'] = part_of_submit.index\n",
    "        part_of_submit = part_of_submit[['bank', 'rtk']]\n",
    "        submission_ready.extend(part_of_submit.values)\n",
    "\n",
    "submission_final = np.array(submission_ready, dtype=object)\n",
    "\n",
    "print(submission_final.shape)\n",
    "print(submission_final)\n",
    "np.savez(output_path, submission_final)\n"
   ]
  },
  {
   "cell_type": "code",
   "execution_count": 44,
   "id": "1f9fd335",
   "metadata": {},
   "outputs": [
    {
     "data": {
      "text/plain": [
       "100"
      ]
     },
     "execution_count": 44,
     "metadata": {},
     "output_type": "execute_result"
    }
   ],
   "source": [
    "nn=np.load('npz/nn.npz',allow_pickle=True)['arr_0']\n",
    "len(nn[0][1])"
   ]
  },
  {
   "cell_type": "code",
   "execution_count": 43,
   "id": "87802585",
   "metadata": {},
   "outputs": [
    {
     "data": {
      "text/plain": [
       "100"
      ]
     },
     "execution_count": 43,
     "metadata": {},
     "output_type": "execute_result"
    }
   ],
   "source": [
    "cb=np.load('npz/cb.npz',allow_pickle=True)['arr_0']\n",
    "len(cb[0][1])"
   ]
  },
  {
   "cell_type": "code",
   "execution_count": null,
   "id": "a0562009",
   "metadata": {},
   "outputs": [],
   "source": []
  },
  {
   "cell_type": "code",
   "execution_count": 5,
   "id": "31fc55f5",
   "metadata": {},
   "outputs": [
    {
     "ename": "ZeroDivisionError",
     "evalue": "division by zero",
     "output_type": "error",
     "traceback": [
      "\u001b[0;31m---------------------------------------------------------------------------\u001b[0m",
      "\u001b[0;31mZeroDivisionError\u001b[0m                         Traceback (most recent call last)",
      "Input \u001b[0;32mIn [5]\u001b[0m, in \u001b[0;36m<cell line: 1>\u001b[0;34m()\u001b[0m\n\u001b[0;32m----> 1\u001b[0m \u001b[38;5;241;43m1\u001b[39;49m\u001b[38;5;241;43m/\u001b[39;49m\u001b[38;5;241;43m0\u001b[39;49m\n",
      "\u001b[0;31mZeroDivisionError\u001b[0m: division by zero"
     ]
    }
   ],
   "source": [
    "1/0"
   ]
  },
  {
   "cell_type": "code",
   "execution_count": null,
   "id": "cd389ca5",
   "metadata": {},
   "outputs": [],
   "source": []
  },
  {
   "cell_type": "code",
   "execution_count": 1,
   "id": "4e1a6f4f",
   "metadata": {},
   "outputs": [
    {
     "data": {
      "text/plain": [
       "0.2"
      ]
     },
     "execution_count": 1,
     "metadata": {},
     "output_type": "execute_result"
    }
   ],
   "source": [
    "1/5"
   ]
  },
  {
   "cell_type": "code",
   "execution_count": null,
   "id": "7f7e3db7",
   "metadata": {},
   "outputs": [],
   "source": [
    "k = 2930\n",
    "tr = io.load('data/transactions.feather')\n",
    "tr = tr[tr.user_id.isin(\n",
    "    tr.user_id.unique()[:k])]\n",
    "assert tr.user_id.nunique()==k\n",
    "io.save(tr,'data/tr.csv')"
   ]
  },
  {
   "cell_type": "code",
   "execution_count": null,
   "id": "69e3685f",
   "metadata": {},
   "outputs": [],
   "source": [
    "k = 2463\n",
    "cl = io.load('data/5000.feather')\n",
    "cl = cl[cl.user_id.isin(\n",
    "    cl.user_id.unique()[:k])]\n",
    "assert cl.user_id.nunique()==k\n",
    "io.save(cl,'data/cl.csv')"
   ]
  },
  {
   "cell_type": "code",
   "execution_count": null,
   "id": "93cb0f89",
   "metadata": {},
   "outputs": [],
   "source": []
  },
  {
   "cell_type": "code",
   "execution_count": 41,
   "id": "9fb5ffeb",
   "metadata": {
    "collapsed": true,
    "jupyter": {
     "outputs_hidden": true
    }
   },
   "outputs": [
    {
     "name": "stderr",
     "output_type": "stream",
     "text": [
      "100%|██████████| 14797017/14797017 [01:03<00:00, 234763.28it/s]\n",
      "100%|██████████| 2611403/2611403 [00:10<00:00, 247308.54it/s]\n"
     ]
    },
    {
     "name": "stdout",
     "output_type": "stream",
     "text": [
      "Sequential2Splitter __init__...\n",
      "Sequential2Splitter run...\n",
      "Sequential2Splitter get_tensors...\n"
     ]
    },
    {
     "name": "stderr",
     "output_type": "stream",
     "text": [
      "100%|██████████| 2463/2463 [00:13<00:00, 183.21it/s]\n"
     ]
    },
    {
     "name": "stdout",
     "output_type": "stream",
     "text": [
      "Sequential2Splitter pad...\n"
     ]
    },
    {
     "name": "stderr",
     "output_type": "stream",
     "text": [
      "100%|██████████| 16636/16636 [00:00<00:00, 53048.18it/s]\n",
      "100%|██████████| 16636/16636 [00:00<00:00, 22008.19it/s]\n"
     ]
    },
    {
     "name": "stdout",
     "output_type": "stream",
     "text": [
      "torch.Size([16636, 2256])\n",
      "torch.Size([16636])\n",
      "rtk_uids 2463\n",
      "Sequential2Splitter get_tensors...\n"
     ]
    },
    {
     "name": "stderr",
     "output_type": "stream",
     "text": [
      "100%|██████████| 2930/2930 [00:22<00:00, 128.99it/s]\n"
     ]
    },
    {
     "name": "stdout",
     "output_type": "stream",
     "text": [
      "Sequential2Splitter pad...\n"
     ]
    },
    {
     "name": "stderr",
     "output_type": "stream",
     "text": [
      "100%|██████████| 37225/37225 [00:00<00:00, 336402.84it/s]\n",
      "100%|██████████| 37225/37225 [00:00<00:00, 271802.67it/s]\n",
      "Using 16bit native Automatic Mixed Precision (AMP)\n",
      "GPU available: True, used: True\n",
      "TPU available: False, using: 0 TPU cores\n",
      "IPU available: False, using: 0 IPUs\n",
      "Restoring states from the checkpoint path at log/f8dc2a144b2ebdfd78e0626fdb789a3b/version_0/checkpoints/last.ckpt\n",
      "LOCAL_RANK: 0 - CUDA_VISIBLE_DEVICES: [0]\n",
      "Loaded model weights from checkpoint at log/f8dc2a144b2ebdfd78e0626fdb789a3b/version_0/checkpoints/last.ckpt\n"
     ]
    },
    {
     "name": "stdout",
     "output_type": "stream",
     "text": [
      "torch.Size([37225, 120])\n",
      "torch.Size([37225])\n",
      "bank_uids 2930\n",
      "f8dc2a144b2ebdfd78e0626fdb789a3b\n",
      "last\n",
      "P: 2930\n"
     ]
    },
    {
     "data": {
      "application/vnd.jupyter.widget-view+json": {
       "model_id": "510b81140fd44761a7e5ad9e0abf6ae1",
       "version_major": 2,
       "version_minor": 0
      },
      "text/plain": [
       "Predicting: 0it [00:00, ?it/s]"
      ]
     },
     "metadata": {},
     "output_type": "display_data"
    },
    {
     "name": "stdout",
     "output_type": "stream",
     "text": [
      "[['000932580e404dafbecd5916d4640938'\n",
      "  list([0.0, 0, '0cc67621d9704242bc0a244798d5ef51', '07670bb423c543c08f7981ba0119981f', '013b1b6b156d4f30be91aa17c2198a7e', '013b1b6b156d4f30be91aa17c2198a7e', '0d13c4cf161e4d158c930c65521e645d', '0db38908c5314a51b54be097ad74bf84', '1d28ceb96bdd49129cc3b0a147e1face', '05ffb8c1f84243ab85b49b88074a7f4d', '05ffb8c1f84243ab85b49b88074a7f4d', '013999d43652464880e7b8096083a0a6', '013999d43652464880e7b8096083a0a6', '18e933e6039e45998718ff5fe5478bd8', '205beaa6086744958679d0e0d67c31f7', '1c3a8842e1af4056bd76b567f65217d5', '054f26620400439e9cd35b6a9dd39ebd', '054f26620400439e9cd35b6a9dd39ebd', '0ea647ec5ecf434fb943d1f730b5d13e', '19b0806d7bd8462fbdb77a748da6895c', '001bf72732ed4e68aceff74aeea6efc9', '001bf72732ed4e68aceff74aeea6efc9', '0962744bdb59443a8d933ae5eb8ca0b9', '0241a5e9968c4b62b279ef3864acfdd7', '0241a5e9968c4b62b279ef3864acfdd7', '05710b9d414044668d2941764a135ff7', '05710b9d414044668d2941764a135ff7', '157234c24fa543a6b890727769a9c47f', '08ea6814bcbc465a85c8951cde6036ba', '10253a3060864b489377971b08a0855a', '0a62dc84abf348acb5818117f378854c', '160b0930aa474dd8ae0d5ae3c9495098', '11abddcd22e24c7d910fc0967dfad040', '04e0b881411640d09364e16dbced9930', '04e0b881411640d09364e16dbced9930', '12208f673af446e98da9514fc3127025', '04c17584d2994f7ea64ba76963c01ac9', '04c17584d2994f7ea64ba76963c01ac9', '103495c60e654e5ca6bbf02b83ce1455', '1b274b1b15b242b29ccf72ae09e9f3a1', '018ee0a63f914218bf4916359b7e7fc6', '018ee0a63f914218bf4916359b7e7fc6', '1cd57e1f7e3544bb9ccc64124a4df72e', '1e6aac89e7ed4e9b8b9332e736bfca32', '0d6245418f454ee9b7aa69688a4d249a', '139d32fced4049f996643334ad375a03', '03ff48bf37024c9eaf6e01ab16e03354', '03ff48bf37024c9eaf6e01ab16e03354', '0beefea1432e41e285927de88b09b1a3', '1f92bd94b84e4cf5b08c78f10dacc64e', '19d9c173cb0641a8a5e12ad769384361', '059f0cba03d947c79b792be27fa853f8', '059f0cba03d947c79b792be27fa853f8', '0cc08f74acaa485fbbecb6c59f5f6849', '10ed790b15a54ace92632851029757e9', '200674eb45d54ccf84fd96de2232ebeb', '025f4d3380ac4a588dd96460c3cdf771', '025f4d3380ac4a588dd96460c3cdf771', '02ed5e46772a4df485f8f6606b34e810', '02ed5e46772a4df485f8f6606b34e810', '06b667f376f04ce8bd23bb8c2eaf587d', '1ba303da2c9b442ba99cb97d6bdfb4c5', '185e40f71e404f37be48ed2095b5dc5f', '0910fde1c0b64c558ea4fab084a57c76', '155c398643d34d058b1b26497fafc93b', '0c4f8cc2d6234e7b85485155951213cc', '10eefa8b07854cec95831e0738adb1c7', '146d6f9563244021aa97ff7fbf608b92', '10718e63811240f09d7ab13a35f796cd', '17b2fc4415404b3da610748e85d344fb', '182c67b6dafd4fd5bb9ae3a9f424f868', '008a38cb2b414c10a075eb44c46563ce', '008a38cb2b414c10a075eb44c46563ce', '01358e231a63453b8a7c8302286f90a6', '01358e231a63453b8a7c8302286f90a6', '08f93f37f13a4831a30e2afc76dbba38', '15e5e900f30a411e88e9f2e39e20b28f', '051e44ca9f494efc8b562c80e889ba7a', '051e44ca9f494efc8b562c80e889ba7a', '15b3be6e592d4b379b694ffb6deb8ec9', '12771d8abb8b49baad0ef38ca68f1754', '1217009fb8c741f1831d9b1eb990442b', '094f82e932af4b6ab237f98b7f30844d', '2060506e748c4b36a91aaa3fc55da453', '037d03936cae4e90a8b5adcff470367b', '037d03936cae4e90a8b5adcff470367b', '05c3db613c0e40f9ae52a6979edbdb9e', '05c3db613c0e40f9ae52a6979edbdb9e', '0575cd3c78b8421280dc3d2a99e7eac6', '0575cd3c78b8421280dc3d2a99e7eac6', '0c9af10786d44c549adf9786d51db796', '202efe975d6c4866bb168bbe9a03c4d9', '0d1182cace0848158cec65719415d7d3', '10e5ab85cdd143fbaaa1e2b866e5df38', '14425527fee245b8b171890f8f19c66b', '0e058f9c135b4b9f8dd8b10bc90c9ff4', '09e0a8ee447943678d2358f2e6b55c1e', '152e2c653649479aad2bfbde34fe520d', '106f17ece9c44c6eac9f80b12f569c64', '06723652f27747a0b313a2cc4bb8ade1'])]\n",
      " ['0009e36b42cb4caeb928a1e596819495'\n",
      "  list([0.0, 0, '0d85723ccc084fa9a9c1318d07c6ade4', '155158a70a3d4c15bbbd6bd62eb4e632', '079284361c95482285ecb5c575b04717', '1af30a047a4d4dacb629c39938fd6604', '1bdb8c4aeb42443f812601f40829ff3d', '20ffea50cd5e4ee1bfc20505f49c7f9b', '06c2a8b7969642d5a1a5ebf4bd7ab0b9', '1d7bcdd69bb84b5287864e8350b586f0', '177eaa9fa3fc4744a286ad96172d0d0d', '151a553318844552ab8d7602b3848ddb', '0a9cba5b4d6c424b8f5ce66e3dd8c439', '009a6f52d8804fa1aa2ae8f46f3b0bd9', '009a6f52d8804fa1aa2ae8f46f3b0bd9', '05fc62574d064801af8bc2e086a45d7a', '05fc62574d064801af8bc2e086a45d7a', '0b40ddfac2cc4fefba48207af4bda420', '1bfb2e4fa1f64fa88c7d27f028fab708', '1f5acb4a3ef74b39a79d95ee63a67dfb', '1c572ca40ba1402fbdab20f1dbaa45ad', '09b8596ba67e460085a2f281f146454e', '0debf3afd90741e799c179d78246d0e7', '1dc09c00b4b3403787d9adf746606cc8', '18f69ef985914bdfaa033b9759a4a836', '0089469852e545a19c77152cc2a6d470', '0089469852e545a19c77152cc2a6d470', '0680aaa4d1464cd0bb5815d36a69a855', '0e66553b9710455b980e61bc2757356b', '1d4bd79442cf49d2aec9e4ed6409f03a', '1756441e600141f684863c6b0e3f8ed3', '12280063b3044420b1057a82866e9e82', '10a6af22d684448887a05e9bf84d3859', '011cc3becb4941e99efb12ad1a700ac3', '011cc3becb4941e99efb12ad1a700ac3', '193eef5b1a224f1d86bf12ca43f80798', '0bbb0a36b85542c7863674ee3c35d257', '17a6e9877b2b4b478e36b0243542dc98', '0327e2083ef843219c33fbb76749f35c', '0327e2083ef843219c33fbb76749f35c', '17f2eddfaf7a4e2dbcc88f42bb9cc680', '1b20a026f56e412fb89028272482e9f8', '0274c66c685841fc9f747b2fa57833a0', '0274c66c685841fc9f747b2fa57833a0', '2081e7c3407e4755856ceae586abea99', '0bd8f52e760446a488287b38a28f69ba', '1c169f408b1448c4a130a2899a2e2392', '1dd9bc0185b544ee87e585047f235b12', '1c4106979f4543849b6242a822854823', '12387e5947b8407c9a6b48099f52f6f6', '041c48a75d854b7f89a5fb6eb3e5ca96', '041c48a75d854b7f89a5fb6eb3e5ca96', '216b62f3a27f4b96a726198eda717dbd', '01d70aeec5e9469caccd01544fac0850', '01d70aeec5e9469caccd01544fac0850', '0985d4ded85b437798fb5b3e5a9478c2', '1a6014cc1b954aac863c25bab0cf7574', '0d62c36ca13642c1ba8926036cfb2af3', '0c3dffc17a2c471c88b262f69480647d', '0b7af4d2f84c445c84443ea7f0776827', '0f8e2f9e4305417db57bbb172552e12c', '0972312bbfb646c38084d62c2b20efe8', '1eeae1af604347c2907b293a9112167c', '1e72986c81f9433db3713dd324aedc39', '0bd02ab3105c4f618ce83a8a0aa72e13', '17fb50e51c674ab0a25c816b387090fc', '108a0b29b9334f03946d022143fbf8b6', '02981ce603e140fa9840fddcafe530b1', '02981ce603e140fa9840fddcafe530b1', '13ccb15a7ba046f4ac13116ed12c848b', '19ba8fac10d94261b91fc0f252eaf64d', '1438537e1d7a41c68c86c8e5490b4886', '18898b169df14174a4cb3cd3eeec228e', '1d8329689de741f0991b35de8ba1fa53', '1fc2edeeb5b24d6abcd79191fec93d8c', '1d73429917b84d7bb4c15a9fa91b0b74', '0e282e5689eb477abfb6e8b5655de2d1', '02248ac022944cc4b04203ec4d8d83bf', '02248ac022944cc4b04203ec4d8d83bf', '0856ef1fac2044e4a17b3b00c46eaf17', '070dc347e0c549679be93e233972cd02', '0784ad663aa045d391f826d8a09bb8f6', '1a924d47d4504daf8506278ab611feea', '0fc78e045bde4507b9db2bf300ecefdd', '13f5b79a10cc4718b4153aa9bf469697', '0894594b50f74998bb5c18c165732b16', '16943c76401b4af0be197819e4026b3d', '1f7d55b54af24930a596ae2d8ceec8f5', '1327029477d542bbb03b40807a12115a', '0e1c8847ed02439b8c6a0d908964a71b', '1e8227c058324a1fbfd9316ef7d1e1d5', '12deb0dd248d44ca8079222ff4ea8428', '00241b70051d4125a27b1b0ccf7679ed', '00241b70051d4125a27b1b0ccf7679ed', '04baa0fe455c40b59015bae7ae679686', '04baa0fe455c40b59015bae7ae679686', '112d070226b54f20b579cf107443b6ee', '01fd3b92e80c4ba0863e143a552d0cdc', '01fd3b92e80c4ba0863e143a552d0cdc', '058b52621351436da0b11355c75fb273'])]\n",
      " ['000b29acb6bd44f99473c1be5ca28f3c'\n",
      "  list([0.0, 0, '1748012575494360998b4458f5e1118d', '0191a6ac31554fadaef410b59820b58d', '0191a6ac31554fadaef410b59820b58d', '1db7932e6a01451cac78b5462a0d275c', '04b8acfcd9d34830a0b4fe00e0f4c21a', '04b8acfcd9d34830a0b4fe00e0f4c21a', '0095085ba89543d893d09303ef2f7323', '0095085ba89543d893d09303ef2f7323', '0295f22425234f1f83e1045736bab1f1', '0295f22425234f1f83e1045736bab1f1', '0f3b391638a6484fb9a4d7ce7d72dd73', '03ef1da237b5411899a67f97c1d6b3aa', '03ef1da237b5411899a67f97c1d6b3aa', '1438537e1d7a41c68c86c8e5490b4886', '0d5a65081b424090b2802e2840715c66', '12bbef85b7f64057a09e79fb39367b28', '1fcb5e22fd604c57ab2ebe380476ed6a', '0f06aa85c1cb46c58c6e4aa5623d0f0b', '018d951f1ccb4f28823ead14d5157a7b', '018d951f1ccb4f28823ead14d5157a7b', '117c8ebe50f240949a1f24004786bb02', '05f569332cb94a198aeda845a9957349', '05f569332cb94a198aeda845a9957349', '0aa084babd4d4bbaa8a57e1a20406b54', '1fb0da6cf57e4ae39939372dc4f4b0dd', '1fff085bd25c4222b476d3023ecef858', '20902bdfa34046369b1f11f5c013df7a', '1aa4e5bc3d554820a1da2c9a9d8f5156', '1dd9bc0185b544ee87e585047f235b12', '000c399352314e759041dc1651fe6980', '000c399352314e759041dc1651fe6980', '09124d9f46f24dff825de5dcda0b0a1f', '12973411b43c4a47a5fbf128a9f0d90c', '096db6d3235247328637a275c05b9e63', '1fe54d931d854b08a486443bf53a8f09', '09a139b700c44a26b43fda0b8543d48a', '06633f1a8d43482b87a05398fd4f0175', '00dab37cbf2242dca76cd644aa4164b1', '00dab37cbf2242dca76cd644aa4164b1', '10581d61bcf54b4f90de4cff4baba3c5', '0a7fb0c1f4114e34bf03b7dc7e5472a1', '07f48ed909a24c5594e1e8b419a10305', '0277632f49ee4ab48755bca6aab4fd25', '0277632f49ee4ab48755bca6aab4fd25', '0850781d19ef400483b11b8f0ef2cece', '10f691fcfe8f4182b904ada33e97a16c', '12234c90efa34d5aaa1cbbf3913efdd7', '108a0b29b9334f03946d022143fbf8b6', '0c7b46cef61249c1964832b5cd7f2719', '180953dfb7e04dba831510d4bf5bdfb5', '147867321d0f4b269a2379b7a57e8ead', '0dd5865a9dd04444af0b5462ac6a9cca', '02749426a5b64e95a3128d38d68961b2', '02749426a5b64e95a3128d38d68961b2', '1914128cb729417facd7e971addaa8bd', '1d3397dfc4084b45b24a19782f401f2b', '000fc5be9e974980a1c9728f4866db11', '000fc5be9e974980a1c9728f4866db11', '086bab114f5a461698dbf620ba6c8970', '1d10342e55384a0c99c3aacc4acca5de', '167ab0612982490dbce235f84bf985de', '08e7c99cae69414fafb3248527037e94', '0e09f9196f364960a9c56088325889f5', '163529f733ff4b4abda41eb62ae62b7e', '18d51c7035634094a448da3e82dda2d7', '127bbfb8806e4a42aa70e5d82d574250', '14171d05ab4b4a8397d7a44270e63e42', '20d5050edb1745f7a14cdc874edcd78b', '13121ee0978b4efd86f74d1db9ac3f85', '20a1fa3ad16a46988cae18b729db22c8', '0253390d0a30445195c2b6ab4718b432', '0253390d0a30445195c2b6ab4718b432', '00e83f6eace64b3a8844313e0147e17d', '00e83f6eace64b3a8844313e0147e17d', '0972312bbfb646c38084d62c2b20efe8', '00addd7b5f79496eade1eabd8f490951', '00addd7b5f79496eade1eabd8f490951', '0091239936b94659bbb69b9abd1eb573', '0091239936b94659bbb69b9abd1eb573', '07f06c0ec6174c04aaffca2a9a64b11c', '168f4c3daaa3407d941c2ff5bb3b8de4', '08badc13fa7147da89dc34f1ddd4149d', '0a9ba9e4a9e44e87a8ff95bf62dba8e8', '08565ee6692e4dc2b559775cab6b9b7d', '1c5f3d71a7d0402caccaaac3cf57fb30', '03daeb2105284c4488d630ef3c3df219', '03daeb2105284c4488d630ef3c3df219', '1d1f8c3340d74fe9b1f55ff02e418b21', '1b7e50aaa0ef47319d102e1c64ff8cf1', '14e44bcf8f0045869d75d52183ed995d', '10ef79872439461390a7cbdd37a8bf76', '054ee3a72b2e4735a76ad49059014ed1', '054ee3a72b2e4735a76ad49059014ed1', '1648ede3d06c458fa7c212cc39b65b3d', '1327029477d542bbb03b40807a12115a', '0e37c930adf44a8eb5ed4dbb8170a862', '18898b169df14174a4cb3cd3eeec228e', '16c182a6f1d344a9a238800aaa9cc0d2'])]\n",
      " ...\n",
      " ['213ab4e280614c258314a62024728bfb'\n",
      "  list([0.0, 0, '037720209d5e46f4bb9051c713c9279f', '037720209d5e46f4bb9051c713c9279f', '0dc2517dc8754812a693fe8e3ee48c04', '1092e461fcec4cdc9452acdd6375d358', '03bc64363eea40a898496b7f392fbc7d', '03bc64363eea40a898496b7f392fbc7d', '00851c6c0a7e42d8b7ded44586519c50', '00851c6c0a7e42d8b7ded44586519c50', '08cd8b81ba7c44b081ddc8e8fb0c5f0b', '0a5d8d7b55ee42feb486a023caef6435', '078ad99195e14dddbf9547c3ef803cd3', '1b64706ebe9e464fb0b8c96908e3ddff', '0119028e776f4429a2faf6e43a93336d', '0119028e776f4429a2faf6e43a93336d', '1872fa7e5805496bb84a27f3244a8c18', '0d63d630721640d08e4d79fa3d4a0ed5', '175c3cfd9407410d816ae13c9469d83c', '08691c0a4ae745d8b27c469d676e6685', '115d64e0720a4b4db5de8ee6a64b9ffa', '10bb35ad07c143638cf83fa02419b05d', '0fb3bd99eae64181bd78d1c892749ffc', '02039c2110fd444792a0d304d2f786df', '02039c2110fd444792a0d304d2f786df', '03050ca3c6434ff9b19b62cb04172e51', '03050ca3c6434ff9b19b62cb04172e51', '01ca68f3198840f1b4db4cfa63bdcc2e', '01ca68f3198840f1b4db4cfa63bdcc2e', '19832b5d847d4ee4bd4d53bce174966f', '13ab2171f68e4214920aaec5abf6a22e', '010d252de1f9460f97b3d2b76d8bde9b', '010d252de1f9460f97b3d2b76d8bde9b', '1172405c41c04e5bb220f405105317fa', '2088d018840a4f289157885812947b21', '0c6bc817764144bd913d9794cd1574a5', '011fae99571643e29f288b3ea9f6d076', '011fae99571643e29f288b3ea9f6d076', '1395651e43644ab8afcba59b9b4cfa09', '1ba9b789341f4587a901ed2c17ad7d6e', '0dff4d6f53a7458c9fb58592d07fe262', '09ed6339fac9455dbd1aea3209f30967', '155645f445dc45e584cda4532f2021f0', '1a9848e07b1749b3ba33894749f5809f', '1e574271e7584dadaa54399faeb43322', '16acd32de9424ee9a638c5d8e4cc9866', '1eb0c382da6f49008169b38169de83dd', '1e0abbcb3c1f4a85ad32857528e5f665', '20f1d704b2b648f1b3947311b450ae10', '05da91f49b1c4666ba0a3f3e8cc01774', '05da91f49b1c4666ba0a3f3e8cc01774', '0ef7d6913fe24eb5ba724379c28b70e7', '0e160b15aca34b3e96378931e5936076', '0bae093be19444008899a10e9605c7cb', '0ad5ac5ecc6f428ab8c9a07995354e29', '1cf1660e1b94444f881f6dfd394bc9f1', '0567c2c13ad74aa596de9ab94502532e', '0567c2c13ad74aa596de9ab94502532e', '1c06d2a869244f2fbf5114e9ed72656e', '1222bf1bab25414888136e6081a8d381', '05c5224cd20c4042883b64badcd1cfdc', '05c5224cd20c4042883b64badcd1cfdc', '0606b102ae284a168ef71dd80a5b2c0f', '0606b102ae284a168ef71dd80a5b2c0f', '096c454b16d74f01a6bd8dccfd5973d9', '1fc56b5a63184849bb0b45b718865fe4', '097fe3bd9bb4438da05c27d8a76d1bd8', '2100cc91815e4f1a9383e24562541162', '089c261f9a2b472fbead1594e348dd11', '139b2c24e5594047a467600c0f0e7bf5', '061dabb68574413685e0f22259fc5f54', '061dabb68574413685e0f22259fc5f54', '047d9ce99c0949d899a65fc218c7b115', '047d9ce99c0949d899a65fc218c7b115', '010e097f57b640ad9f63e3713d0df458', '010e097f57b640ad9f63e3713d0df458', '2053ef3fd7664b829a2511855961bf09', '09554ec7088b4231a6702db899605bbf', '00c611f241cd4ae4992477f99c3be590', '00c611f241cd4ae4992477f99c3be590', '1de75bda992842d9915ee8168240a565', '06c4315817e64c7f8fa1e6c9f8e64b76', '202ad6728c55474e9bb15bb0ae81a066', '15a3244de31a4c6abb5df30f8878aa3c', '0d37cfdea5094b2187c2ef973018eece', '17e868772c5b40448817fb07ec103d6b', '072766991a1b436f83d469887963e13c', '1ef84e189dbb4eb58ea5fb71ca87c41d', '07649714566a4d8a80d787fc9b70f825', '077680f9cac24e92b1674da7b2dc85dc', '094348c7552e48e7bb0f789b7e9959eb', '1fa69cc3c5984e85910963e88abf5843', '216f3b9e745c40778f48b182ec7c2c69', '044b20243ab64526b0aedb5a094b5d37', '044b20243ab64526b0aedb5a094b5d37', '15e6a6c408084311b980889cad7787fd', '08dc57d23f3a4804987cfd826c80cb1f', '081051dd68344f7ba0a44bfd3fbc44c4', '1a2f228aa32243318bc373c56fabd946', '08de000028a541b5bd86dc3eb6b1bcad'])]\n",
      " ['213c69ff1a2542b9943c1ccfecdf7648'\n",
      "  list([0.0, 0, '111e51fca3974b49b7a2659389dcdcc1', '1c3cac9bbe874f579edbeebee6aa4548', '157234c24fa543a6b890727769a9c47f', '0f30d9fe38224bbcbe47f7a646833e63', '13fc4d9ba80348f7873a248641262969', '0771f70c6a2d4ebb8b8c23b31aa50b98', '0ac6c14aeb2e49f7ae84f19178b2affb', '1260e5fa83c64573bb1d198315692d32', '01d49d3a42c6466eaeed4836d5461eac', '01d49d3a42c6466eaeed4836d5461eac', '00c611f241cd4ae4992477f99c3be590', '00c611f241cd4ae4992477f99c3be590', '0f561c890d8e438fa87710b5c575e17f', '012ff906160f4774b87c0b7f2fd59040', '012ff906160f4774b87c0b7f2fd59040', '0b0e1d7d44e04be9b49e6561783adb97', '2100cc91815e4f1a9383e24562541162', '0a6d7f61c6e54589a951e880f471956c', '161505765bba40cfb6c4da1adc562217', '016644a0e8db4081841a2db6c9809f41', '016644a0e8db4081841a2db6c9809f41', '132f8e4517cf452b8eb6d77ffae5f4d6', '04dd672eec4342b8a4f02132f9acbd9e', '04dd672eec4342b8a4f02132f9acbd9e', '130f0c9499574e24ba46d77af5cb706b', '0155c43b565e4af0869817e7d937709d', '0155c43b565e4af0869817e7d937709d', '11f79bf4d8284d37801f4a92bcfda4ee', '0b3d4ba7053743a08f0970f22d3420ef', '0aecac6d6cf94cca840f0313e1b4d941', '15c77afe27df476391c3b071f15218c6', '18a4e1f3d2c34ddc950b9b7e7737f25f', '188d57cda8d44a5798d69c297a68601e', '12b9eafad6794b7e84dcd9a7fdb7183c', '1bcfd191816d4584944f6d5749414310', '10253a3060864b489377971b08a0855a', '180c2a1215fc41e2bbf8542282267eca', '073946b4d78b4c8d84d42ff451795998', '0a252290b4d44b29bf9f8c855731997e', '190f46e90af04f1aadadbdbf1b536f1b', '1d035dbdbc2e4c0bb09520e786e9ffa8', '114ed5a02c0c473d9ba5e84c6029f8cd', '1d612f42c0a2478d94ffca386abb0cc9', '178002ae3855459b957630bb27a84574', '10738c9ee16a4dd696d7221529c8b752', '0cdd03924cf44508a90e39569f579891', '2078be9b5ab647fe84375f0bf9b8288b', '0783a72fa1214ffc8e9c2d3b525955aa', '0649b827cea044a9bc0133b599f47acf', '11f4e754f51a4fbe943dcb6d9aead7eb', '1b0849ce5f7748b4a8cb51c62dfff75b', '1f8c82a71a334a0f974406c20966c8d8', '1f9fc4c25c384162b4ba52c662d7a1f4', '0f44a06a2e1f45a7b6aed79bdac29b7b', '0e80602ea73841a982cf01a34b59b211', '010e097f57b640ad9f63e3713d0df458', '010e097f57b640ad9f63e3713d0df458', '07bf1b7b1fe44933a5f949c9b8b1a3a3', '05db575aa2ea418d9401c73ff4239820', '05db575aa2ea418d9401c73ff4239820', '05da91f49b1c4666ba0a3f3e8cc01774', '05da91f49b1c4666ba0a3f3e8cc01774', '008a38cb2b414c10a075eb44c46563ce', '008a38cb2b414c10a075eb44c46563ce', '1e35858ce7a84f308fa1c334767c3599', '00ca2b4c0c7148539c8ebfe12a099e3f', '00ca2b4c0c7148539c8ebfe12a099e3f', '0f2cf0a26118466bb723b97b7131067d', '0f220921ecd44793a8a33f05b0e9bb59', '0118c8166029469db62f71008962742d', '0118c8166029469db62f71008962742d', '20d92430c6cb4a869c14abc69dcd01cb', '00b5a68d1ec140baa22301722749c141', '00b5a68d1ec140baa22301722749c141', '18848472d2754dfc8c2ee9016370d6a1', '1f92547bc88241a4a8ace46064cf47b1', '0d7abf4df6f347e9a4a7e109dce31146', '1831b2efd68d4b078f73d0a9d8ea52e5', '1db8fce1fced43e7a4f43f52e54967b2', '181db367d7414fc2ae899fa06cd6c366', '1dcab742a0fe47178c409840472db7e6', '04a24cb29d564ef38c68852221480fe7', '04a24cb29d564ef38c68852221480fe7', '0ad5ac5ecc6f428ab8c9a07995354e29', '1a9d673527e24a57bbc0b447711529d8', '1704a6a3c8cc4bcb8452962fb95b14dd', '0ef0719de21246ad83828bca532f2418', '1d3177f8a1d0490cb2412d59e42d7c79', '1f8cbc5dbda446b099090b05996eeb83', '1f0aa78e92334ddea098993beff4eb26', '1e1f57756e5b4bbcbf9e9efa2a06ef47', '1b50b121db0541e58e9df37b95c09e21', '05da69baf361403483a3435721078826', '05da69baf361403483a3435721078826', '1de75bda992842d9915ee8168240a565', '19d82bdcc4094d2093dae47c5eee381c', '13dd15e53eb84ddfb43891ce4986d4e8', '0c5f17d44efd4ea5a2743b2fcea84bd2'])]\n",
      " ['213c82e59a6e4fb0a8c6cc3cf9741380'\n",
      "  list([0.0, 0, '0fa9dd81d68b4104a0c3b636715ea933', '0d3dcd0651f14bbbaa08f6612e42a404', '127e471cd9f6441dbce6adbdf5722cdb', '05d79299cb5f479798cc58836f075d24', '05d79299cb5f479798cc58836f075d24', '1f9cb4f5881f4525b4ded7676bec7202', '0920ea6e10e9469ca49e976cc780a3f6', '1b64706ebe9e464fb0b8c96908e3ddff', '182c10b3a49c41b2b780a7f4988978ca', '1ef254170e53455aaa8fc4f80057b1ae', '0f2cf0a26118466bb723b97b7131067d', '0fb3bd99eae64181bd78d1c892749ffc', '04b2ac53b98b4f37966ee41a48f1a138', '04b2ac53b98b4f37966ee41a48f1a138', '02039c2110fd444792a0d304d2f786df', '02039c2110fd444792a0d304d2f786df', '00bde94f0e9b480e8b921d523e10f242', '00bde94f0e9b480e8b921d523e10f242', '0f2cdc10d5af458790e643d0b59b40d9', '1d612f42c0a2478d94ffca386abb0cc9', '157115bb72e5496faa833c721b93073a', '0b9632a310754bd08fc3a706f7c26235', '071f1e1a250d4212a9f37bcd231f21e0', '11f4e754f51a4fbe943dcb6d9aead7eb', '15d282f9dae1492d9f0c4dea22424086', '0a1751825e37472aa7a24a2af5aea02d', '0e5afbc6163541a884967e01e5ca26ab', '089c261f9a2b472fbead1594e348dd11', '0570944a0b9c4245bb51a43d170efd3f', '0570944a0b9c4245bb51a43d170efd3f', '0d2131c478ed450fbae17b001b87cdab', '1a36c75fd0924c208c8f4f401f1f76d7', '097fe3bd9bb4438da05c27d8a76d1bd8', '010e097f57b640ad9f63e3713d0df458', '010e097f57b640ad9f63e3713d0df458', '0550430691e84bb4a6af82ae1e6ce068', '0550430691e84bb4a6af82ae1e6ce068', '0c03a213dfee4967adfcd2db411bbf78', '011fae99571643e29f288b3ea9f6d076', '011fae99571643e29f288b3ea9f6d076', '0f137a5b74a2477d8a2df74144bd8dfb', '125e9f9185a34343ab84bd923a6a66a2', '0fc90c2eb05c4b719d0bc1faa54354f8', '0e591979741f438a8d5121963816fac1', '0eae70d145114728901900bb7bf4d338', '0eb4be6915e94a40a9d8cc16be4e78ec', '1eb0c382da6f49008169b38169de83dd', '0b14da2849784e22bf6dd767e409e613', '1b68891e51e141beac35b4aef9fc33ac', '0a7c62baea314495a033f173c7e9f073', '0fb87791191641d495fea090a01fab5c', '00851c6c0a7e42d8b7ded44586519c50', '00851c6c0a7e42d8b7ded44586519c50', '1de784b5632344f2bf7a9079fac645e6', '1bab3958bb3a4b9bb6b409e4fe40a5f1', '161505765bba40cfb6c4da1adc562217', '1c059227d58d4757b576cadd26a36cef', '13882d7b02c042ed9b5c1019edf7bb30', '202efe975d6c4866bb168bbe9a03c4d9', '0ea647ec5ecf434fb943d1f730b5d13e', '1a06aa8112d04b37b51fb012cb7e449d', '0d63d630721640d08e4d79fa3d4a0ed5', '0173bbc1d50d495192eff22a8272312a', '0173bbc1d50d495192eff22a8272312a', '02300f59f81e4fa89e6e4eba9ee58515', '02300f59f81e4fa89e6e4eba9ee58515', '03bc64363eea40a898496b7f392fbc7d', '03bc64363eea40a898496b7f392fbc7d', '0b5f291e986449b6a254b50b63e755f4', '1f8c82a71a334a0f974406c20966c8d8', '0c36a399c1e942c1b78d3ff3e3db642e', '12771d8abb8b49baad0ef38ca68f1754', '1f080df7984f42fea940ba4d56b7c4ca', '0c61d708d28c4ed889da4feef0cdb919', '0c2c19f6e4894992ac606356695def99', '00eb32a45ff14a9eb242f9cb44819f10', '00eb32a45ff14a9eb242f9cb44819f10', '0bae093be19444008899a10e9605c7cb', '0a31a7d08c9a4fa589a55ac411b67116', '14a4fa75171b403d88913fad473fbdf3', '1dcab742a0fe47178c409840472db7e6', '02fd01909597454ab77247e2b392b958', '02fd01909597454ab77247e2b392b958', '1258147d4680429d873572085b6b8527', '07649714566a4d8a80d787fc9b70f825', '1d7eff5c02b1414dab89aecfc3808f64', '1c06d2a869244f2fbf5114e9ed72656e', '1ab2d365e862414dbc750c1e4277c519', '06898494f156404698d585c4dc01b78a', '11cb800b3df643cebfd608f3136e4375', '181db367d7414fc2ae899fa06cd6c366', '03214aa6fcbb48129476628e026f5cfe', '03214aa6fcbb48129476628e026f5cfe', '078ad99195e14dddbf9547c3ef803cd3', '115519f40c9d4ee2a742ef747770c427', '15f6a1f92af340759e6c592fa492fc9d', '09a305018b1c4bc2b7dd16c6fec2e1d1', '017cbb84df5a42219f17a85ba7d94ada'])]]\n"
     ]
    }
   ],
   "source": [
    "# data_dir, pred_file =sys.argv[1].split('--')[1:]\n",
    "# data_dir = Path(data_dir)\n",
    "# pred_file = Path(pred_file)\n",
    "# print(data_dir) #/data\n",
    "# print(pred_file) #/output/predictions.npz\n",
    "# print(os.listdir(data_dir)) #['clickstream.csv', 'transactions.csv']\n",
    "\n",
    "data_dir = Path('data')\n",
    "pred_file = Path('predictions.npz')\n",
    "\n",
    "root = Path('json')\n",
    "event_encoder = Encoder(root,'event')\n",
    "event_encoder.load()\n",
    "uid_encoder = Encoder(root,'uid') \n",
    "uid_encoder.load()\n",
    "uid = 'user_id'\n",
    "ts = 'timestamp'\n",
    "\n",
    "#cl = pd.read_csv(data_dir/'clickstream.csv')\n",
    "cl = pd.read_csv(data_dir/'cl.csv')\n",
    "# print(len(cl))\n",
    "# if len(cl)>1000:\n",
    "#     1/0   \n",
    "\n",
    "cl[ts] = cl[ts].progress_apply(pd.Timestamp)\n",
    "event = 'cat_id'\n",
    "cl[event] = cl[event].apply(\n",
    "    lambda x: f'rtk_{x}')\n",
    "cl[event]=event_encoder.transform(cl[event])\n",
    "cl[uid] = uid_encoder.transform(cl[uid])\n",
    "\n",
    "# tr = pd.read_csv(\n",
    "#     data_dir/'transactions.csv')\n",
    "tr = pd.read_csv(data_dir/'tr.csv')\n",
    "tr = tr.rename(\n",
    "    columns={'transaction_dttm': ts})\n",
    "tr[ts] = tr[ts].progress_apply(pd.Timestamp)\n",
    "event = 'mcc_code'\n",
    "tr[event] = tr[event].apply(\n",
    "    lambda x: f'bank_{x}')\n",
    "tr[event]=event_encoder.transform(tr[event])\n",
    "tr[uid] = uid_encoder.transform(tr[uid]) \n",
    "\n",
    "bank = sorted(\n",
    "    tr.user_id.unique().tolist())\n",
    "rtk = sorted(\n",
    "    cl.user_id.unique().tolist())   \n",
    "max_len = max(len(bank),len(rtk))\n",
    "df = pd.DataFrame(index=range(max_len))\n",
    "\n",
    "splitter = Sequential2Splitter()\n",
    "XC,YC,XT,YT = splitter.run(cl,tr)\n",
    "#       df['bank'] = (bank+[-1]*len(bank))[:max_len]\n",
    "#       df['rtk'] = (rtk+[-1]*len(rtk))[:max_len]\n",
    "\n",
    "df['bank'] = (bank+bank)[:max_len]\n",
    "df['rtk'] = (rtk+rtk)[:max_len]\n",
    "\n",
    "df = df.fillna(-1)\n",
    "\n",
    "del cl, tr\n",
    "gc.collect()\n",
    "\n",
    "a = Args(\n",
    "    splitter = 'Sequential',\n",
    "    splitter_pp = dict(\n",
    "        n_days_in_sample = 30,\n",
    "        bank_quantile = 0.9,\n",
    "        rtk_quantile = 0.9,\n",
    "    ),    \n",
    "    n_folds = 3,# 1000 == 'full train'\n",
    "    fold = 0,\n",
    "\n",
    "    fit_limit = 1.,\n",
    "    val_limit = 1.,\n",
    "\n",
    "    batch_size = 32,    \n",
    "    lr = 2e-3,\n",
    "    n_epochs = 10,\n",
    "    check_val_every_n_epoch = 1,\n",
    "\n",
    "    bb_pp = dict(\n",
    "        block_size = 16,\n",
    "        hidden_size = 128,\n",
    "        intermediate_size = 128,\n",
    "        num_attention_heads = 1,\n",
    "        num_hidden_layers = 1,\n",
    "        num_random_blocks = 1,\n",
    "    ),\n",
    "\n",
    "    loss = 'MarginLoss',\n",
    "    loss_pp = dict(),\n",
    "\n",
    "    use_unmatched = bool(0),\n",
    "\n",
    "    miner = None,\n",
    "    miner_pp = dict(),\n",
    "\n",
    "    avg_loss = 'mean',\n",
    "    avg_pred = 'mean',\n",
    ")\n",
    "a.update()\n",
    "a.bank_len = XT.shape[1]\n",
    "a.rtk_len = XC.shape[1] \n",
    "\n",
    "def collate(DD):\n",
    "    AB = [A+B for A in 'XY' for B in 'TC']\n",
    "    kk = AB+['MT','MC']+['bank','rtk','M']\n",
    "    B = {k:[] for k in kk}\n",
    "    for D in DD:\n",
    "        for k in B:\n",
    "            if k in D:\n",
    "                B[k].append(D[k])\n",
    "    for k in B:\n",
    "        if k in AB+['MT','MC']:\n",
    "            B[k] = torch.cat(B[k])\n",
    "        if k in ['bank','rtk','M']:\n",
    "            B[k] = torch.tensor(B[k])\n",
    "    return B\n",
    "\n",
    "c = Args()\n",
    "c.event_encoder = event_encoder\n",
    "c.uid_encoder = uid_encoder\n",
    "d = Args()\n",
    "d.P = df\n",
    "d.XT = XT\n",
    "d.XC = XC\n",
    "d.YT = YT\n",
    "d.YC = YC\n",
    "c.test = Test2(d, collate, a)\n",
    "\n",
    "model = Model(a,c)\n",
    "\n",
    "callbacks = [\n",
    "    pl.callbacks.model_checkpoint.ModelCheckpoint(\n",
    "        save_weights_only = bool(0),\n",
    "        filename = '{R1} {MRR} {P}', \n",
    "        monitor = 'R1', \n",
    "        verbose = False,\n",
    "        save_last = bool(1),\n",
    "        save_top_k = 1, \n",
    "        mode = 'max', \n",
    "    ),\n",
    "]\n",
    "trainer = pl.Trainer(\n",
    "    accumulate_grad_batches = a.acc_batches,\n",
    "#            val_check_interval=a.val_check_interval,\n",
    "    check_val_every_n_epoch=a.check_val_every_n_epoch,\n",
    "    num_sanity_val_steps = 0,\n",
    "    deterministic = bool(0) if a.avg_loss=='median' or a.avg_pred=='median' else bool(1),\n",
    "    benchmark = bool(1),\n",
    "    gpus = a.gpus,\n",
    "    precision = a.precision,\n",
    "    logger = pl.loggers.CSVLogger(\n",
    "        str(a.log_dir), name=a.exp_name),\n",
    "    callbacks = callbacks,\n",
    "    max_epochs = a.n_epochs,\n",
    "    limit_train_batches = a.fit_limit,\n",
    "    limit_val_batches = a.val_limit,\n",
    ")   \n",
    "\n",
    "p = a.log_dir\n",
    "p /= a.exp_name\n",
    "p /= 'version_0'\n",
    "p /= 'checkpoints'\n",
    "a.ckpt = p/'last.ckpt'\n",
    "print(a.ckpt.stem)\n",
    "BB = trainer.predict(\n",
    "    model, c.test, ckpt_path=a.ckpt)  \n",
    "pred = model.predict_epoch_end(BB)\n",
    "#         print(pred.sample().T)\n",
    "\n",
    "path = a.csv_dir/f'{a.ckpt.stem}.csv'\n",
    "c = 'rtk_list'\n",
    "#         pred[c] = pred[c]\\\n",
    "#             .apply(lambda x: str(x))\\\n",
    "#             .replace(\"'\", '', regex=True)\n",
    "pred[c] = pred[c].apply(\n",
    "    lambda x: ([0.0, 0]+x)[:100])\n",
    "print(pred.values)\n",
    "np.savez(str(pred_file), pred.values)\n"
   ]
  },
  {
   "cell_type": "code",
   "execution_count": null,
   "id": "a2e816c6",
   "metadata": {},
   "outputs": [],
   "source": []
  },
  {
   "cell_type": "code",
   "execution_count": null,
   "id": "abc340d8",
   "metadata": {},
   "outputs": [],
   "source": []
  },
  {
   "cell_type": "code",
   "execution_count": 42,
   "id": "7c971241",
   "metadata": {},
   "outputs": [],
   "source": [
    "os.rename(\n",
    "    'predictions.npz',\n",
    "    'npz/nn.npz'\n",
    ")"
   ]
  },
  {
   "cell_type": "code",
   "execution_count": 10,
   "id": "0638a18a",
   "metadata": {},
   "outputs": [],
   "source": [
    "x = np.load(\n",
    "    'predictions.npz', allow_pickle=bool(1))"
   ]
  },
  {
   "cell_type": "code",
   "execution_count": 11,
   "id": "c5266317",
   "metadata": {
    "collapsed": true,
    "jupyter": {
     "outputs_hidden": true
    }
   },
   "outputs": [
    {
     "data": {
      "text/plain": [
       "array([['000932580e404dafbecd5916d4640938',\n",
       "        list([0.0, 0, '0ec32896a78c469983aba2fe4fb66b97', '02981ce603e140fa9840fddcafe530b1', '0c52e5318c6c4725a5e070630d45b09c', '00b9ef5ab6c04fcd969bab43a898f14e', '107542f0bfcb476f899907b17ffdcd99', '1f2100d56e9c4eddb049cf126841b7dc', '151845e35a554fd39fc5fbe4477aee88', '19b1fb5be667430585ec03d052a7cd84', '0cbc645a2f25461a9b52d520d36a3981', '029f234dfb78484a9e8918f97b08b218', '0ac4431a741746d8873ef46e214e355f', '15621f1f7d854966b10cc32438a7f804', '08b940b588284877828b052f121eaf53', '18f83b3b7f694c0395a047bc693bafa8', '1dd9bc0185b544ee87e585047f235b12', '1345f78619ca44e0a9e264968cd729eb', '026bf40a4c0d4f0bb564d40098e087c7', '010fa6cf11f24bb49c86464c5c413f31', '06fb680c5b3d42df9bb55e60d48d03b9', '1a6a5b4fd85f49b9a2fe676d825b2b91', '1d9278bdb853412ea61f2de3b0670e1c', '1e8e3e1a150b4ea09856c82dc97b6961', '0150bb90129545e889f32003335d27a3', '0078f349d197481c9e2fb43b0a6d1b84', '1d1838a3cc6b4812990f0eff4858247a', '04c17584d2994f7ea64ba76963c01ac9', '037c0e12fadd4064b474e5ea6b7eb3d0', '001e896589af4b82b1fbc5711515b470', '01ca68f3198840f1b4db4cfa63bdcc2e', '1f3a7a8e58354311a9b6ad9cff9c5db1', '1df0503f7a1044b983d150745bf84408', '1ca5f3b149ec4d228b25474f0d5a2177', '0c2f873f664b4991a372dbb778d1c99e', '1d7a133382b44511bfb50132c55c84d6', '1b9db776bddf44f7980529f847292ede', '12220f353ec142088006c2d883aefe86', '136dc3e8b50f4f098fb62e95f3093e68', '110310ffb1aa4df291238804ab01597c', '0da8ac53430e4307b1951dc266496620', '182ad88293bb4ffa9a5f42c8beb3af0d', '10f85f3f95254ce1abaf31f5a59d9d62', '11cf7e2f9a4b4bc6ab9c82372d634597', '0708c82a49ff40a9870cc3e657c29c4a', '1269ef63cd4c478387724fdf6a9b00ea', '0ebe040e079e4658bbb95520f1d13395', '0c4f8cc2d6234e7b85485155951213cc', '0581f565578d45fab8f8179b4fd120f2', '13f1fa5e46754feeaa40e9f3fbd74cba', '2081e7c3407e4755856ceae586abea99', '11491da23d734be3a72083d522f85739', '1831b2efd68d4b078f73d0a9d8ea52e5', '02586a94998d452aa31099549bc22de4', '1b0849ce5f7748b4a8cb51c62dfff75b', '138aac12b4d842b3b26dffa3d2c920c0', '09e0a8ee447943678d2358f2e6b55c1e', '1c8cf5814f434a23a5712919fcecd820', '1f9e54480b1f427ca89e04ad2d739eb9', '196bec16447c463ebefce46ba4520f17', '2154cf9609e2486eb6169e3064fc5fd6', '0995abdf39b24c2f9868a41fe21a785e', '14fa9bcd8a3446cd9c14b47a8bd8e43e', '1fb8593becc941fcb4e80d811383b1ca', '0850781d19ef400483b11b8f0ef2cece', '17def54b9e39427fa1bf0ceb618b9025', '14100dcbadd5446cabce3e0c8fca9adc', '011df1275bdf4040b9f501618ac7f8fd', '081808ac10b14b3fb4e31d7331c41fb6', '12b3b0aa9b054302b156e58fd772402d', '011d9f5a929f4e0ba548e378d02a2000', '1a067a488b50465e80eed28afe30626c', '10775133aacc448fb5e054d793434909', '1455a86699bb49db931426a7cba4f473', '1b989a6c80474dcc9341dd81164b3812', '0cc21df5196249aea231c74ee88a1850', '0119028e776f4429a2faf6e43a93336d', '06e40a7c7bbb42d4b8663d20c469289a', '2040926806b84d20ae1a39e3a8c79726', '04feaf7c90e14f8e932fc2e84e43f5a8', '147539bd55f0402aafe34d436067be67', '214812d6fbfd4374868bcc48a0d98324', '07b68937290845c491912589e0ef9caa', '003c5614416a4c81ab4ee74b72035842', '0763e884be0142f0a82f30c95c019c5c', '19af8ffba3824ef4878fcb69b1186ecf', '0749a983d00c4a2788ec31b70bacfdfe', '0cc08f74acaa485fbbecb6c59f5f6849', '0c03a213dfee4967adfcd2db411bbf78', '0d8e2ccb643c4306bb0385be1dc45d03', '07bd1c50e37a4a27bad2bfaaf9ef3503', '2013a4c39bb143318665af3a7c19d639', '0bfb76cf0767430abdd2772b5c494abd', '026ebaebde804f74bf34fb3ef80f1b50', '0ec09f88f36645e1b40d38ccd7617262', '04eb6a3119944980bc7c01512ff6da10', '1f30740b019b4ce7992eb3fa93b0aaea', '1591ce1219144d088c8faadfa76fc353', '04548acddc584bf39b797fcf0f0d8057', '1cacb9de7a564374b9f1af255cd81911'])],\n",
       "       ['0009e36b42cb4caeb928a1e596819495',\n",
       "        list([0.0, 0, '0ec32896a78c469983aba2fe4fb66b97', '02981ce603e140fa9840fddcafe530b1', '0c52e5318c6c4725a5e070630d45b09c', '00b9ef5ab6c04fcd969bab43a898f14e', '1f2100d56e9c4eddb049cf126841b7dc', '19b1fb5be667430585ec03d052a7cd84', '151845e35a554fd39fc5fbe4477aee88', '107542f0bfcb476f899907b17ffdcd99', '029f234dfb78484a9e8918f97b08b218', '0ac4431a741746d8873ef46e214e355f', '15621f1f7d854966b10cc32438a7f804', '08b940b588284877828b052f121eaf53', '18f83b3b7f694c0395a047bc693bafa8', '1345f78619ca44e0a9e264968cd729eb', '0cbc645a2f25461a9b52d520d36a3981', '1dd9bc0185b544ee87e585047f235b12', '010fa6cf11f24bb49c86464c5c413f31', '1f3a7a8e58354311a9b6ad9cff9c5db1', '026bf40a4c0d4f0bb564d40098e087c7', '06fb680c5b3d42df9bb55e60d48d03b9', '1a6a5b4fd85f49b9a2fe676d825b2b91', '005c28ac58194146bc38fbbce30cdb47', '08237f72109241f69e89a85a9f40a6f2', '1d9278bdb853412ea61f2de3b0670e1c', '0556e7bde5654047b9f3e8b6b6412f7c', '2096ab6ec196476fa0607ba468b3570b', '15f504d583b74aeb8b041fcdd1e0f9ab', '10a053d11fff4352bd2afa30f0eb668d', '008856379d0f481480f4a79f01a75f59', '06633f1a8d43482b87a05398fd4f0175', '1d0e0cd5e2ca4d599fba1f466f5f692a', '1df976c0d8df4df7ad4e0337618a1ea3', '06c2a8b7969642d5a1a5ebf4bd7ab0b9', '0bd7e694fb584c7bbb5bf2acb7c87443', '1bfb2e4fa1f64fa88c7d27f028fab708', '12258e48e2044d0f99f113816f6c585d', '0acc11bfcf94413d815a80803efaa6a2', '12344f611755427780ecc3c4c57c1861', '0cf7a8c520a6441ab676b120fb711c00', '0e797e16c8474e4e86d119e4dd94a787', '0a3c2ff021b34031ba83be44aa0d5d09', '1879d8658272476c92b670e2762b270c', '06f42065c23044e8b9fe1cdc9d0da596', '153a5df1904547b09d1f2a5d38f85774', '0c9af10786d44c549adf9786d51db796', '0fbb562ac0eb404fb3b33ea8a9cc5f04', '02248ac022944cc4b04203ec4d8d83bf', '0b40ddfac2cc4fefba48207af4bda420', '0611e5d890dd4fb0b1c51af20e7fdaa3', '0f917ac6c7f84b8ea1fcdcebad96ecdd', '184d19ea39174dc8b2ee2d8cb56a36db', '1c572ca40ba1402fbdab20f1dbaa45ad', '137a3dc92364412493e4fdf060b04ba7', '07f708792154421f90f4195ec220d3b1', '0d1c0d010f324d13a95d0575e1fb3e9d', '19ea16c4ff104cfdb1d370eacdd7dfe6', '090539e8939842a285e6765bacc1d783', '1aea50a1a3154fa6ad5f56a33b534a28', '1aa4e5bc3d554820a1da2c9a9d8f5156', '001e896589af4b82b1fbc5711515b470', '1b6b8b345c5e447fa13a70f504b6e323', '054ffe4a2f2c4bee944bf36bd3ce7e8f', '1d1f8c3340d74fe9b1f55ff02e418b21', '1b2e4446f9d9455990abc9b689c1f8de', '05fa9535a5ef42cb9f80f1787e62cb37', '100f5b01f8204f0d841e9c2dbc8e29ae', '05c5fbf0ea674b9e92173294a13159db', '1b9f8cd995bf412883da0a09a19fc432', '1e6aac89e7ed4e9b8b9332e736bfca32', '1415a2527a4d4a69a21e47728f3b9c55', '15937c97f1ed4e3ab65eec6bd3dff9af', '0842aa029ffc4239be6f1bf15049f474', '09ba0a69120a4fe49c81714d2bd9886c', '189fe14297c247fd9658b14999f31b63', '101696dca4104a2fba015295a773ba24', '031ca138415b4339b1478b7fa151e214', '1e3b17df11714f92bbf3869e041f638e', '1c096d1e1b694be7b25f78b5aaaa9f7c', '1d278d2d802f4b819c8ab0400cc872a0', '1544d58444134d0881ded516f140aeb5', '12a9624fcfa541dbac279b2161a0473e', '1d9521fb74a64f1a8191c000cdc30627', '1e8e3e1a150b4ea09856c82dc97b6961', '10edb2a595894e43bc9640714edf9122', '1de4c0435e7a426293cc68c1cb70e4a2', '10581d61bcf54b4f90de4cff4baba3c5', '157f9001c71f4431865fb57e5a15acfb', '1a779bc7476d4073ad91d70b304511e8', '06be506226f744e38333f3f907d2a2c1', '0055299ccc4b49de8f0079b28f4a1fd3', '184f2c96ba6d4dd28ec77b2c4e23b5c3', '11abddcd22e24c7d910fc0967dfad040', '13bf30576f1e40f7b67e5d1a461d7b44', '0ce556dfbff343449e8fcbff6f740305', '20ffea50cd5e4ee1bfc20505f49c7f9b', '00e83f6eace64b3a8844313e0147e17d', '0dd5865a9dd04444af0b5462ac6a9cca', '141e6d50cd5943158193f1fc1c9ea3e4'])],\n",
       "       ['000b29acb6bd44f99473c1be5ca28f3c',\n",
       "        list([0.0, 0, '02981ce603e140fa9840fddcafe530b1', '0ec32896a78c469983aba2fe4fb66b97', '0c52e5318c6c4725a5e070630d45b09c', '00b9ef5ab6c04fcd969bab43a898f14e', '107542f0bfcb476f899907b17ffdcd99', '1f2100d56e9c4eddb049cf126841b7dc', '19b1fb5be667430585ec03d052a7cd84', '151845e35a554fd39fc5fbe4477aee88', '0cbc645a2f25461a9b52d520d36a3981', '029f234dfb78484a9e8918f97b08b218', '08b940b588284877828b052f121eaf53', '0ac4431a741746d8873ef46e214e355f', '15621f1f7d854966b10cc32438a7f804', '18f83b3b7f694c0395a047bc693bafa8', '1dd9bc0185b544ee87e585047f235b12', '026bf40a4c0d4f0bb564d40098e087c7', '1345f78619ca44e0a9e264968cd729eb', '010fa6cf11f24bb49c86464c5c413f31', '1a6a5b4fd85f49b9a2fe676d825b2b91', '06fb680c5b3d42df9bb55e60d48d03b9', '00bde94f0e9b480e8b921d523e10f242', '1bab3958bb3a4b9bb6b409e4fe40a5f1', '0ef7d6913fe24eb5ba724379c28b70e7', '0e591979741f438a8d5121963816fac1', '014c4e3606eb4c71a67c595c289310d3', '1448d6bed35143c79ad647ad73a83a00', '1d9278bdb853412ea61f2de3b0670e1c', '05d79299cb5f479798cc58836f075d24', '0ead0aaf7ab84080a366239e89c8ad5a', '07bdcb28f1134546b7f115b4f8ebaa9f', '11da51297eb1431a8bafdf3094af9877', '0282385703564c6b9158f7074b417e9c', '011fae99571643e29f288b3ea9f6d076', '12fa179f8c46403eac057a9a758d723e', '1e77dc8f6bdb47bb9180278c96618475', '196bec16447c463ebefce46ba4520f17', '1a2f228aa32243318bc373c56fabd946', '167b2f1b48ad4f83b12f37872b92b0d7', '0570ab4b2d754dd3a3877c3b57269d41', '1991e43b9e5f435990f9ec7b79f9cb85', '0b36cbc216f44b91ba19398cdb2a9aaa', '0306c2b305914165a699213f99d398ce', '00851c6c0a7e42d8b7ded44586519c50', '0274c66c685841fc9f747b2fa57833a0', '02300f59f81e4fa89e6e4eba9ee58515', '070b4300d97743a5b9430b7135f922b9', '099b33a110774d99894531033a97a6c9', '16896d23f7e046218070cecbdf6e5200', '0b754c8574654cf19e94131c3b40b7d1', '20a48a5ac0ee4e7c8d816b9d1a04ca76', '013f0577d92d43bf8afabbc4113ee201', '0f66f5d3ae9244738e880ae18fb8255f', '071b31cc019942f68f354bcd71b63144', '01ca68f3198840f1b4db4cfa63bdcc2e', '1874d7dd9acf4acba19770fb36ce5d6a', '18f2c4a25cc14e689a649cb3ccbde1b8', '01fd3b92e80c4ba0863e143a552d0cdc', '0d1182cace0848158cec65719415d7d3', '15d5373e8f834ac19efb5bca3be2181e', '1cd6cdfad30a42cea4922a5ad3d8fb04', '203759d5c8044856a7b6a265d92e5f80', '08b8d260a23d496bb0ae6460c5d3b48f', '1b6facc9ff8e4882a30e76df8053680a', '206001d5d1a64107a6643e5fa17f9597', '03ef9780bfa14b40a91ee1a492a67aed', '005c28ac58194146bc38fbbce30cdb47', '081cd3b6a2bc499489256ebf4b0bee3e', '0fb87791191641d495fea090a01fab5c', '0b9632a310754bd08fc3a706f7c26235', '1c2b6db88019402a836afde39687c36d', '07ed9e1bde11483da2d77168559292e2', '14f8380d1c5047d5bf185e7d15bcbde0', '1ef254170e53455aaa8fc4f80057b1ae', '168ad8b267d846f7a7cbd53545d74e5f', '02159aed531547f68230f6bdc14d063f', '10307f42a13a4ab39f04559f5e413154', '0a07d58532bc4821bef2d29311b19a8b', '1831b2efd68d4b078f73d0a9d8ea52e5', '088ddaf9f0fe452181a2a2fc7b89611a', '1de784b5632344f2bf7a9079fac645e6', '09282485d0264a669524746c25f28190', '0f6f3212b1504621b380025a9480abd5', '0b8eb279e774435eabe7083c567fad2c', '1d7563a02d5d464284a51be887c0d634', '14171d05ab4b4a8397d7a44270e63e42', '0119028e776f4429a2faf6e43a93336d', '02586a94998d452aa31099549bc22de4', '072766991a1b436f83d469887963e13c', '0bcfc87b045a4718a6a66e7862d3a3ac', '0a7c62baea314495a033f173c7e9f073', '0b4bbab571f8499cab7ea87534083028', '09c412611b64422eb24cffc56fa547d9', '117c8ebe50f240949a1f24004786bb02', '0c2d1e911b2f47e8a09e83e86f3cfe49', '1dcab742a0fe47178c409840472db7e6', '1b85faa84cb54d90b53138a0a06a9e1b', '0dc2517dc8754812a693fe8e3ee48c04', '112a87753dd948d98e69604bbc0ce37c'])],\n",
       "       ...,\n",
       "       ['213ab4e280614c258314a62024728bfb',\n",
       "        list([0.0, 0, '0ec32896a78c469983aba2fe4fb66b97', '02981ce603e140fa9840fddcafe530b1', '0c52e5318c6c4725a5e070630d45b09c', '00b9ef5ab6c04fcd969bab43a898f14e', '107542f0bfcb476f899907b17ffdcd99', '1f2100d56e9c4eddb049cf126841b7dc', '151845e35a554fd39fc5fbe4477aee88', '19b1fb5be667430585ec03d052a7cd84', '026bf40a4c0d4f0bb564d40098e087c7', '0cbc645a2f25461a9b52d520d36a3981', '029f234dfb78484a9e8918f97b08b218', '0ac4431a741746d8873ef46e214e355f', '15621f1f7d854966b10cc32438a7f804', '08b940b588284877828b052f121eaf53', '18f83b3b7f694c0395a047bc693bafa8', '1dd9bc0185b544ee87e585047f235b12', '1345f78619ca44e0a9e264968cd729eb', '1fd010fffd554d658cfa02bb3b2523b1', '1e0de2f6741b4b59a8b8e6a5e026f38a', '1b64706ebe9e464fb0b8c96908e3ddff', '1066fcf54a1f4d0b9f2d6970acd8bf5d', '010fa6cf11f24bb49c86464c5c413f31', '1222bf1bab25414888136e6081a8d381', '070b4300d97743a5b9430b7135f922b9', '00851c6c0a7e42d8b7ded44586519c50', '1511a850ee8546939d44359c2b5ea140', '0119028e776f4429a2faf6e43a93336d', '01ca68f3198840f1b4db4cfa63bdcc2e', '14e44bcf8f0045869d75d52183ed995d', '06898494f156404698d585c4dc01b78a', '1b521fcab44b4da99ac22718a83ecf08', '152e2c653649479aad2bfbde34fe520d', '0eae70d145114728901900bb7bf4d338', '196bec16447c463ebefce46ba4520f17', '09282485d0264a669524746c25f28190', '214c04a973364a45a1ece2cfcdce3317', '1dcab742a0fe47178c409840472db7e6', '1017e68f8aca44ff9383255bde4fa757', '07649714566a4d8a80d787fc9b70f825', '17cee53e7fde4336826ed461d073b222', '0cb189dfb948467e938418c122159519', '097fe3bd9bb4438da05c27d8a76d1bd8', '1de75bda992842d9915ee8168240a565', '09c412611b64422eb24cffc56fa547d9', '11f4e754f51a4fbe943dcb6d9aead7eb', '04b2ac53b98b4f37966ee41a48f1a138', '00d8a9e0ebac4b7894c5dd3e2ad5c17a', '08608c8f22f24320830df0f47c1d0ad8', '1327d47e0b9f43c6bcfc7bbd6c51c697', '0f2cf0a26118466bb723b97b7131067d', '034e874bf0064e128599044ca9b5b69a', '11747d4aa3ea4c2ba7790fc4adb28455', '1ca3279e725041d097e1e0b7eee7ed02', '1ef854bcf2d243968625813c76a9d1d4', '0f0e59c21a9a4b8da0cb6960fc0c2c7a', '1bc8be7fe71243c199db2bfb1fb4a678', '096c454b16d74f01a6bd8dccfd5973d9', '1a3ed71dfe2f43aa8ef7e903876fa3c5', '0f137a5b74a2477d8a2df74144bd8dfb', '0fb330a396344219ba78a00e55d81904', '0fadb381a43b4c8ca6df31ed5271627d', '0b9632a310754bd08fc3a706f7c26235', '081051dd68344f7ba0a44bfd3fbc44c4', '05c5224cd20c4042883b64badcd1cfdc', '04dd672eec4342b8a4f02132f9acbd9e', '02300f59f81e4fa89e6e4eba9ee58515', '068cbb6767244a78833aaba4214bebd7', '081da45b9525432885de61580864ff17', '158ccb81a7bd4dc19c43044999733198', '0b14da2849784e22bf6dd767e409e613', '0c2d1e911b2f47e8a09e83e86f3cfe49', '17e868772c5b40448817fb07ec103d6b', '1336808535804e3ea7075412e89c4295', '1b68891e51e141beac35b4aef9fc33ac', '13882d7b02c042ed9b5c1019edf7bb30', '0fb87791191641d495fea090a01fab5c', '1c2397a6ccdf47cbaec9845d437e2743', '11ff382d1fb54d71bc9e3ea2c4140d3f', '072963982fe74ad7a6c61cc28c019e17', '17c98d7db0d74b6db7310a0d9d4967cb', '061dabb68574413685e0f22259fc5f54', '00bde94f0e9b480e8b921d523e10f242', '06a4a9a71fa343109541ae3f84796882', '1258147d4680429d873572085b6b8527', '115d64e0720a4b4db5de8ee6a64b9ffa', '05a68e1645554bb88bcca2c52f13a3cb', '0a6dcc4435a4427cb5d068f53491656f', '089c261f9a2b472fbead1594e348dd11', '0d8c037f8cd840068fa128d6e27f1882', '194fe13746f24e66b23ef895f43b21ec', '03d7cb73007243109601ef9a97a9bc8a', '011fae99571643e29f288b3ea9f6d076', '04362595c59b4fc3ac607a036b033a81', '0b4bbab571f8499cab7ea87534083028', '1d7eff5c02b1414dab89aecfc3808f64', '0eb4be6915e94a40a9d8cc16be4e78ec', '113dfb68972a4b059ede5de0632035d9', '1a2f228aa32243318bc373c56fabd946'])],\n",
       "       ['213c69ff1a2542b9943c1ccfecdf7648',\n",
       "        list([0.0, 0, '0ec32896a78c469983aba2fe4fb66b97', '02981ce603e140fa9840fddcafe530b1', '0c52e5318c6c4725a5e070630d45b09c', '00b9ef5ab6c04fcd969bab43a898f14e', '1f2100d56e9c4eddb049cf126841b7dc', '107542f0bfcb476f899907b17ffdcd99', '151845e35a554fd39fc5fbe4477aee88', '19b1fb5be667430585ec03d052a7cd84', '029f234dfb78484a9e8918f97b08b218', '08b940b588284877828b052f121eaf53', '0ac4431a741746d8873ef46e214e355f', '15621f1f7d854966b10cc32438a7f804', '18f83b3b7f694c0395a047bc693bafa8', '0cbc645a2f25461a9b52d520d36a3981', '1dd9bc0185b544ee87e585047f235b12', '1345f78619ca44e0a9e264968cd729eb', '026bf40a4c0d4f0bb564d40098e087c7', '010fa6cf11f24bb49c86464c5c413f31', '06fb680c5b3d42df9bb55e60d48d03b9', '1a6a5b4fd85f49b9a2fe676d825b2b91', '1d9278bdb853412ea61f2de3b0670e1c', '1e8e3e1a150b4ea09856c82dc97b6961', '0150bb90129545e889f32003335d27a3', '0078f349d197481c9e2fb43b0a6d1b84', '037c0e12fadd4064b474e5ea6b7eb3d0', '04c17584d2994f7ea64ba76963c01ac9', '001e896589af4b82b1fbc5711515b470', '01ca68f3198840f1b4db4cfa63bdcc2e', '1d1838a3cc6b4812990f0eff4858247a', '02586a94998d452aa31099549bc22de4', '0da8ac53430e4307b1951dc266496620', '0c2f873f664b4991a372dbb778d1c99e', '1f3a7a8e58354311a9b6ad9cff9c5db1', '1269ef63cd4c478387724fdf6a9b00ea', '1d7a133382b44511bfb50132c55c84d6', '1df0503f7a1044b983d150745bf84408', '1b9db776bddf44f7980529f847292ede', '12220f353ec142088006c2d883aefe86', '11cf7e2f9a4b4bc6ab9c82372d634597', '136dc3e8b50f4f098fb62e95f3093e68', '1b0849ce5f7748b4a8cb51c62dfff75b', '13f1fa5e46754feeaa40e9f3fbd74cba', '1ca5f3b149ec4d228b25474f0d5a2177', '1f9e54480b1f427ca89e04ad2d739eb9', '0708c82a49ff40a9870cc3e657c29c4a', '182ad88293bb4ffa9a5f42c8beb3af0d', '1455a86699bb49db931426a7cba4f473', '12200f424f54438398140d06d38ccf71', '10f85f3f95254ce1abaf31f5a59d9d62', '155c7cb4012b458fb6a455e67d1dad1f', '2154cf9609e2486eb6169e3064fc5fd6', '0581f565578d45fab8f8179b4fd120f2', '0995abdf39b24c2f9868a41fe21a785e', '2081e7c3407e4755856ceae586abea99', '17def54b9e39427fa1bf0ceb618b9025', '181db367d7414fc2ae899fa06cd6c366', '0ebe040e079e4658bbb95520f1d13395', '0dfabca7a62b4d73bca25640bb918944', '1289d1749a224b518750d86dfa62edaf', '119da0e6206b4cacaf9c2b2e48635920', '1f3792765dbc4a9e9cce77f799062800', '1b989a6c80474dcc9341dd81164b3812', '1b353bfa40a74da888bcd00da3eb1334', '1c4106979f4543849b6242a822854823', '0119028e776f4429a2faf6e43a93336d', '1704a6a3c8cc4bcb8452962fb95b14dd', '0749a983d00c4a2788ec31b70bacfdfe', '0c4f8cc2d6234e7b85485155951213cc', '1a3c1cf2bb10464d91dd07b645b0031b', '0d8e2ccb643c4306bb0385be1dc45d03', '20d51f67c89648f7a5b7fc14f8f2c237', '12b3b0aa9b054302b156e58fd772402d', '17b6008c321c4e78811c0574715486b9', '10775133aacc448fb5e054d793434909', '0e058f9c135b4b9f8dd8b10bc90c9ff4', '215b1b72e8cb46a5b5301b6f737f2927', '0d8a1251cda74c70a5f77a065a5d58a0', '0b661263191b4d41858b08ae6660e784', '08edb2766d14448ab6eec483d9ae85ab', '0a89179ad8a14dd9af067e52525c3217', '0cc21df5196249aea231c74ee88a1850', '1a067a488b50465e80eed28afe30626c', '08954b4f1e3c444dae216cbca62a2346', '19bc115fc00641cca241a6cc0154799b', '0a5735792d8649b1a79ea3189c52eb27', '0b85a5ef2d0149a8979383e99cde99f2', '073927d1bade4b9490340c6d51c5c3e4', '0d6245418f454ee9b7aa69688a4d249a', '11ebedc5e7084e10834355dd19dbe8ae', '178002ae3855459b957630bb27a84574', '1c24e7f938564a2aaa5e757314262da1', '2040926806b84d20ae1a39e3a8c79726', '016644a0e8db4081841a2db6c9809f41', '09e0a8ee447943678d2358f2e6b55c1e', '10e5ab85cdd143fbaaa1e2b866e5df38', '1e37b89e07764c4d9a8e58448687179e', '0555f4220f2e4fa1b5bf734023380bab', '0763e884be0142f0a82f30c95c019c5c'])],\n",
       "       ['213c82e59a6e4fb0a8c6cc3cf9741380',\n",
       "        list([0.0, 0, '0ec32896a78c469983aba2fe4fb66b97', '02981ce603e140fa9840fddcafe530b1', '0c52e5318c6c4725a5e070630d45b09c', '00b9ef5ab6c04fcd969bab43a898f14e', '12fa179f8c46403eac057a9a758d723e', '071b31cc019942f68f354bcd71b63144', '20a48a5ac0ee4e7c8d816b9d1a04ca76', '017cbb84df5a42219f17a85ba7d94ada', '0b9632a310754bd08fc3a706f7c26235', '0e591979741f438a8d5121963816fac1', '203759d5c8044856a7b6a265d92e5f80', '00bde94f0e9b480e8b921d523e10f242', '1f2100d56e9c4eddb049cf126841b7dc', '03ef9780bfa14b40a91ee1a492a67aed', '02300f59f81e4fa89e6e4eba9ee58515', '19b1fb5be667430585ec03d052a7cd84', '151845e35a554fd39fc5fbe4477aee88', '0ead0aaf7ab84080a366239e89c8ad5a', '05d79299cb5f479798cc58836f075d24', '0a07d58532bc4821bef2d29311b19a8b', '11da51297eb1431a8bafdf3094af9877', '02831d884f5445c0a6acd600752e8630', '03b4e7e02b3a419c93e1edf4dfaded12', '18f69ef985914bdfaa033b9759a4a836', '0ef7d6913fe24eb5ba724379c28b70e7', '1cd6cdfad30a42cea4922a5ad3d8fb04', '117c8ebe50f240949a1f24004786bb02', '07ed9e1bde11483da2d77168559292e2', '1222bf1bab25414888136e6081a8d381', '0ed72d48b9f244459b372f7e3a71e462', '107542f0bfcb476f899907b17ffdcd99', '005c28ac58194146bc38fbbce30cdb47', '00851c6c0a7e42d8b7ded44586519c50', '10f589b6039c4dcdb1d04666238b122e', '1ef254170e53455aaa8fc4f80057b1ae', '081cd3b6a2bc499489256ebf4b0bee3e', '1d7bcdd69bb84b5287864e8350b586f0', '0f619cf56cfd4dc0a4d67c52098d131b', '02ad47e423774f7f9396df446064d4e9', '02ea216bac2e411fb5294c657a0490d4', '2026586f1c44482aafb1802ac9bca6a9', '1fed7939349a41989887291446ac78f8', '02159aed531547f68230f6bdc14d063f', '194fe13746f24e66b23ef895f43b21ec', '011fae99571643e29f288b3ea9f6d076', '053aeaab0df6412f8677a5d9ab8a3ed0', '1c2b6db88019402a836afde39687c36d', '14171d05ab4b4a8397d7a44270e63e42', '112d070226b54f20b579cf107443b6ee', '0b4bbab571f8499cab7ea87534083028', '1448d6bed35143c79ad647ad73a83a00', '08ef70e6a761496db2c36bdcb41ab028', '040c2d6142b44d08952adc8ec1a1dd61', '1ca3279e725041d097e1e0b7eee7ed02', '0dae65d45019435487041133883674e9', '0f6f3212b1504621b380025a9480abd5', '139d32fced4049f996643334ad375a03', '1bab3958bb3a4b9bb6b409e4fe40a5f1', '088ddaf9f0fe452181a2a2fc7b89611a', '1f4c651d93204a02824bbc3bfc3b9624', '03584f98f3364e48b2ef310b6545af98', '152e2c653649479aad2bfbde34fe520d', '0f66f5d3ae9244738e880ae18fb8255f', '070b4300d97743a5b9430b7135f922b9', '1d7563a02d5d464284a51be887c0d634', '1de784b5632344f2bf7a9079fac645e6', '09282485d0264a669524746c25f28190', '06b8a6f41cf545c68bc01930c4a9a4b3', '1c169f408b1448c4a130a2899a2e2392', '15d5373e8f834ac19efb5bca3be2181e', '20902bdfa34046369b1f11f5c013df7a', '11c313cb94b54151839cb295fe03782f', '083e46d9a76e43b1810cfb7466af7f5b', '08b8d260a23d496bb0ae6460c5d3b48f', '1327029477d542bbb03b40807a12115a', '16762cac9b264c4c9ff64cb8847d8e09', '068cbb6767244a78833aaba4214bebd7', '03743786e54a431285f1337b3570570a', '0c971e443af34495af0755087beab793', '0bf370451aaa4028b145468ef8f7e647', '1a1f1aa04568436c8488aba6d5219865', '12a6a63b208d410cb3362c8d942e988e', '0fb330a396344219ba78a00e55d81904', '137d56c57d794ee1b77d469b44fa3734', '151a553318844552ab8d7602b3848ddb', '03d8b2a78eda40e18ae26ffdb2e61d39', '1683ab701d4c44bca5029f46eae69cd8', '1a45796e13e34a39a22d1710f41e1778', '174017f7dc7c4268a5a6dd4e7e6e8ff5', '0f8d4439f9cf44908c5a50b6096eb954', '0d52dd83763a4323a9a46ec2a9f8fb53', '1207a7c827844871952f74c5fce37e6c', '0b3fcdcb2bb240f4b97727876153c2cd', '06898494f156404698d585c4dc01b78a', '18956a7946764512b5ad1f8791a3fc8f', '17fb50e51c674ab0a25c816b387090fc', '1e08e58adf4749e280c241ae744f6103', '05c4e5518fc14d9680efe699ad1da574'])]],\n",
       "      dtype=object)"
      ]
     },
     "execution_count": 11,
     "metadata": {},
     "output_type": "execute_result"
    }
   ],
   "source": [
    "x['arr_0']"
   ]
  },
  {
   "cell_type": "code",
   "execution_count": null,
   "id": "57edb750",
   "metadata": {},
   "outputs": [],
   "source": [
    "pip install catboost"
   ]
  },
  {
   "cell_type": "code",
   "execution_count": null,
   "id": "634a5799",
   "metadata": {},
   "outputs": [],
   "source": []
  },
  {
   "cell_type": "code",
   "execution_count": null,
   "id": "29fa26a1",
   "metadata": {},
   "outputs": [],
   "source": [
    "1"
   ]
  },
  {
   "cell_type": "code",
   "execution_count": null,
   "id": "ad3f6763",
   "metadata": {},
   "outputs": [],
   "source": []
  },
  {
   "cell_type": "code",
   "execution_count": null,
   "id": "add9813e",
   "metadata": {},
   "outputs": [],
   "source": []
  },
  {
   "cell_type": "code",
   "execution_count": null,
   "id": "5630e3cd",
   "metadata": {},
   "outputs": [],
   "source": [
    "tr.columns"
   ]
  },
  {
   "cell_type": "code",
   "execution_count": null,
   "id": "3930f1f4",
   "metadata": {},
   "outputs": [],
   "source": [
    "cl.columns"
   ]
  },
  {
   "cell_type": "code",
   "execution_count": null,
   "id": "47cca06f",
   "metadata": {},
   "outputs": [],
   "source": []
  },
  {
   "cell_type": "code",
   "execution_count": null,
   "id": "15c25d40",
   "metadata": {},
   "outputs": [],
   "source": [
    " len((rtk+rtk+rtk+rtk+rtk+rtk)[:max_len])"
   ]
  },
  {
   "cell_type": "code",
   "execution_count": null,
   "id": "8a22e276",
   "metadata": {},
   "outputs": [],
   "source": [
    " len((bank+bank+bank+bank+bank+bank+bank)[:max_len])"
   ]
  },
  {
   "cell_type": "code",
   "execution_count": null,
   "id": "b1d30dd7",
   "metadata": {},
   "outputs": [],
   "source": []
  }
 ],
 "metadata": {
  "kernelspec": {
   "display_name": "Python 3 (ipykernel)",
   "language": "python",
   "name": "python3"
  },
  "language_info": {
   "codemirror_mode": {
    "name": "ipython",
    "version": 3
   },
   "file_extension": ".py",
   "mimetype": "text/x-python",
   "name": "python",
   "nbconvert_exporter": "python",
   "pygments_lexer": "ipython3",
   "version": "3.9.7"
  }
 },
 "nbformat": 4,
 "nbformat_minor": 5
}
