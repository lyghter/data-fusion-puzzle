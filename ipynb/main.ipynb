{
 "cells": [
  {
   "cell_type": "code",
   "execution_count": null,
   "id": "57cd6bc2",
   "metadata": {},
   "outputs": [],
   "source": []
  },
  {
   "cell_type": "code",
   "execution_count": null,
   "id": "5dceef7c",
   "metadata": {},
   "outputs": [],
   "source": []
  },
  {
   "cell_type": "code",
   "execution_count": 20,
   "id": "ff814300",
   "metadata": {},
   "outputs": [],
   "source": [
    "!rm /notebooks/v3/data/transactions.feather "
   ]
  },
  {
   "cell_type": "code",
   "execution_count": 21,
   "id": "e605b54e",
   "metadata": {},
   "outputs": [
    {
     "name": "stdout",
     "output_type": "stream",
     "text": [
      "10000.json     click_categories.csv\n",
      "15000.json     clickstreams_events_uids.feather\n",
      "19623.json     currency_rk.csv\n",
      "5000.json      mcc_codes.csv\n",
      "TEST.feather   puzzle.csv\n",
      "TRAIN.feather  rtk.feather\n",
      "XC.pt\t       sample_submission.csv\n",
      "YC.pt\t       train_matching.csv\n",
      "bank.feather   transactions_events_uids.feather\n"
     ]
    }
   ],
   "source": [
    "!ls /notebooks/v3/data"
   ]
  },
  {
   "cell_type": "code",
   "execution_count": 1,
   "id": "5b025d3b",
   "metadata": {},
   "outputs": [
    {
     "name": "stdout",
     "output_type": "stream",
     "text": [
      "3.9G\t/notebooks\n"
     ]
    }
   ],
   "source": [
    "!du -hs /notebooks"
   ]
  },
  {
   "cell_type": "code",
   "execution_count": null,
   "id": "c76dc451",
   "metadata": {},
   "outputs": [],
   "source": []
  },
  {
   "cell_type": "code",
   "execution_count": null,
   "id": "fff78a3c",
   "metadata": {},
   "outputs": [],
   "source": []
  },
  {
   "cell_type": "code",
   "execution_count": null,
   "id": "73eedbf9",
   "metadata": {},
   "outputs": [],
   "source": []
  },
  {
   "cell_type": "code",
   "execution_count": 1,
   "id": "33d03b84",
   "metadata": {},
   "outputs": [
    {
     "name": "stdout",
     "output_type": "stream",
     "text": [
      "/notebooks\n"
     ]
    }
   ],
   "source": [
    "%cd ../.."
   ]
  },
  {
   "cell_type": "code",
   "execution_count": null,
   "id": "c252eedd",
   "metadata": {},
   "outputs": [],
   "source": [
    "!rm v2.zip"
   ]
  },
  {
   "cell_type": "code",
   "execution_count": null,
   "id": "971c4dc2",
   "metadata": {},
   "outputs": [],
   "source": [
    "!zip -r v3.zip v3 \\\n",
    "-x 'v2/data/*' \\\n",
    "-x 'v2/.ipynb_checkpoints/*' \\\n",
    "-x 'v2/.git/*'"
   ]
  },
  {
   "cell_type": "code",
   "execution_count": null,
   "id": "cce796fc",
   "metadata": {},
   "outputs": [],
   "source": []
  },
  {
   "cell_type": "code",
   "execution_count": null,
   "id": "9534a90e",
   "metadata": {},
   "outputs": [],
   "source": []
  },
  {
   "cell_type": "code",
   "execution_count": null,
   "id": "723b8462",
   "metadata": {},
   "outputs": [],
   "source": []
  }
 ],
 "metadata": {
  "kernelspec": {
   "display_name": "Python 3 (ipykernel)",
   "language": "python",
   "name": "python3"
  },
  "language_info": {
   "codemirror_mode": {
    "name": "ipython",
    "version": 3
   },
   "file_extension": ".py",
   "mimetype": "text/x-python",
   "name": "python",
   "nbconvert_exporter": "python",
   "pygments_lexer": "ipython3",
   "version": "3.9.7"
  }
 },
 "nbformat": 4,
 "nbformat_minor": 5
}
