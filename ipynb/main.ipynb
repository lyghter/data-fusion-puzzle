{
 "cells": [
  {
   "cell_type": "code",
   "execution_count": null,
   "id": "250d9ec3",
   "metadata": {},
   "outputs": [],
   "source": []
  },
  {
   "cell_type": "code",
   "execution_count": null,
   "id": "013ec032",
   "metadata": {},
   "outputs": [],
   "source": []
  },
  {
   "cell_type": "code",
   "execution_count": 20,
   "id": "0437125e",
   "metadata": {},
   "outputs": [],
   "source": [
    "# !rm /notebooks/v3/data/transactions.feather "
   ]
  },
  {
   "cell_type": "code",
   "execution_count": 5,
   "id": "57eefb90",
   "metadata": {},
   "outputs": [],
   "source": [
    "from pathlib import Path"
   ]
  },
  {
   "cell_type": "code",
   "execution_count": 11,
   "id": "f7a9d014",
   "metadata": {},
   "outputs": [
    {
     "data": {
      "text/plain": [
       "'r'"
      ]
     },
     "execution_count": 11,
     "metadata": {},
     "output_type": "execute_result"
    }
   ],
   "source": [
    "Path('a/r.csv').stem"
   ]
  },
  {
   "cell_type": "code",
   "execution_count": null,
   "id": "6a7d7319",
   "metadata": {},
   "outputs": [],
   "source": []
  },
  {
   "cell_type": "code",
   "execution_count": 3,
   "id": "2c09a717",
   "metadata": {},
   "outputs": [
    {
     "name": "stdout",
     "output_type": "stream",
     "text": [
      "10000.json     XC.pt\t     cl.csv\t\t   rtk.feather\n",
      "15000.json     XCP.pt\t     click_categories.csv  sample_submission.csv\n",
      "19623.json     XT.pt\t     clickstreams.feather  tr.csv\n",
      "5000.json      YC.pt\t     currency_rk.csv\t   train_matching.csv\n",
      "TEST.feather   YT.pt\t     mcc_codes.csv\t   transactions.feather\n",
      "TRAIN.feather  bank.feather  puzzle.csv\n"
     ]
    }
   ],
   "source": [
    "!ls /notebooks/v3/data"
   ]
  },
  {
   "cell_type": "code",
   "execution_count": 16,
   "id": "bfdb550f",
   "metadata": {},
   "outputs": [
    {
     "name": "stdout",
     "output_type": "stream",
     "text": [
      "4.9G\t/notebooks\n"
     ]
    }
   ],
   "source": [
    "!du -hs /notebooks"
   ]
  },
  {
   "cell_type": "code",
   "execution_count": 15,
   "id": "56be69bb",
   "metadata": {},
   "outputs": [
    {
     "name": "stdout",
     "output_type": "stream",
     "text": [
      "4.7G\t/notebooks/v3/data\n"
     ]
    }
   ],
   "source": [
    "!du -h /notebooks/v3/data"
   ]
  },
  {
   "cell_type": "code",
   "execution_count": 18,
   "id": "9ab5302e",
   "metadata": {},
   "outputs": [
    {
     "name": "stdout",
     "output_type": "stream",
     "text": [
      "2.3G\t/notebooks/v3/data/XC.pt\n"
     ]
    }
   ],
   "source": [
    "!du -h /notebooks/v3/data/XC.pt"
   ]
  },
  {
   "cell_type": "code",
   "execution_count": null,
   "id": "b1ae4cca",
   "metadata": {},
   "outputs": [],
   "source": [
    "import torch"
   ]
  },
  {
   "cell_type": "code",
   "execution_count": 56,
   "id": "8b32fed3",
   "metadata": {},
   "outputs": [
    {
     "data": {
      "text/plain": [
       "tensor([1], dtype=torch.uint8)"
      ]
     },
     "execution_count": 56,
     "metadata": {},
     "output_type": "execute_result"
    }
   ],
   "source": []
  },
  {
   "cell_type": "code",
   "execution_count": 37,
   "id": "f3ae1bda",
   "metadata": {},
   "outputs": [
    {
     "data": {
      "text/plain": [
       "int"
      ]
     },
     "execution_count": 37,
     "metadata": {},
     "output_type": "execute_result"
    }
   ],
   "source": []
  },
  {
   "cell_type": "code",
   "execution_count": 43,
   "id": "5d66626d",
   "metadata": {},
   "outputs": [],
   "source": [
    "import numpy as np"
   ]
  },
  {
   "cell_type": "code",
   "execution_count": 48,
   "id": "273c1b33",
   "metadata": {},
   "outputs": [
    {
     "data": {
      "text/plain": [
       "torch.uint8"
      ]
     },
     "execution_count": 48,
     "metadata": {},
     "output_type": "execute_result"
    }
   ],
   "source": [
    "torch.uint8"
   ]
  },
  {
   "cell_type": "code",
   "execution_count": null,
   "id": "f8ad9a6a",
   "metadata": {},
   "outputs": [],
   "source": []
  },
  {
   "cell_type": "code",
   "execution_count": 52,
   "id": "bd65b84b",
   "metadata": {},
   "outputs": [
    {
     "data": {
      "text/plain": [
       "True"
      ]
     },
     "execution_count": 52,
     "metadata": {},
     "output_type": "execute_result"
    }
   ],
   "source": [
    "x=torch.LongTensor([1])\n",
    "isinstance(x, torch.Tensor) "
   ]
  },
  {
   "cell_type": "code",
   "execution_count": 49,
   "id": "bb15a5d3",
   "metadata": {},
   "outputs": [],
   "source": [
    "def get_int_dtypes():\n",
    "    dtypes = []\n",
    "    for n in [64,32,16,8]:\n",
    "        for p in ['','u']:\n",
    "            try:\n",
    "                dtypes.append(\n",
    "                    getattr(torch,f'{p}int{n}'))\n",
    "            except:\n",
    "                pass\n",
    "    return dtypes\n",
    "\n",
    "\n",
    "def is_ok(series, dtype):\n",
    "    iinfo = np.iinfo(dtype)\n",
    "    first = iinfo.min < series.min() < iinfo.max\n",
    "    second = iinfo.min < series.max() < iinfo.max\n",
    "    return first and second"
   ]
  },
  {
   "cell_type": "code",
   "execution_count": 50,
   "id": "03048c85",
   "metadata": {},
   "outputs": [
    {
     "data": {
      "text/plain": [
       "[torch.int64, torch.int32, torch.int16, torch.int8, torch.uint8]"
      ]
     },
     "execution_count": 50,
     "metadata": {},
     "output_type": "execute_result"
    }
   ],
   "source": [
    "get_int_dtypes()"
   ]
  },
  {
   "cell_type": "code",
   "execution_count": 40,
   "id": "21a4961d",
   "metadata": {},
   "outputs": [
    {
     "ename": "TypeError",
     "evalue": "iinfo() missing 1 required positional arguments: \"type\"",
     "output_type": "error",
     "traceback": [
      "\u001b[0;31m---------------------------------------------------------------------------\u001b[0m",
      "\u001b[0;31mTypeError\u001b[0m                                 Traceback (most recent call last)",
      "Input \u001b[0;32mIn [40]\u001b[0m, in \u001b[0;36m<cell line: 1>\u001b[0;34m()\u001b[0m\n\u001b[0;32m----> 1\u001b[0m \u001b[43mtorch\u001b[49m\u001b[38;5;241;43m.\u001b[39;49m\u001b[43miinfo\u001b[49m\u001b[43m(\u001b[49m\u001b[43m)\u001b[49m\n",
      "\u001b[0;31mTypeError\u001b[0m: iinfo() missing 1 required positional arguments: \"type\""
     ]
    }
   ],
   "source": [
    "torch.iinfo()"
   ]
  },
  {
   "cell_type": "code",
   "execution_count": 38,
   "id": "9a34870b",
   "metadata": {},
   "outputs": [
    {
     "name": "stdout",
     "output_type": "stream",
     "text": [
      "torch.int64\n",
      "tensor(0, device='cuda:0') tensor(791, device='cuda:0')\n"
     ]
    }
   ],
   "source": [
    "XC = torch.load('/notebooks/v3/data/XC.pt').cuda()\n",
    "print(XC.dtype)\n",
    "print(XC.min(),XC.max())"
   ]
  },
  {
   "cell_type": "code",
   "execution_count": 28,
   "id": "d16a0df0",
   "metadata": {},
   "outputs": [
    {
     "name": "stdout",
     "output_type": "stream",
     "text": [
      "torch.int64\n",
      "tensor(0) tensor(42155)\n"
     ]
    }
   ],
   "source": [
    "x = torch.load('/notebooks/v3/data/YC.pt')\n",
    "print(x.dtype)\n",
    "print(x.min(),x.max())"
   ]
  },
  {
   "cell_type": "code",
   "execution_count": 29,
   "id": "239bb655",
   "metadata": {},
   "outputs": [
    {
     "name": "stdout",
     "output_type": "stream",
     "text": [
      "torch.int64\n",
      "tensor(0) tensor(388)\n"
     ]
    }
   ],
   "source": [
    "x = torch.load('/notebooks/v3/data/XT.pt')\n",
    "print(x.dtype)\n",
    "print(x.min(),x.max())"
   ]
  },
  {
   "cell_type": "code",
   "execution_count": 30,
   "id": "9624f019",
   "metadata": {},
   "outputs": [
    {
     "name": "stdout",
     "output_type": "stream",
     "text": [
      "torch.int64\n",
      "tensor(1) tensor(42152)\n"
     ]
    }
   ],
   "source": [
    "x = torch.load('/notebooks/v3/data/YT.pt')\n",
    "print(x.dtype)\n",
    "print(x.min(),x.max())"
   ]
  },
  {
   "cell_type": "code",
   "execution_count": null,
   "id": "14d8e07c",
   "metadata": {},
   "outputs": [],
   "source": []
  },
  {
   "cell_type": "code",
   "execution_count": null,
   "id": "8905af41",
   "metadata": {},
   "outputs": [],
   "source": []
  },
  {
   "cell_type": "code",
   "execution_count": 1,
   "id": "0ecaa6be",
   "metadata": {},
   "outputs": [
    {
     "name": "stdout",
     "output_type": "stream",
     "text": [
      "/notebooks\n"
     ]
    }
   ],
   "source": [
    "%cd ../.."
   ]
  },
  {
   "cell_type": "code",
   "execution_count": null,
   "id": "f62e5892",
   "metadata": {},
   "outputs": [],
   "source": [
    "!rm v2.zip"
   ]
  },
  {
   "cell_type": "code",
   "execution_count": null,
   "id": "60ad5c16",
   "metadata": {},
   "outputs": [],
   "source": [
    "!zip -r v3.zip v3 \\\n",
    "-x 'v2/data/*' \\\n",
    "-x 'v2/.ipynb_checkpoints/*' \\\n",
    "-x 'v2/.git/*'"
   ]
  },
  {
   "cell_type": "code",
   "execution_count": null,
   "id": "04f66b24",
   "metadata": {},
   "outputs": [],
   "source": []
  },
  {
   "cell_type": "code",
   "execution_count": null,
   "id": "50aea190",
   "metadata": {},
   "outputs": [],
   "source": []
  },
  {
   "cell_type": "code",
   "execution_count": null,
   "id": "70319fb7",
   "metadata": {},
   "outputs": [],
   "source": []
  }
 ],
 "metadata": {
  "kernelspec": {
   "display_name": "Python 3 (ipykernel)",
   "language": "python",
   "name": "python3"
  },
  "language_info": {
   "codemirror_mode": {
    "name": "ipython",
    "version": 3
   },
   "file_extension": ".py",
   "mimetype": "text/x-python",
   "name": "python",
   "nbconvert_exporter": "python",
   "pygments_lexer": "ipython3",
   "version": "3.9.7"
  }
 },
 "nbformat": 4,
 "nbformat_minor": 5
}
