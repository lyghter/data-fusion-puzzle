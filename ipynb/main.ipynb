{
 "cells": [
  {
   "cell_type": "code",
   "execution_count": null,
   "id": "79807246",
   "metadata": {},
   "outputs": [],
   "source": []
  },
  {
   "cell_type": "code",
   "execution_count": null,
   "id": "b4649516",
   "metadata": {},
   "outputs": [],
   "source": []
  },
  {
   "cell_type": "code",
   "execution_count": null,
   "id": "ad223423",
   "metadata": {},
   "outputs": [],
   "source": []
  },
  {
   "cell_type": "code",
   "execution_count": 20,
   "id": "6da25dc1",
   "metadata": {},
   "outputs": [],
   "source": [
    "# !rm /notebooks/v3/data/transactions.feather "
   ]
  },
  {
   "cell_type": "code",
   "execution_count": 5,
   "id": "f95a7861",
   "metadata": {},
   "outputs": [],
   "source": [
    "from pathlib import Path"
   ]
  },
  {
   "cell_type": "code",
   "execution_count": 11,
   "id": "d18a931a",
   "metadata": {},
   "outputs": [
    {
     "data": {
      "text/plain": [
       "'r'"
      ]
     },
     "execution_count": 11,
     "metadata": {},
     "output_type": "execute_result"
    }
   ],
   "source": [
    "Path('a/r.csv').stem"
   ]
  },
  {
   "cell_type": "code",
   "execution_count": null,
   "id": "f63ff2e8",
   "metadata": {},
   "outputs": [],
   "source": []
  },
  {
   "cell_type": "code",
   "execution_count": 1,
   "id": "44bced12",
   "metadata": {},
   "outputs": [
    {
     "name": "stdout",
     "output_type": "stream",
     "text": [
      "10000.json     XC.pt   YTP.pt\t\t     puzzle.csv\n",
      "15000.json     XCP.pt  bank.feather\t     rtk.feather\n",
      "19623.json     XT.pt   cl.csv\t\t     sample_submission.csv\n",
      "5000.json      XTP.pt  click_categories.csv  tr.csv\n",
      "P.feather      YC.pt   clickstreams.feather  train_matching.csv\n",
      "TEST.feather   YCP.pt  currency_rk.csv\t     transactions.feather\n",
      "TRAIN.feather  YT.pt   mcc_codes.csv\n"
     ]
    }
   ],
   "source": [
    "!ls /notebooks/v3/data"
   ]
  },
  {
   "cell_type": "code",
   "execution_count": null,
   "id": "e1356b50",
   "metadata": {},
   "outputs": [],
   "source": []
  },
  {
   "cell_type": "code",
   "execution_count": null,
   "id": "56937580",
   "metadata": {},
   "outputs": [],
   "source": []
  },
  {
   "cell_type": "code",
   "execution_count": 67,
   "id": "35ab3969",
   "metadata": {},
   "outputs": [
    {
     "name": "stdout",
     "output_type": "stream",
     "text": [
      "3.0G\t/notebooks\n"
     ]
    }
   ],
   "source": [
    "!du -hs /notebooks"
   ]
  },
  {
   "cell_type": "code",
   "execution_count": 68,
   "id": "d691ed65",
   "metadata": {},
   "outputs": [
    {
     "name": "stdout",
     "output_type": "stream",
     "text": [
      "2.8G\t/notebooks/v3/data\n"
     ]
    }
   ],
   "source": [
    "!du -h /notebooks/v3/data"
   ]
  },
  {
   "cell_type": "code",
   "execution_count": 65,
   "id": "c2432a54",
   "metadata": {},
   "outputs": [
    {
     "name": "stdout",
     "output_type": "stream",
     "text": [
      "573M\t/notebooks/v3/data/XC.pt\n"
     ]
    }
   ],
   "source": [
    "!du -h /notebooks/v3/data/XC.pt"
   ]
  },
  {
   "cell_type": "code",
   "execution_count": null,
   "id": "ce76e47d",
   "metadata": {},
   "outputs": [],
   "source": [
    "import torch"
   ]
  },
  {
   "cell_type": "code",
   "execution_count": 56,
   "id": "fb2889ec",
   "metadata": {},
   "outputs": [
    {
     "data": {
      "text/plain": [
       "tensor([1], dtype=torch.uint8)"
      ]
     },
     "execution_count": 56,
     "metadata": {},
     "output_type": "execute_result"
    }
   ],
   "source": []
  },
  {
   "cell_type": "code",
   "execution_count": 37,
   "id": "9b0605f4",
   "metadata": {},
   "outputs": [
    {
     "data": {
      "text/plain": [
       "int"
      ]
     },
     "execution_count": 37,
     "metadata": {},
     "output_type": "execute_result"
    }
   ],
   "source": []
  },
  {
   "cell_type": "code",
   "execution_count": 43,
   "id": "18179a99",
   "metadata": {},
   "outputs": [],
   "source": [
    "import numpy as np"
   ]
  },
  {
   "cell_type": "code",
   "execution_count": 48,
   "id": "fc17b725",
   "metadata": {},
   "outputs": [
    {
     "data": {
      "text/plain": [
       "torch.uint8"
      ]
     },
     "execution_count": 48,
     "metadata": {},
     "output_type": "execute_result"
    }
   ],
   "source": [
    "torch.uint8"
   ]
  },
  {
   "cell_type": "code",
   "execution_count": null,
   "id": "7722eab6",
   "metadata": {},
   "outputs": [],
   "source": []
  },
  {
   "cell_type": "code",
   "execution_count": 52,
   "id": "cd1386d5",
   "metadata": {},
   "outputs": [
    {
     "data": {
      "text/plain": [
       "True"
      ]
     },
     "execution_count": 52,
     "metadata": {},
     "output_type": "execute_result"
    }
   ],
   "source": [
    "x=torch.LongTensor([1])\n",
    "isinstance(x, torch.Tensor) "
   ]
  },
  {
   "cell_type": "code",
   "execution_count": 49,
   "id": "c54a32a1",
   "metadata": {},
   "outputs": [],
   "source": [
    "def get_int_dtypes():\n",
    "    dtypes = []\n",
    "    for n in [64,32,16,8]:\n",
    "        for p in ['','u']:\n",
    "            try:\n",
    "                dtypes.append(\n",
    "                    getattr(torch,f'{p}int{n}'))\n",
    "            except:\n",
    "                pass\n",
    "    return dtypes\n",
    "\n",
    "\n",
    "def is_ok(series, dtype):\n",
    "    iinfo = np.iinfo(dtype)\n",
    "    first = iinfo.min < series.min() < iinfo.max\n",
    "    second = iinfo.min < series.max() < iinfo.max\n",
    "    return first and second"
   ]
  },
  {
   "cell_type": "code",
   "execution_count": 50,
   "id": "67662430",
   "metadata": {},
   "outputs": [
    {
     "data": {
      "text/plain": [
       "[torch.int64, torch.int32, torch.int16, torch.int8, torch.uint8]"
      ]
     },
     "execution_count": 50,
     "metadata": {},
     "output_type": "execute_result"
    }
   ],
   "source": [
    "get_int_dtypes()"
   ]
  },
  {
   "cell_type": "code",
   "execution_count": 40,
   "id": "a774493b",
   "metadata": {},
   "outputs": [
    {
     "ename": "TypeError",
     "evalue": "iinfo() missing 1 required positional arguments: \"type\"",
     "output_type": "error",
     "traceback": [
      "\u001b[0;31m---------------------------------------------------------------------------\u001b[0m",
      "\u001b[0;31mTypeError\u001b[0m                                 Traceback (most recent call last)",
      "Input \u001b[0;32mIn [40]\u001b[0m, in \u001b[0;36m<cell line: 1>\u001b[0;34m()\u001b[0m\n\u001b[0;32m----> 1\u001b[0m \u001b[43mtorch\u001b[49m\u001b[38;5;241;43m.\u001b[39;49m\u001b[43miinfo\u001b[49m\u001b[43m(\u001b[49m\u001b[43m)\u001b[49m\n",
      "\u001b[0;31mTypeError\u001b[0m: iinfo() missing 1 required positional arguments: \"type\""
     ]
    }
   ],
   "source": [
    "torch.iinfo()"
   ]
  },
  {
   "cell_type": "code",
   "execution_count": 38,
   "id": "b2260d6c",
   "metadata": {},
   "outputs": [
    {
     "name": "stdout",
     "output_type": "stream",
     "text": [
      "torch.int64\n",
      "tensor(0, device='cuda:0') tensor(791, device='cuda:0')\n"
     ]
    }
   ],
   "source": [
    "XC = torch.load('/notebooks/v3/data/XC.pt').cuda()\n",
    "print(XC.dtype)\n",
    "print(XC.min(),XC.max())"
   ]
  },
  {
   "cell_type": "code",
   "execution_count": 28,
   "id": "67dbe386",
   "metadata": {},
   "outputs": [
    {
     "name": "stdout",
     "output_type": "stream",
     "text": [
      "torch.int64\n",
      "tensor(0) tensor(42155)\n"
     ]
    }
   ],
   "source": [
    "x = torch.load('/notebooks/v3/data/YC.pt')\n",
    "print(x.dtype)\n",
    "print(x.min(),x.max())"
   ]
  },
  {
   "cell_type": "code",
   "execution_count": 29,
   "id": "5940cebd",
   "metadata": {},
   "outputs": [
    {
     "name": "stdout",
     "output_type": "stream",
     "text": [
      "torch.int64\n",
      "tensor(0) tensor(388)\n"
     ]
    }
   ],
   "source": [
    "x = torch.load('/notebooks/v3/data/XT.pt')\n",
    "print(x.dtype)\n",
    "print(x.min(),x.max())"
   ]
  },
  {
   "cell_type": "code",
   "execution_count": 30,
   "id": "8efe3b41",
   "metadata": {},
   "outputs": [
    {
     "name": "stdout",
     "output_type": "stream",
     "text": [
      "torch.int64\n",
      "tensor(1) tensor(42152)\n"
     ]
    }
   ],
   "source": [
    "x = torch.load('/notebooks/v3/data/YT.pt')\n",
    "print(x.dtype)\n",
    "print(x.min(),x.max())"
   ]
  },
  {
   "cell_type": "code",
   "execution_count": null,
   "id": "7473b9b4",
   "metadata": {},
   "outputs": [],
   "source": []
  },
  {
   "cell_type": "code",
   "execution_count": null,
   "id": "1eb210b4",
   "metadata": {},
   "outputs": [],
   "source": []
  },
  {
   "cell_type": "code",
   "execution_count": null,
   "id": "40560e85",
   "metadata": {},
   "outputs": [],
   "source": []
  },
  {
   "cell_type": "code",
   "execution_count": null,
   "id": "ad141145",
   "metadata": {},
   "outputs": [],
   "source": []
  }
 ],
 "metadata": {
  "kernelspec": {
   "display_name": "Python 3 (ipykernel)",
   "language": "python",
   "name": "python3"
  },
  "language_info": {
   "codemirror_mode": {
    "name": "ipython",
    "version": 3
   },
   "file_extension": ".py",
   "mimetype": "text/x-python",
   "name": "python",
   "nbconvert_exporter": "python",
   "pygments_lexer": "ipython3",
   "version": "3.9.7"
  }
 },
 "nbformat": 4,
 "nbformat_minor": 5
}
