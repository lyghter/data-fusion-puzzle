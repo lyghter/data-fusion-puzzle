{
 "cells": [
  {
   "cell_type": "code",
   "execution_count": null,
   "id": "09086bb7",
   "metadata": {},
   "outputs": [],
   "source": []
  },
  {
   "cell_type": "code",
   "execution_count": null,
   "id": "aa568f96",
   "metadata": {},
   "outputs": [],
   "source": []
  },
  {
   "cell_type": "code",
   "execution_count": 1,
   "id": "d1954c56",
   "metadata": {},
   "outputs": [
    {
     "data": {
      "text/plain": [
       "2"
      ]
     },
     "execution_count": 1,
     "metadata": {},
     "output_type": "execute_result"
    }
   ],
   "source": [
    "round(1.98)"
   ]
  },
  {
   "cell_type": "code",
   "execution_count": 20,
   "id": "89b298c6",
   "metadata": {},
   "outputs": [],
   "source": [
    "# !rm /notebooks/v3/data/transactions.feather "
   ]
  },
  {
   "cell_type": "code",
   "execution_count": 2,
   "id": "a41d8c7d",
   "metadata": {},
   "outputs": [
    {
     "name": "stdout",
     "output_type": "stream",
     "text": [
      "5000.feather  5000.json  tr.csv  transactions.feather\n"
     ]
    }
   ],
   "source": [
    "!ls /notebooks/v3/data"
   ]
  },
  {
   "cell_type": "code",
   "execution_count": 1,
   "id": "2030dbd4",
   "metadata": {},
   "outputs": [
    {
     "name": "stdout",
     "output_type": "stream",
     "text": [
      "3.9G\t/notebooks\n"
     ]
    }
   ],
   "source": [
    "!du -hs /notebooks"
   ]
  },
  {
   "cell_type": "code",
   "execution_count": null,
   "id": "151d016f",
   "metadata": {},
   "outputs": [],
   "source": []
  },
  {
   "cell_type": "code",
   "execution_count": null,
   "id": "6bc491a1",
   "metadata": {},
   "outputs": [],
   "source": []
  },
  {
   "cell_type": "code",
   "execution_count": null,
   "id": "632b6178",
   "metadata": {},
   "outputs": [],
   "source": []
  },
  {
   "cell_type": "code",
   "execution_count": 1,
   "id": "05aca8ef",
   "metadata": {},
   "outputs": [
    {
     "name": "stdout",
     "output_type": "stream",
     "text": [
      "/notebooks\n"
     ]
    }
   ],
   "source": [
    "%cd ../.."
   ]
  },
  {
   "cell_type": "code",
   "execution_count": null,
   "id": "e429a39a",
   "metadata": {},
   "outputs": [],
   "source": [
    "!rm v2.zip"
   ]
  },
  {
   "cell_type": "code",
   "execution_count": null,
   "id": "5003acaa",
   "metadata": {},
   "outputs": [],
   "source": [
    "!zip -r v3.zip v3 \\\n",
    "-x 'v2/data/*' \\\n",
    "-x 'v2/.ipynb_checkpoints/*' \\\n",
    "-x 'v2/.git/*'"
   ]
  },
  {
   "cell_type": "code",
   "execution_count": null,
   "id": "f1dd2e55",
   "metadata": {},
   "outputs": [],
   "source": []
  },
  {
   "cell_type": "code",
   "execution_count": null,
   "id": "baea058d",
   "metadata": {},
   "outputs": [],
   "source": []
  },
  {
   "cell_type": "code",
   "execution_count": null,
   "id": "0d9b0f6b",
   "metadata": {},
   "outputs": [],
   "source": []
  }
 ],
 "metadata": {
  "kernelspec": {
   "display_name": "Python 3 (ipykernel)",
   "language": "python",
   "name": "python3"
  },
  "language_info": {
   "codemirror_mode": {
    "name": "ipython",
    "version": 3
   },
   "file_extension": ".py",
   "mimetype": "text/x-python",
   "name": "python",
   "nbconvert_exporter": "python",
   "pygments_lexer": "ipython3",
   "version": "3.9.7"
  }
 },
 "nbformat": 4,
 "nbformat_minor": 5
}
