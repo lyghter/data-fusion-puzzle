{
 "cells": [
  {
   "cell_type": "code",
   "execution_count": null,
   "id": "2b55f7da",
   "metadata": {},
   "outputs": [],
   "source": []
  },
  {
   "cell_type": "code",
   "execution_count": 20,
   "id": "dabf12cf",
   "metadata": {},
   "outputs": [],
   "source": [
    "!rm /notebooks/v3/data/transactions.feather "
   ]
  },
  {
   "cell_type": "code",
   "execution_count": 21,
   "id": "15d19a4c",
   "metadata": {},
   "outputs": [
    {
     "name": "stdout",
     "output_type": "stream",
     "text": [
      "10000.json     click_categories.csv\n",
      "15000.json     clickstreams_events_uids.feather\n",
      "19623.json     currency_rk.csv\n",
      "5000.json      mcc_codes.csv\n",
      "TEST.feather   puzzle.csv\n",
      "TRAIN.feather  rtk.feather\n",
      "XC.pt\t       sample_submission.csv\n",
      "YC.pt\t       train_matching.csv\n",
      "bank.feather   transactions_events_uids.feather\n"
     ]
    }
   ],
   "source": [
    "!ls /notebooks/v3/data"
   ]
  },
  {
   "cell_type": "code",
   "execution_count": 28,
   "id": "8ffb1c81",
   "metadata": {},
   "outputs": [
    {
     "name": "stdout",
     "output_type": "stream",
     "text": [
      "3.9G\t/notebooks\n"
     ]
    }
   ],
   "source": [
    "!du -hs /notebooks"
   ]
  },
  {
   "cell_type": "code",
   "execution_count": null,
   "id": "2e4ecf7a",
   "metadata": {},
   "outputs": [],
   "source": []
  },
  {
   "cell_type": "code",
   "execution_count": null,
   "id": "9b32c45d",
   "metadata": {},
   "outputs": [],
   "source": []
  },
  {
   "cell_type": "code",
   "execution_count": null,
   "id": "0b3abfd6",
   "metadata": {},
   "outputs": [],
   "source": []
  },
  {
   "cell_type": "code",
   "execution_count": 1,
   "id": "482e5cd4",
   "metadata": {},
   "outputs": [
    {
     "name": "stdout",
     "output_type": "stream",
     "text": [
      "/notebooks\n"
     ]
    }
   ],
   "source": [
    "%cd ../.."
   ]
  },
  {
   "cell_type": "code",
   "execution_count": null,
   "id": "d0fafd6b",
   "metadata": {},
   "outputs": [],
   "source": [
    "!rm v2.zip"
   ]
  },
  {
   "cell_type": "code",
   "execution_count": null,
   "id": "559ad707",
   "metadata": {},
   "outputs": [],
   "source": [
    "!zip -r v3.zip v3 \\\n",
    "-x 'v2/data/*' \\\n",
    "-x 'v2/.ipynb_checkpoints/*' \\\n",
    "-x 'v2/.git/*'"
   ]
  },
  {
   "cell_type": "code",
   "execution_count": null,
   "id": "2cc087df",
   "metadata": {},
   "outputs": [],
   "source": []
  },
  {
   "cell_type": "code",
   "execution_count": null,
   "id": "1a5d93ca",
   "metadata": {},
   "outputs": [],
   "source": []
  },
  {
   "cell_type": "code",
   "execution_count": null,
   "id": "a1de54ea",
   "metadata": {},
   "outputs": [],
   "source": []
  }
 ],
 "metadata": {
  "kernelspec": {
   "display_name": "Python 3 (ipykernel)",
   "language": "python",
   "name": "python3"
  },
  "language_info": {
   "codemirror_mode": {
    "name": "ipython",
    "version": 3
   },
   "file_extension": ".py",
   "mimetype": "text/x-python",
   "name": "python",
   "nbconvert_exporter": "python",
   "pygments_lexer": "ipython3",
   "version": "3.9.7"
  }
 },
 "nbformat": 4,
 "nbformat_minor": 5
}
