{
 "cells": [
  {
   "cell_type": "code",
   "execution_count": null,
   "id": "8af4209b",
   "metadata": {},
   "outputs": [],
   "source": []
  },
  {
   "cell_type": "code",
   "execution_count": 20,
   "id": "946764c4",
   "metadata": {},
   "outputs": [],
   "source": [
    "!rm /notebooks/v3/data/transactions.feather "
   ]
  },
  {
   "cell_type": "code",
   "execution_count": 21,
   "id": "1ce17b78",
   "metadata": {},
   "outputs": [
    {
     "name": "stdout",
     "output_type": "stream",
     "text": [
      "10000.json     click_categories.csv\n",
      "15000.json     clickstreams_events_uids.feather\n",
      "19623.json     currency_rk.csv\n",
      "5000.json      mcc_codes.csv\n",
      "TEST.feather   puzzle.csv\n",
      "TRAIN.feather  rtk.feather\n",
      "XC.pt\t       sample_submission.csv\n",
      "YC.pt\t       train_matching.csv\n",
      "bank.feather   transactions_events_uids.feather\n"
     ]
    }
   ],
   "source": [
    "!ls /notebooks/v3/data"
   ]
  },
  {
   "cell_type": "code",
   "execution_count": 24,
   "id": "c5417e0e",
   "metadata": {},
   "outputs": [
    {
     "name": "stdout",
     "output_type": "stream",
     "text": [
      "3.8G\t/notebooks\n"
     ]
    }
   ],
   "source": [
    "!du -hs /notebooks"
   ]
  },
  {
   "cell_type": "code",
   "execution_count": null,
   "id": "3d85f73a",
   "metadata": {},
   "outputs": [],
   "source": []
  },
  {
   "cell_type": "code",
   "execution_count": null,
   "id": "9bf3991e",
   "metadata": {},
   "outputs": [],
   "source": []
  },
  {
   "cell_type": "code",
   "execution_count": null,
   "id": "fd8fa740",
   "metadata": {},
   "outputs": [],
   "source": []
  },
  {
   "cell_type": "code",
   "execution_count": 1,
   "id": "dd6787db",
   "metadata": {},
   "outputs": [
    {
     "name": "stdout",
     "output_type": "stream",
     "text": [
      "/notebooks\n"
     ]
    }
   ],
   "source": [
    "%cd ../.."
   ]
  },
  {
   "cell_type": "code",
   "execution_count": null,
   "id": "88aaf15a",
   "metadata": {},
   "outputs": [],
   "source": [
    "!rm v2.zip"
   ]
  },
  {
   "cell_type": "code",
   "execution_count": null,
   "id": "48d4755c",
   "metadata": {},
   "outputs": [],
   "source": [
    "!zip -r v3.zip v3 \\\n",
    "-x 'v2/data/*' \\\n",
    "-x 'v2/.ipynb_checkpoints/*' \\\n",
    "-x 'v2/.git/*'"
   ]
  },
  {
   "cell_type": "code",
   "execution_count": null,
   "id": "99610427",
   "metadata": {},
   "outputs": [],
   "source": []
  },
  {
   "cell_type": "code",
   "execution_count": null,
   "id": "e5905eb8",
   "metadata": {},
   "outputs": [],
   "source": []
  },
  {
   "cell_type": "code",
   "execution_count": null,
   "id": "26041308",
   "metadata": {},
   "outputs": [],
   "source": []
  }
 ],
 "metadata": {
  "kernelspec": {
   "display_name": "Python 3 (ipykernel)",
   "language": "python",
   "name": "python3"
  },
  "language_info": {
   "codemirror_mode": {
    "name": "ipython",
    "version": 3
   },
   "file_extension": ".py",
   "mimetype": "text/x-python",
   "name": "python",
   "nbconvert_exporter": "python",
   "pygments_lexer": "ipython3",
   "version": "3.9.7"
  }
 },
 "nbformat": 4,
 "nbformat_minor": 5
}
