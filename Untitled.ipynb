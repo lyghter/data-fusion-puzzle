{
 "cells": [
  {
   "cell_type": "code",
   "execution_count": null,
   "id": "4a89c65c",
   "metadata": {},
   "outputs": [],
   "source": []
  },
  {
   "cell_type": "code",
   "execution_count": 2,
   "id": "93281029",
   "metadata": {},
   "outputs": [],
   "source": [
    "import numpy as np"
   ]
  },
  {
   "cell_type": "code",
   "execution_count": 23,
   "id": "c502fde7",
   "metadata": {},
   "outputs": [],
   "source": [
    "from pytorch_metric_learning import losses, miners, distances"
   ]
  },
  {
   "cell_type": "code",
   "execution_count": 24,
   "id": "931b7c76",
   "metadata": {},
   "outputs": [],
   "source": [
    "d=distances.LpDistance(\n",
    "                normalize_embeddings = True, \n",
    "                p = 2, \n",
    "                power = 1,\n",
    "            )"
   ]
  },
  {
   "cell_type": "code",
   "execution_count": 19,
   "id": "40f65b06",
   "metadata": {},
   "outputs": [],
   "source": [
    "import torch"
   ]
  },
  {
   "cell_type": "code",
   "execution_count": 26,
   "id": "8f58e253",
   "metadata": {},
   "outputs": [],
   "source": [
    "x1=torch.Tensor([[1,2],[3,4],[5,6]])"
   ]
  },
  {
   "cell_type": "code",
   "execution_count": 27,
   "id": "6ef884d5",
   "metadata": {},
   "outputs": [],
   "source": [
    "x2=torch.Tensor([[1,2],[3,4]])"
   ]
  },
  {
   "cell_type": "code",
   "execution_count": 28,
   "id": "67cd8e93",
   "metadata": {},
   "outputs": [
    {
     "data": {
      "text/plain": [
       "tensor([[0.0000, 0.1796],\n",
       "        [0.1796, 0.0000],\n",
       "        [0.2306, 0.0512]])"
      ]
     },
     "execution_count": 28,
     "metadata": {},
     "output_type": "execute_result"
    }
   ],
   "source": [
    "d(x1,x2)"
   ]
  },
  {
   "cell_type": "code",
   "execution_count": null,
   "id": "b238c729",
   "metadata": {},
   "outputs": [],
   "source": []
  },
  {
   "cell_type": "code",
   "execution_count": null,
   "id": "2d738e40",
   "metadata": {},
   "outputs": [],
   "source": []
  },
  {
   "cell_type": "code",
   "execution_count": 4,
   "id": "031fc302",
   "metadata": {},
   "outputs": [
    {
     "data": {
      "text/plain": [
       "array([ True, False])"
      ]
     },
     "execution_count": 4,
     "metadata": {},
     "output_type": "execute_result"
    }
   ],
   "source": [
    "np.array(['a','b'])=='a'"
   ]
  },
  {
   "cell_type": "code",
   "execution_count": 10,
   "id": "8b66e748",
   "metadata": {},
   "outputs": [
    {
     "name": "stdout",
     "output_type": "stream",
     "text": [
      "M\tUntitled.ipynb\n",
      "M\tlib/data/encoder/event.py\n",
      "M\tlib/data/encoder/uid.py\n",
      "M\tlib/run/estimator.py\n",
      "Already on 'dev'\n",
      "Your branch is up to date with 'origin/dev'.\n"
     ]
    }
   ],
   "source": [
    "!git checkout dev"
   ]
  },
  {
   "cell_type": "code",
   "execution_count": 11,
   "id": "afff8a89",
   "metadata": {},
   "outputs": [],
   "source": [
    "!git config --global user.email \"lyghter@ya.ru\"\n",
    "!git config --global user.name \"lyghter\""
   ]
  },
  {
   "cell_type": "code",
   "execution_count": 12,
   "id": "04b8a939",
   "metadata": {},
   "outputs": [],
   "source": [
    "!git add ."
   ]
  },
  {
   "cell_type": "code",
   "execution_count": 13,
   "id": "d85fc076",
   "metadata": {},
   "outputs": [
    {
     "name": "stdout",
     "output_type": "stream",
     "text": [
      "[dev fb813e3] .\n",
      " 13 files changed, 356 insertions(+), 5 deletions(-)\n",
      " create mode 100644 json/event_i2v.json\n",
      " create mode 100644 json/event_v2i.json\n",
      " create mode 100644 json/uid_i2v.json\n",
      " create mode 100644 json/uid_v2i.json\n",
      " create mode 100644 lib/data/splitter/sequential2.py\n",
      " create mode 100644 lib/run/main.py\n",
      " create mode 100644 metadata.json\n",
      " create mode 100644 run.py\n",
      " create mode 100644 run.sh\n"
     ]
    }
   ],
   "source": [
    "!git commit -am ."
   ]
  },
  {
   "cell_type": "code",
   "execution_count": 14,
   "id": "9caec6d7",
   "metadata": {},
   "outputs": [
    {
     "name": "stdout",
     "output_type": "stream",
     "text": [
      "Counting objects: 21, done.\n",
      "Delta compression using up to 8 threads.\n",
      "Compressing objects: 100% (21/21), done.\n",
      "Writing objects: 100% (21/21), 1.01 MiB | 4.72 MiB/s, done.\n",
      "Total 21 (delta 6), reused 0 (delta 0)\n",
      "remote: Resolving deltas: 100% (6/6), completed with 5 local objects.\u001b[K\n",
      "To https://github.com/lyghter/data-fusion-puzzle\n",
      "   57179f5..fb813e3  dev -> dev\n"
     ]
    }
   ],
   "source": [
    "!git push"
   ]
  },
  {
   "cell_type": "code",
   "execution_count": null,
   "id": "cdcfc089",
   "metadata": {},
   "outputs": [],
   "source": []
  }
 ],
 "metadata": {
  "kernelspec": {
   "display_name": "Python 3 (ipykernel)",
   "language": "python",
   "name": "python3"
  },
  "language_info": {
   "codemirror_mode": {
    "name": "ipython",
    "version": 3
   },
   "file_extension": ".py",
   "mimetype": "text/x-python",
   "name": "python",
   "nbconvert_exporter": "python",
   "pygments_lexer": "ipython3",
   "version": "3.9.7"
  }
 },
 "nbformat": 4,
 "nbformat_minor": 5
}
