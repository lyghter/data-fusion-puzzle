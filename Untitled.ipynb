{
 "cells": [
  {
   "cell_type": "code",
   "execution_count": null,
   "id": "0745a50c",
   "metadata": {},
   "outputs": [],
   "source": []
  },
  {
   "cell_type": "code",
   "execution_count": null,
   "id": "9dedc72f",
   "metadata": {},
   "outputs": [],
   "source": []
  },
  {
   "cell_type": "code",
   "execution_count": 10,
   "id": "a9867e91",
   "metadata": {},
   "outputs": [
    {
     "name": "stdout",
     "output_type": "stream",
     "text": [
      "M\tUntitled.ipynb\n",
      "M\tlib/data/encoder/event.py\n",
      "M\tlib/data/encoder/uid.py\n",
      "M\tlib/run/estimator.py\n",
      "Already on 'dev'\n",
      "Your branch is up to date with 'origin/dev'.\n"
     ]
    }
   ],
   "source": [
    "!git checkout dev"
   ]
  },
  {
   "cell_type": "code",
   "execution_count": 11,
   "id": "8c0300a0",
   "metadata": {},
   "outputs": [],
   "source": [
    "!git config --global user.email \"lyghter@ya.ru\"\n",
    "!git config --global user.name \"lyghter\""
   ]
  },
  {
   "cell_type": "code",
   "execution_count": 12,
   "id": "bcf77c41",
   "metadata": {},
   "outputs": [],
   "source": [
    "!git add ."
   ]
  },
  {
   "cell_type": "code",
   "execution_count": 13,
   "id": "4d3f5ee6",
   "metadata": {},
   "outputs": [
    {
     "name": "stdout",
     "output_type": "stream",
     "text": [
      "[dev fb813e3] .\n",
      " 13 files changed, 356 insertions(+), 5 deletions(-)\n",
      " create mode 100644 json/event_i2v.json\n",
      " create mode 100644 json/event_v2i.json\n",
      " create mode 100644 json/uid_i2v.json\n",
      " create mode 100644 json/uid_v2i.json\n",
      " create mode 100644 lib/data/splitter/sequential2.py\n",
      " create mode 100644 lib/run/main.py\n",
      " create mode 100644 metadata.json\n",
      " create mode 100644 run.py\n",
      " create mode 100644 run.sh\n"
     ]
    }
   ],
   "source": [
    "!git commit -am ."
   ]
  },
  {
   "cell_type": "code",
   "execution_count": 14,
   "id": "e399f4ff",
   "metadata": {},
   "outputs": [
    {
     "name": "stdout",
     "output_type": "stream",
     "text": [
      "Counting objects: 21, done.\n",
      "Delta compression using up to 8 threads.\n",
      "Compressing objects: 100% (21/21), done.\n",
      "Writing objects: 100% (21/21), 1.01 MiB | 4.72 MiB/s, done.\n",
      "Total 21 (delta 6), reused 0 (delta 0)\n",
      "remote: Resolving deltas: 100% (6/6), completed with 5 local objects.\u001b[K\n",
      "To https://github.com/lyghter/data-fusion-puzzle\n",
      "   57179f5..fb813e3  dev -> dev\n"
     ]
    }
   ],
   "source": [
    "!git push"
   ]
  },
  {
   "cell_type": "code",
   "execution_count": null,
   "id": "515ce684",
   "metadata": {},
   "outputs": [],
   "source": []
  }
 ],
 "metadata": {
  "kernelspec": {
   "display_name": "Python 3 (ipykernel)",
   "language": "python",
   "name": "python3"
  },
  "language_info": {
   "codemirror_mode": {
    "name": "ipython",
    "version": 3
   },
   "file_extension": ".py",
   "mimetype": "text/x-python",
   "name": "python",
   "nbconvert_exporter": "python",
   "pygments_lexer": "ipython3",
   "version": "3.9.7"
  }
 },
 "nbformat": 4,
 "nbformat_minor": 5
}
